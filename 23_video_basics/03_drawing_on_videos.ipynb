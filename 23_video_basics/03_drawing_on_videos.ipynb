{
 "cells": [
  {
   "cell_type": "code",
   "execution_count": 5,
   "metadata": {
    "collapsed": true
   },
   "outputs": [],
   "source": [
    "import time\n",
    "\n",
    "import cv2.cv2 as cv2\n",
    "cap = cv2.VideoCapture('VID1.mp4')\n",
    "framerate = int(cap.get(cv2.CAP_PROP_FRAME_COUNT))\n",
    "width = int(cap.get(cv2.CAP_PROP_FRAME_WIDTH))\n",
    "height = int(cap.get(cv2.CAP_PROP_FRAME_HEIGHT))\n",
    "\n",
    "if not cap.isOpened():\n",
    "    print('Error, file not found or wrong codec used!')\n",
    "\n",
    "# x = width // 2 # result stays as integer\n",
    "# y = height // 2 # result stays as integer\n",
    "#\n",
    "# w = width // 4 # result stays as integer\n",
    "# h = height // 4 # result stays as integer\n",
    "\n",
    "## callback function rectangle\n",
    "def draw_rectangle(event, x,y, flags, param):\n",
    "    global pt1,pt2,topLeft_clicked,botRight_clicked\n",
    "    if event == cv2.EVENT_LBUTTONDOWN:\n",
    "        if topLeft_clicked and botRight_clicked:\n",
    "            # reset rectangle\n",
    "            pt1 = (0,0)\n",
    "            pt2 = (0,0)\n",
    "            topLeft_clicked = False\n",
    "            botRight_clicked = False\n",
    "        if not topLeft_clicked:\n",
    "            pt1 = (x,y)\n",
    "            topLeft_clicked = True\n",
    "        elif not botRight_clicked:\n",
    "            pt2 = (x,y)\n",
    "            botRight_clicked = True\n",
    "    pass\n",
    "\n",
    "## global variables\n",
    "pt1 = (0,0)\n",
    "pt2 = (0,0)\n",
    "topLeft_clicked = False\n",
    "botRight_clicked = False\n",
    "\n",
    "## connect to callback\n",
    "cv2.namedWindow('Test')\n",
    "cv2.setMouseCallback('Test',draw_rectangle)\n",
    "\n",
    "while cap.isOpened():\n",
    "    ret,frame = cap.read()\n",
    "    if ret:\n",
    "        # time.sleep(1/framerate)\n",
    "        # cv2.rectangle(frame, (x,y), (x+w,y+h),color=(0,0,255),thickness=4)\n",
    "\n",
    "        ## draw rectangle\n",
    "        if topLeft_clicked:\n",
    "            cv2.circle(frame,center=pt1,radius=5,color=(0,0,255),thickness=-1)\n",
    "        if topLeft_clicked and botRight_clicked:\n",
    "            cv2.rectangle(frame,pt1,pt2,(0,0,255),3)\n",
    "\n",
    "        cv2.imshow('Test',frame)\n",
    "        if cv2.waitKey(10) & 0xFF == ord('q'):\n",
    "            break\n",
    "    else:\n",
    "        break\n",
    "cap.release()\n",
    "cv2.destroyAllWindows()\n"
   ]
  },
  {
   "cell_type": "code",
   "execution_count": null,
   "outputs": [],
   "source": [],
   "metadata": {
    "collapsed": false
   }
  }
 ],
 "metadata": {
  "kernelspec": {
   "display_name": "Python 3",
   "language": "python",
   "name": "python3"
  },
  "language_info": {
   "codemirror_mode": {
    "name": "ipython",
    "version": 2
   },
   "file_extension": ".py",
   "mimetype": "text/x-python",
   "name": "python",
   "nbconvert_exporter": "python",
   "pygments_lexer": "ipython2",
   "version": "2.7.6"
  }
 },
 "nbformat": 4,
 "nbformat_minor": 0
}
