{
 "cells": [
  {
   "cell_type": "code",
   "execution_count": 3,
   "metadata": {
    "collapsed": true
   },
   "outputs": [
    {
     "data": {
      "text/plain": "      TV  radio  newspaper  sales\n0  230.1   37.8       69.2   22.1\n1   44.5   39.3       45.1   10.4\n2   17.2   45.9       69.3    9.3\n3  151.5   41.3       58.5   18.5\n4  180.8   10.8       58.4   12.9",
      "text/html": "<div>\n<style scoped>\n    .dataframe tbody tr th:only-of-type {\n        vertical-align: middle;\n    }\n\n    .dataframe tbody tr th {\n        vertical-align: top;\n    }\n\n    .dataframe thead th {\n        text-align: right;\n    }\n</style>\n<table border=\"1\" class=\"dataframe\">\n  <thead>\n    <tr style=\"text-align: right;\">\n      <th></th>\n      <th>TV</th>\n      <th>radio</th>\n      <th>newspaper</th>\n      <th>sales</th>\n    </tr>\n  </thead>\n  <tbody>\n    <tr>\n      <th>0</th>\n      <td>230.1</td>\n      <td>37.8</td>\n      <td>69.2</td>\n      <td>22.1</td>\n    </tr>\n    <tr>\n      <th>1</th>\n      <td>44.5</td>\n      <td>39.3</td>\n      <td>45.1</td>\n      <td>10.4</td>\n    </tr>\n    <tr>\n      <th>2</th>\n      <td>17.2</td>\n      <td>45.9</td>\n      <td>69.3</td>\n      <td>9.3</td>\n    </tr>\n    <tr>\n      <th>3</th>\n      <td>151.5</td>\n      <td>41.3</td>\n      <td>58.5</td>\n      <td>18.5</td>\n    </tr>\n    <tr>\n      <th>4</th>\n      <td>180.8</td>\n      <td>10.8</td>\n      <td>58.4</td>\n      <td>12.9</td>\n    </tr>\n  </tbody>\n</table>\n</div>"
     },
     "execution_count": 3,
     "metadata": {},
     "output_type": "execute_result"
    }
   ],
   "source": [
    "import numpy as np\n",
    "import pandas as pd\n",
    "import matplotlib.pyplot as plt\n",
    "import seaborn as sns\n",
    "\n",
    "df = pd.read_csv('../course_notebooks/DATA/Advertising.csv')\n",
    "df.head()"
   ]
  },
  {
   "cell_type": "code",
   "execution_count": 5,
   "outputs": [],
   "source": [
    "x = df.drop('sales',axis=1)\n",
    "y = df['sales']"
   ],
   "metadata": {
    "collapsed": false
   }
  },
  {
   "cell_type": "code",
   "execution_count": 17,
   "outputs": [
    {
     "name": "stdout",
     "output_type": "stream",
     "text": [
      "2.3006527003563217\n",
      "2.3190215794287514\n",
      "2.5821864723922543\n",
      "7.341775789034128\n"
     ]
    }
   ],
   "source": [
    "from sklearn.model_selection import train_test_split\n",
    "x_train, x_test, y_train, y_test = train_test_split(x,y,test_size=0.3,random_state=101)\n",
    "from sklearn.preprocessing import StandardScaler\n",
    "scaler = StandardScaler()\n",
    "scaler.fit(x_train)\n",
    "x_train = scaler.transform(x_train)\n",
    "x_test = scaler.transform(x_test)\n",
    "from sklearn.linear_model import Ridge\n",
    "for alpha in (0.1, 1, 10, 100):\n",
    "    ridge = Ridge(alpha=alpha)\n",
    "    ridge.fit(x_train,y_train)\n",
    "    y_pred = ridge.predict(x_test)\n",
    "    from sklearn.metrics import mean_squared_error\n",
    "    print(mean_squared_error(y_test,y_pred))"
   ],
   "metadata": {
    "collapsed": false
   }
  },
  {
   "cell_type": "code",
   "execution_count": null,
   "outputs": [],
   "source": [],
   "metadata": {
    "collapsed": false
   }
  },
  {
   "cell_type": "code",
   "execution_count": null,
   "outputs": [],
   "source": [],
   "metadata": {
    "collapsed": false
   }
  },
  {
   "cell_type": "code",
   "execution_count": null,
   "outputs": [],
   "source": [],
   "metadata": {
    "collapsed": false
   }
  },
  {
   "cell_type": "code",
   "execution_count": 19,
   "outputs": [
    {
     "name": "stdout",
     "output_type": "stream",
     "text": [
      "0.1 alpha mean squared error: 2.3591341032824715\n",
      "1 alpha mean squared error: 2.3837830750569853\n",
      "10 alpha mean squared error: 2.692988832941702\n",
      "100 alpha mean squared error: 7.320101458823869\n"
     ]
    }
   ],
   "source": [
    "x_train, x_other, y_train, y_other = train_test_split(x,y,test_size=0.3,random_state=101)\n",
    "x_validation, x_test, y_validation, y_test = train_test_split(x_other,y_other,test_size=0.5,random_state=101)\n",
    "scaler = StandardScaler()\n",
    "scaler.fit(x_train)\n",
    "x_train = scaler.transform(x_train)\n",
    "x_validation = scaler.transform(x_validation)\n",
    "x_test = scaler.transform(x_test)\n",
    "for alpha in (0.1, 1, 10, 100):\n",
    "    ridge = Ridge(alpha=alpha)\n",
    "    ridge.fit(x_train,y_train)\n",
    "    y_pred = ridge.predict(x_validation)\n",
    "    print('{} alpha mean squared error: {}'.format(alpha,mean_squared_error(y_validation,y_pred)))"
   ],
   "metadata": {
    "collapsed": false
   }
  },
  {
   "cell_type": "code",
   "execution_count": 21,
   "outputs": [
    {
     "data": {
      "text/plain": "2.242171297430173"
     },
     "execution_count": 21,
     "metadata": {},
     "output_type": "execute_result"
    }
   ],
   "source": [
    "test_ridge = Ridge(alpha=0.1)\n",
    "test_ridge.fit(x_train,y_train)\n",
    "y_test_pred = test_ridge.predict(x_test)\n",
    "mean_squared_error(y_test,y_test_pred)"
   ],
   "metadata": {
    "collapsed": false
   }
  },
  {
   "cell_type": "code",
   "execution_count": null,
   "outputs": [],
   "source": [],
   "metadata": {
    "collapsed": false
   }
  },
  {
   "cell_type": "code",
   "execution_count": null,
   "outputs": [],
   "source": [],
   "metadata": {
    "collapsed": false
   }
  },
  {
   "cell_type": "code",
   "execution_count": null,
   "outputs": [],
   "source": [],
   "metadata": {
    "collapsed": false
   }
  },
  {
   "cell_type": "code",
   "execution_count": 32,
   "outputs": [
    {
     "name": "stdout",
     "output_type": "stream",
     "text": [
      "[ -8.29632369  -5.84976561 -11.1266442   -4.8936291   -6.97486627]\n",
      "7.428245773690085\n"
     ]
    }
   ],
   "source": [
    "x_train, x_test, y_train, y_test = train_test_split(x,y,test_size=0.15,random_state=101)\n",
    "scaler = StandardScaler()\n",
    "scaler.fit(x_train)\n",
    "x_train = scaler.transform(x_train)\n",
    "x_test = scaler.transform(x_test)\n",
    "model = Ridge(alpha=100)\n",
    "from sklearn.model_selection import cross_val_score\n",
    "scores = cross_val_score(model,x_train,y_train,scoring='neg_mean_squared_error',cv=5)\n",
    "print(scores)\n",
    "print(abs(scores.mean()))"
   ],
   "metadata": {
    "collapsed": false
   }
  },
  {
   "cell_type": "code",
   "execution_count": 33,
   "outputs": [
    {
     "name": "stdout",
     "output_type": "stream",
     "text": [
      "[-2.64965228 -3.08098594 -4.28180029 -1.77810706 -4.11052941]\n",
      "3.180214994900581\n"
     ]
    }
   ],
   "source": [
    "model = Ridge(alpha=1)\n",
    "scores = cross_val_score(model,x_train,y_train,scoring='neg_mean_squared_error',cv=5)\n",
    "print(scores)\n",
    "print(abs(scores.mean()))"
   ],
   "metadata": {
    "collapsed": false
   }
  },
  {
   "cell_type": "code",
   "execution_count": 34,
   "outputs": [
    {
     "data": {
      "text/plain": "2.0028655043631196"
     },
     "execution_count": 34,
     "metadata": {},
     "output_type": "execute_result"
    }
   ],
   "source": [
    "model.fit(x_train,y_train)\n",
    "test_pred = model.predict(x_test)\n",
    "mean_squared_error(y_test,test_pred)"
   ],
   "metadata": {
    "collapsed": false
   }
  },
  {
   "cell_type": "code",
   "execution_count": null,
   "outputs": [],
   "source": [],
   "metadata": {
    "collapsed": false
   }
  },
  {
   "cell_type": "code",
   "execution_count": null,
   "outputs": [],
   "source": [],
   "metadata": {
    "collapsed": false
   }
  },
  {
   "cell_type": "code",
   "execution_count": null,
   "outputs": [],
   "source": [],
   "metadata": {
    "collapsed": false
   }
  },
  {
   "cell_type": "code",
   "execution_count": 35,
   "outputs": [],
   "source": [
    "x_train, x_test, y_train, y_test = train_test_split(x,y,test_size=0.15,random_state=101)\n",
    "scaler = StandardScaler()\n",
    "scaler.fit(x_train)\n",
    "x_train = scaler.transform(x_train)\n",
    "x_test = scaler.transform(x_test)"
   ],
   "metadata": {
    "collapsed": false
   }
  },
  {
   "cell_type": "code",
   "execution_count": 38,
   "outputs": [
    {
     "data": {
      "text/plain": "   fit_time  score_time  test_neg_mean_squared_error  \\\n0  0.000996    0.000997                    -6.553554   \n1  0.000998    0.000000                    -8.998408   \n2  0.001023    0.000970                    -6.957351   \n3  0.000997    0.000000                    -3.735880   \n4  0.000546    0.000000                    -4.093983   \n5  0.000996    0.000000                   -15.585636   \n6  0.000996    0.000000                    -4.882053   \n7  0.000998    0.000997                    -4.063904   \n8  0.000997    0.000998                    -5.738289   \n9  0.000996    0.001018                    -6.654925   \n\n   test_neg_mean_absolute_error  \n0                     -1.897537  \n1                     -2.231918  \n2                     -1.929776  \n3                     -1.449861  \n4                     -1.466699  \n5                     -3.185306  \n6                     -1.736908  \n7                     -1.441886  \n8                     -2.003983  \n9                     -1.871272  ",
      "text/html": "<div>\n<style scoped>\n    .dataframe tbody tr th:only-of-type {\n        vertical-align: middle;\n    }\n\n    .dataframe tbody tr th {\n        vertical-align: top;\n    }\n\n    .dataframe thead th {\n        text-align: right;\n    }\n</style>\n<table border=\"1\" class=\"dataframe\">\n  <thead>\n    <tr style=\"text-align: right;\">\n      <th></th>\n      <th>fit_time</th>\n      <th>score_time</th>\n      <th>test_neg_mean_squared_error</th>\n      <th>test_neg_mean_absolute_error</th>\n    </tr>\n  </thead>\n  <tbody>\n    <tr>\n      <th>0</th>\n      <td>0.000996</td>\n      <td>0.000997</td>\n      <td>-6.553554</td>\n      <td>-1.897537</td>\n    </tr>\n    <tr>\n      <th>1</th>\n      <td>0.000998</td>\n      <td>0.000000</td>\n      <td>-8.998408</td>\n      <td>-2.231918</td>\n    </tr>\n    <tr>\n      <th>2</th>\n      <td>0.001023</td>\n      <td>0.000970</td>\n      <td>-6.957351</td>\n      <td>-1.929776</td>\n    </tr>\n    <tr>\n      <th>3</th>\n      <td>0.000997</td>\n      <td>0.000000</td>\n      <td>-3.735880</td>\n      <td>-1.449861</td>\n    </tr>\n    <tr>\n      <th>4</th>\n      <td>0.000546</td>\n      <td>0.000000</td>\n      <td>-4.093983</td>\n      <td>-1.466699</td>\n    </tr>\n    <tr>\n      <th>5</th>\n      <td>0.000996</td>\n      <td>0.000000</td>\n      <td>-15.585636</td>\n      <td>-3.185306</td>\n    </tr>\n    <tr>\n      <th>6</th>\n      <td>0.000996</td>\n      <td>0.000000</td>\n      <td>-4.882053</td>\n      <td>-1.736908</td>\n    </tr>\n    <tr>\n      <th>7</th>\n      <td>0.000998</td>\n      <td>0.000997</td>\n      <td>-4.063904</td>\n      <td>-1.441886</td>\n    </tr>\n    <tr>\n      <th>8</th>\n      <td>0.000997</td>\n      <td>0.000998</td>\n      <td>-5.738289</td>\n      <td>-2.003983</td>\n    </tr>\n    <tr>\n      <th>9</th>\n      <td>0.000996</td>\n      <td>0.001018</td>\n      <td>-6.654925</td>\n      <td>-1.871272</td>\n    </tr>\n  </tbody>\n</table>\n</div>"
     },
     "execution_count": 38,
     "metadata": {},
     "output_type": "execute_result"
    }
   ],
   "source": [
    "from sklearn.model_selection import cross_validate\n",
    "model = Ridge(alpha=100)\n",
    "scores = cross_validate(model,x_train,y_train,scoring=['neg_mean_squared_error','neg_mean_absolute_error'],cv=10)\n",
    "scores = pd.DataFrame(scores)\n",
    "scores"
   ],
   "metadata": {
    "collapsed": false
   }
  },
  {
   "cell_type": "code",
   "execution_count": 39,
   "outputs": [
    {
     "data": {
      "text/plain": "fit_time                        0.000954\nscore_time                      0.000498\ntest_neg_mean_squared_error    -6.726398\ntest_neg_mean_absolute_error   -1.921515\ndtype: float64"
     },
     "execution_count": 39,
     "metadata": {},
     "output_type": "execute_result"
    }
   ],
   "source": [
    "scores.mean()"
   ],
   "metadata": {
    "collapsed": false
   }
  },
  {
   "cell_type": "code",
   "execution_count": 40,
   "outputs": [
    {
     "data": {
      "text/plain": "fit_time                        0.001099\nscore_time                      0.000499\ntest_neg_mean_squared_error    -3.148981\ntest_neg_mean_absolute_error   -1.342045\ndtype: float64"
     },
     "execution_count": 40,
     "metadata": {},
     "output_type": "execute_result"
    }
   ],
   "source": [
    "scores = pd.DataFrame(cross_validate(Ridge(alpha=1),x_train,y_train,scoring=['neg_mean_squared_error','neg_mean_absolute_error'],cv=10))\n",
    "scores.mean()"
   ],
   "metadata": {
    "collapsed": false
   }
  },
  {
   "cell_type": "code",
   "execution_count": 42,
   "outputs": [
    {
     "data": {
      "text/plain": "2.0028655043631196"
     },
     "execution_count": 42,
     "metadata": {},
     "output_type": "execute_result"
    }
   ],
   "source": [
    "model = Ridge(alpha=1)\n",
    "model.fit(x_train,y_train)\n",
    "test_pred = model.predict(x_test)\n",
    "mean_squared_error(y_test,test_pred)\n"
   ],
   "metadata": {
    "collapsed": false
   }
  }
 ],
 "metadata": {
  "kernelspec": {
   "display_name": "Python 3",
   "language": "python",
   "name": "python3"
  },
  "language_info": {
   "codemirror_mode": {
    "name": "ipython",
    "version": 2
   },
   "file_extension": ".py",
   "mimetype": "text/x-python",
   "name": "python",
   "nbconvert_exporter": "python",
   "pygments_lexer": "ipython2",
   "version": "2.7.6"
  }
 },
 "nbformat": 4,
 "nbformat_minor": 0
}
