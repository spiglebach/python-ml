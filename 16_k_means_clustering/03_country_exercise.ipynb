{
 "cells": [
  {
   "cell_type": "code",
   "execution_count": 1,
   "metadata": {
    "collapsed": true
   },
   "outputs": [
    {
     "data": {
      "text/plain": "          Country                               Region  Population  \\\n0     Afghanistan        ASIA (EX. NEAR EAST)             31056997   \n1         Albania  EASTERN EUROPE                          3581655   \n2         Algeria  NORTHERN AFRICA                        32930091   \n3  American Samoa  OCEANIA                                   57794   \n4         Andorra  WESTERN EUROPE                            71201   \n\n   Area (sq. mi.)  Pop. Density (per sq. mi.)  Coastline (coast/area ratio)  \\\n0          647500                        48.0                          0.00   \n1           28748                       124.6                          1.26   \n2         2381740                        13.8                          0.04   \n3             199                       290.4                         58.29   \n4             468                       152.1                          0.00   \n\n   Net migration  Infant mortality (per 1000 births)  GDP ($ per capita)  \\\n0          23.06                              163.07               700.0   \n1          -4.93                               21.52              4500.0   \n2          -0.39                               31.00              6000.0   \n3         -20.71                                9.27              8000.0   \n4           6.60                                4.05             19000.0   \n\n   Literacy (%)  Phones (per 1000)  Arable (%)  Crops (%)  Other (%)  Climate  \\\n0          36.0                3.2       12.13       0.22      87.65      1.0   \n1          86.5               71.2       21.09       4.42      74.49      3.0   \n2          70.0               78.1        3.22       0.25      96.53      1.0   \n3          97.0              259.5       10.00      15.00      75.00      2.0   \n4         100.0              497.2        2.22       0.00      97.78      3.0   \n\n   Birthrate  Deathrate  Agriculture  Industry  Service  \n0      46.60      20.34        0.380     0.240    0.380  \n1      15.11       5.22        0.232     0.188    0.579  \n2      17.14       4.61        0.101     0.600    0.298  \n3      22.46       3.27          NaN       NaN      NaN  \n4       8.71       6.25          NaN       NaN      NaN  ",
      "text/html": "<div>\n<style scoped>\n    .dataframe tbody tr th:only-of-type {\n        vertical-align: middle;\n    }\n\n    .dataframe tbody tr th {\n        vertical-align: top;\n    }\n\n    .dataframe thead th {\n        text-align: right;\n    }\n</style>\n<table border=\"1\" class=\"dataframe\">\n  <thead>\n    <tr style=\"text-align: right;\">\n      <th></th>\n      <th>Country</th>\n      <th>Region</th>\n      <th>Population</th>\n      <th>Area (sq. mi.)</th>\n      <th>Pop. Density (per sq. mi.)</th>\n      <th>Coastline (coast/area ratio)</th>\n      <th>Net migration</th>\n      <th>Infant mortality (per 1000 births)</th>\n      <th>GDP ($ per capita)</th>\n      <th>Literacy (%)</th>\n      <th>Phones (per 1000)</th>\n      <th>Arable (%)</th>\n      <th>Crops (%)</th>\n      <th>Other (%)</th>\n      <th>Climate</th>\n      <th>Birthrate</th>\n      <th>Deathrate</th>\n      <th>Agriculture</th>\n      <th>Industry</th>\n      <th>Service</th>\n    </tr>\n  </thead>\n  <tbody>\n    <tr>\n      <th>0</th>\n      <td>Afghanistan</td>\n      <td>ASIA (EX. NEAR EAST)</td>\n      <td>31056997</td>\n      <td>647500</td>\n      <td>48.0</td>\n      <td>0.00</td>\n      <td>23.06</td>\n      <td>163.07</td>\n      <td>700.0</td>\n      <td>36.0</td>\n      <td>3.2</td>\n      <td>12.13</td>\n      <td>0.22</td>\n      <td>87.65</td>\n      <td>1.0</td>\n      <td>46.60</td>\n      <td>20.34</td>\n      <td>0.380</td>\n      <td>0.240</td>\n      <td>0.380</td>\n    </tr>\n    <tr>\n      <th>1</th>\n      <td>Albania</td>\n      <td>EASTERN EUROPE</td>\n      <td>3581655</td>\n      <td>28748</td>\n      <td>124.6</td>\n      <td>1.26</td>\n      <td>-4.93</td>\n      <td>21.52</td>\n      <td>4500.0</td>\n      <td>86.5</td>\n      <td>71.2</td>\n      <td>21.09</td>\n      <td>4.42</td>\n      <td>74.49</td>\n      <td>3.0</td>\n      <td>15.11</td>\n      <td>5.22</td>\n      <td>0.232</td>\n      <td>0.188</td>\n      <td>0.579</td>\n    </tr>\n    <tr>\n      <th>2</th>\n      <td>Algeria</td>\n      <td>NORTHERN AFRICA</td>\n      <td>32930091</td>\n      <td>2381740</td>\n      <td>13.8</td>\n      <td>0.04</td>\n      <td>-0.39</td>\n      <td>31.00</td>\n      <td>6000.0</td>\n      <td>70.0</td>\n      <td>78.1</td>\n      <td>3.22</td>\n      <td>0.25</td>\n      <td>96.53</td>\n      <td>1.0</td>\n      <td>17.14</td>\n      <td>4.61</td>\n      <td>0.101</td>\n      <td>0.600</td>\n      <td>0.298</td>\n    </tr>\n    <tr>\n      <th>3</th>\n      <td>American Samoa</td>\n      <td>OCEANIA</td>\n      <td>57794</td>\n      <td>199</td>\n      <td>290.4</td>\n      <td>58.29</td>\n      <td>-20.71</td>\n      <td>9.27</td>\n      <td>8000.0</td>\n      <td>97.0</td>\n      <td>259.5</td>\n      <td>10.00</td>\n      <td>15.00</td>\n      <td>75.00</td>\n      <td>2.0</td>\n      <td>22.46</td>\n      <td>3.27</td>\n      <td>NaN</td>\n      <td>NaN</td>\n      <td>NaN</td>\n    </tr>\n    <tr>\n      <th>4</th>\n      <td>Andorra</td>\n      <td>WESTERN EUROPE</td>\n      <td>71201</td>\n      <td>468</td>\n      <td>152.1</td>\n      <td>0.00</td>\n      <td>6.60</td>\n      <td>4.05</td>\n      <td>19000.0</td>\n      <td>100.0</td>\n      <td>497.2</td>\n      <td>2.22</td>\n      <td>0.00</td>\n      <td>97.78</td>\n      <td>3.0</td>\n      <td>8.71</td>\n      <td>6.25</td>\n      <td>NaN</td>\n      <td>NaN</td>\n      <td>NaN</td>\n    </tr>\n  </tbody>\n</table>\n</div>"
     },
     "execution_count": 1,
     "metadata": {},
     "output_type": "execute_result"
    }
   ],
   "source": [
    "import numpy as np\n",
    "import pandas as pd\n",
    "import matplotlib.pyplot as plt\n",
    "import seaborn as sns\n",
    "df = pd.read_csv('../course_notebooks/DATA/CIA_Country_Facts.csv')\n",
    "df.head()\n"
   ]
  },
  {
   "cell_type": "code",
   "execution_count": 4,
   "outputs": [
    {
     "data": {
      "text/plain": "Climate                               22\nLiteracy (%)                          18\nIndustry                              16\nService                               15\nAgriculture                           15\nDeathrate                              4\nPhones (per 1000)                      4\nInfant mortality (per 1000 births)     3\nNet migration                          3\nBirthrate                              3\nArable (%)                             2\nCrops (%)                              2\nOther (%)                              2\nGDP ($ per capita)                     1\nRegion                                 0\nCoastline (coast/area ratio)           0\nPop. Density (per sq. mi.)             0\nArea (sq. mi.)                         0\nPopulation                             0\nCountry                                0\ndtype: int64"
     },
     "execution_count": 4,
     "metadata": {},
     "output_type": "execute_result"
    }
   ],
   "source": [
    "df.isnull().sum().sort_values(ascending=False)"
   ],
   "metadata": {
    "collapsed": false
   }
  },
  {
   "cell_type": "code",
   "execution_count": 5,
   "outputs": [
    {
     "data": {
      "text/plain": "3            American Samoa\n4                   Andorra\n78                Gibraltar\n80                Greenland\n83                     Guam\n134                 Mayotte\n140              Montserrat\n144                   Nauru\n153      N. Mariana Islands\n171            Saint Helena\n174    St Pierre & Miquelon\n177              San Marino\n208       Turks & Caicos Is\n221       Wallis and Futuna\n223          Western Sahara\nName: Country, dtype: object"
     },
     "execution_count": 5,
     "metadata": {},
     "output_type": "execute_result"
    }
   ],
   "source": [
    "df[df['Agriculture'].isnull()]['Country']"
   ],
   "metadata": {
    "collapsed": false
   }
  },
  {
   "cell_type": "code",
   "execution_count": 6,
   "outputs": [],
   "source": [
    "# REMOVAL OF TINY ISLANDS\n",
    "df[df['Agriculture'].isnull()] = df[df['Agriculture'].isnull()].fillna(0)"
   ],
   "metadata": {
    "collapsed": false
   }
  },
  {
   "cell_type": "code",
   "execution_count": 7,
   "outputs": [
    {
     "data": {
      "text/plain": "Climate                               18\nLiteracy (%)                          13\nPhones (per 1000)                      2\nDeathrate                              2\nIndustry                               1\nBirthrate                              1\nOther (%)                              1\nCrops (%)                              1\nArable (%)                             1\nService                                1\nInfant mortality (per 1000 births)     1\nNet migration                          1\nRegion                                 0\nGDP ($ per capita)                     0\nCoastline (coast/area ratio)           0\nPop. Density (per sq. mi.)             0\nArea (sq. mi.)                         0\nAgriculture                            0\nPopulation                             0\nCountry                                0\ndtype: int64"
     },
     "execution_count": 7,
     "metadata": {},
     "output_type": "execute_result"
    }
   ],
   "source": [
    "df.isnull().sum().sort_values(ascending=False)"
   ],
   "metadata": {
    "collapsed": false
   }
  },
  {
   "cell_type": "code",
   "execution_count": 8,
   "outputs": [
    {
     "data": {
      "text/plain": "Literacy (%)                          13\nPhones (per 1000)                      2\nDeathrate                              2\nIndustry                               1\nBirthrate                              1\nOther (%)                              1\nCrops (%)                              1\nArable (%)                             1\nService                                1\nInfant mortality (per 1000 births)     1\nNet migration                          1\nGDP ($ per capita)                     0\nRegion                                 0\nCoastline (coast/area ratio)           0\nClimate                                0\nPop. Density (per sq. mi.)             0\nArea (sq. mi.)                         0\nAgriculture                            0\nPopulation                             0\nCountry                                0\ndtype: int64"
     },
     "execution_count": 8,
     "metadata": {},
     "output_type": "execute_result"
    }
   ],
   "source": [
    "df['Climate'] = df['Climate'].fillna(df.groupby('Region')['Climate'].transform('mean'))\n",
    "df.isnull().sum().sort_values(ascending=False)"
   ],
   "metadata": {
    "collapsed": false
   }
  },
  {
   "cell_type": "code",
   "execution_count": 9,
   "outputs": [
    {
     "data": {
      "text/plain": "                  Country                               Region  Population  \\\n25   Bosnia & Herzegovina  EASTERN EUROPE                          4498976   \n66          Faroe Islands  WESTERN EUROPE                            47246   \n74             Gaza Strip  NEAR EAST                               1428757   \n85               Guernsey  WESTERN EUROPE                            65409   \n99            Isle of Man  WESTERN EUROPE                            75441   \n104                Jersey  WESTERN EUROPE                            91084   \n108              Kiribati  OCEANIA                                  105432   \n123             Macedonia  EASTERN EUROPE                          2050554   \n185              Slovakia  EASTERN EUROPE                          5439448   \n187       Solomon Islands  OCEANIA                                  552438   \n209                Tuvalu  OCEANIA                                   11810   \n220        Virgin Islands              LATIN AMER. & CARIB          108605   \n222             West Bank  NEAR EAST                               2460492   \n\n     Area (sq. mi.)  Pop. Density (per sq. mi.)  Coastline (coast/area ratio)  \\\n25            51129                        88.0                          0.04   \n66             1399                        33.8                         79.84   \n74              360                      3968.8                         11.11   \n85               78                       838.6                         64.10   \n99              572                       131.9                         27.97   \n104             116                       785.2                         60.34   \n108             811                       130.0                        140.94   \n123           25333                        80.9                          0.00   \n185           48845                       111.4                          0.00   \n187           28450                        19.4                         18.67   \n209              26                       454.2                         92.31   \n220            1910                        56.9                          9.84   \n222            5860                       419.9                          0.00   \n\n     Net migration  Infant mortality (per 1000 births)  GDP ($ per capita)  \\\n25            0.31                               21.05              6100.0   \n66            1.41                                6.24             22000.0   \n74            1.60                               22.93               600.0   \n85            3.84                                4.71             20000.0   \n99            5.36                                5.93             21000.0   \n104           2.76                                5.24             24800.0   \n108           0.00                               48.52               800.0   \n123          -1.45                               10.09              6700.0   \n185           0.30                                7.41             13300.0   \n187           0.00                               21.29              1700.0   \n209           0.00                               20.03              1100.0   \n220          -8.94                                8.03             17200.0   \n222           2.98                               19.62               800.0   \n\n     Literacy (%)  Phones (per 1000)  Arable (%)  Crops (%)  Other (%)  \\\n25            NaN              215.4       13.60       2.96      83.44   \n66            NaN              503.8        2.14       0.00      97.86   \n74            NaN              244.3       28.95      21.05      50.00   \n85            NaN              842.4         NaN        NaN        NaN   \n99            NaN              676.0        9.00       0.00      91.00   \n104           NaN              811.3        0.00       0.00     100.00   \n108           NaN               42.7        2.74      50.68      46.58   \n123           NaN              260.0       22.26       1.81      75.93   \n185           NaN              220.1       30.16       2.62      67.22   \n187           NaN               13.4        0.64       2.00      97.36   \n209           NaN               59.3        0.00       0.00     100.00   \n220           NaN              652.8       11.76       2.94      85.30   \n222           NaN              145.2       16.90      18.97      64.13   \n\n      Climate  Birthrate  Deathrate  Agriculture  Industry  Service  \n25   4.000000       8.77       8.27        0.142     0.308    0.550  \n66   2.826087      14.05       8.70        0.270     0.110    0.620  \n74   3.000000      39.45       3.80        0.030     0.283    0.687  \n85   3.000000       8.81      10.01        0.030     0.100    0.870  \n99   3.000000      11.05      11.19        0.010     0.130    0.860  \n104  3.000000       9.30       9.28        0.050     0.020    0.930  \n108  2.000000      30.65       8.26        0.089     0.242    0.668  \n123  3.000000      12.02       8.77        0.118     0.319    0.563  \n185  3.000000      10.65       9.45        0.035     0.294    0.672  \n187  2.000000      30.01       3.92        0.420     0.110    0.470  \n209  2.000000      22.18       7.11        0.166     0.272    0.562  \n220  2.000000      13.96       6.43        0.010     0.190    0.800  \n222  3.000000      31.67       3.92        0.090     0.280    0.630  ",
      "text/html": "<div>\n<style scoped>\n    .dataframe tbody tr th:only-of-type {\n        vertical-align: middle;\n    }\n\n    .dataframe tbody tr th {\n        vertical-align: top;\n    }\n\n    .dataframe thead th {\n        text-align: right;\n    }\n</style>\n<table border=\"1\" class=\"dataframe\">\n  <thead>\n    <tr style=\"text-align: right;\">\n      <th></th>\n      <th>Country</th>\n      <th>Region</th>\n      <th>Population</th>\n      <th>Area (sq. mi.)</th>\n      <th>Pop. Density (per sq. mi.)</th>\n      <th>Coastline (coast/area ratio)</th>\n      <th>Net migration</th>\n      <th>Infant mortality (per 1000 births)</th>\n      <th>GDP ($ per capita)</th>\n      <th>Literacy (%)</th>\n      <th>Phones (per 1000)</th>\n      <th>Arable (%)</th>\n      <th>Crops (%)</th>\n      <th>Other (%)</th>\n      <th>Climate</th>\n      <th>Birthrate</th>\n      <th>Deathrate</th>\n      <th>Agriculture</th>\n      <th>Industry</th>\n      <th>Service</th>\n    </tr>\n  </thead>\n  <tbody>\n    <tr>\n      <th>25</th>\n      <td>Bosnia &amp; Herzegovina</td>\n      <td>EASTERN EUROPE</td>\n      <td>4498976</td>\n      <td>51129</td>\n      <td>88.0</td>\n      <td>0.04</td>\n      <td>0.31</td>\n      <td>21.05</td>\n      <td>6100.0</td>\n      <td>NaN</td>\n      <td>215.4</td>\n      <td>13.60</td>\n      <td>2.96</td>\n      <td>83.44</td>\n      <td>4.000000</td>\n      <td>8.77</td>\n      <td>8.27</td>\n      <td>0.142</td>\n      <td>0.308</td>\n      <td>0.550</td>\n    </tr>\n    <tr>\n      <th>66</th>\n      <td>Faroe Islands</td>\n      <td>WESTERN EUROPE</td>\n      <td>47246</td>\n      <td>1399</td>\n      <td>33.8</td>\n      <td>79.84</td>\n      <td>1.41</td>\n      <td>6.24</td>\n      <td>22000.0</td>\n      <td>NaN</td>\n      <td>503.8</td>\n      <td>2.14</td>\n      <td>0.00</td>\n      <td>97.86</td>\n      <td>2.826087</td>\n      <td>14.05</td>\n      <td>8.70</td>\n      <td>0.270</td>\n      <td>0.110</td>\n      <td>0.620</td>\n    </tr>\n    <tr>\n      <th>74</th>\n      <td>Gaza Strip</td>\n      <td>NEAR EAST</td>\n      <td>1428757</td>\n      <td>360</td>\n      <td>3968.8</td>\n      <td>11.11</td>\n      <td>1.60</td>\n      <td>22.93</td>\n      <td>600.0</td>\n      <td>NaN</td>\n      <td>244.3</td>\n      <td>28.95</td>\n      <td>21.05</td>\n      <td>50.00</td>\n      <td>3.000000</td>\n      <td>39.45</td>\n      <td>3.80</td>\n      <td>0.030</td>\n      <td>0.283</td>\n      <td>0.687</td>\n    </tr>\n    <tr>\n      <th>85</th>\n      <td>Guernsey</td>\n      <td>WESTERN EUROPE</td>\n      <td>65409</td>\n      <td>78</td>\n      <td>838.6</td>\n      <td>64.10</td>\n      <td>3.84</td>\n      <td>4.71</td>\n      <td>20000.0</td>\n      <td>NaN</td>\n      <td>842.4</td>\n      <td>NaN</td>\n      <td>NaN</td>\n      <td>NaN</td>\n      <td>3.000000</td>\n      <td>8.81</td>\n      <td>10.01</td>\n      <td>0.030</td>\n      <td>0.100</td>\n      <td>0.870</td>\n    </tr>\n    <tr>\n      <th>99</th>\n      <td>Isle of Man</td>\n      <td>WESTERN EUROPE</td>\n      <td>75441</td>\n      <td>572</td>\n      <td>131.9</td>\n      <td>27.97</td>\n      <td>5.36</td>\n      <td>5.93</td>\n      <td>21000.0</td>\n      <td>NaN</td>\n      <td>676.0</td>\n      <td>9.00</td>\n      <td>0.00</td>\n      <td>91.00</td>\n      <td>3.000000</td>\n      <td>11.05</td>\n      <td>11.19</td>\n      <td>0.010</td>\n      <td>0.130</td>\n      <td>0.860</td>\n    </tr>\n    <tr>\n      <th>104</th>\n      <td>Jersey</td>\n      <td>WESTERN EUROPE</td>\n      <td>91084</td>\n      <td>116</td>\n      <td>785.2</td>\n      <td>60.34</td>\n      <td>2.76</td>\n      <td>5.24</td>\n      <td>24800.0</td>\n      <td>NaN</td>\n      <td>811.3</td>\n      <td>0.00</td>\n      <td>0.00</td>\n      <td>100.00</td>\n      <td>3.000000</td>\n      <td>9.30</td>\n      <td>9.28</td>\n      <td>0.050</td>\n      <td>0.020</td>\n      <td>0.930</td>\n    </tr>\n    <tr>\n      <th>108</th>\n      <td>Kiribati</td>\n      <td>OCEANIA</td>\n      <td>105432</td>\n      <td>811</td>\n      <td>130.0</td>\n      <td>140.94</td>\n      <td>0.00</td>\n      <td>48.52</td>\n      <td>800.0</td>\n      <td>NaN</td>\n      <td>42.7</td>\n      <td>2.74</td>\n      <td>50.68</td>\n      <td>46.58</td>\n      <td>2.000000</td>\n      <td>30.65</td>\n      <td>8.26</td>\n      <td>0.089</td>\n      <td>0.242</td>\n      <td>0.668</td>\n    </tr>\n    <tr>\n      <th>123</th>\n      <td>Macedonia</td>\n      <td>EASTERN EUROPE</td>\n      <td>2050554</td>\n      <td>25333</td>\n      <td>80.9</td>\n      <td>0.00</td>\n      <td>-1.45</td>\n      <td>10.09</td>\n      <td>6700.0</td>\n      <td>NaN</td>\n      <td>260.0</td>\n      <td>22.26</td>\n      <td>1.81</td>\n      <td>75.93</td>\n      <td>3.000000</td>\n      <td>12.02</td>\n      <td>8.77</td>\n      <td>0.118</td>\n      <td>0.319</td>\n      <td>0.563</td>\n    </tr>\n    <tr>\n      <th>185</th>\n      <td>Slovakia</td>\n      <td>EASTERN EUROPE</td>\n      <td>5439448</td>\n      <td>48845</td>\n      <td>111.4</td>\n      <td>0.00</td>\n      <td>0.30</td>\n      <td>7.41</td>\n      <td>13300.0</td>\n      <td>NaN</td>\n      <td>220.1</td>\n      <td>30.16</td>\n      <td>2.62</td>\n      <td>67.22</td>\n      <td>3.000000</td>\n      <td>10.65</td>\n      <td>9.45</td>\n      <td>0.035</td>\n      <td>0.294</td>\n      <td>0.672</td>\n    </tr>\n    <tr>\n      <th>187</th>\n      <td>Solomon Islands</td>\n      <td>OCEANIA</td>\n      <td>552438</td>\n      <td>28450</td>\n      <td>19.4</td>\n      <td>18.67</td>\n      <td>0.00</td>\n      <td>21.29</td>\n      <td>1700.0</td>\n      <td>NaN</td>\n      <td>13.4</td>\n      <td>0.64</td>\n      <td>2.00</td>\n      <td>97.36</td>\n      <td>2.000000</td>\n      <td>30.01</td>\n      <td>3.92</td>\n      <td>0.420</td>\n      <td>0.110</td>\n      <td>0.470</td>\n    </tr>\n    <tr>\n      <th>209</th>\n      <td>Tuvalu</td>\n      <td>OCEANIA</td>\n      <td>11810</td>\n      <td>26</td>\n      <td>454.2</td>\n      <td>92.31</td>\n      <td>0.00</td>\n      <td>20.03</td>\n      <td>1100.0</td>\n      <td>NaN</td>\n      <td>59.3</td>\n      <td>0.00</td>\n      <td>0.00</td>\n      <td>100.00</td>\n      <td>2.000000</td>\n      <td>22.18</td>\n      <td>7.11</td>\n      <td>0.166</td>\n      <td>0.272</td>\n      <td>0.562</td>\n    </tr>\n    <tr>\n      <th>220</th>\n      <td>Virgin Islands</td>\n      <td>LATIN AMER. &amp; CARIB</td>\n      <td>108605</td>\n      <td>1910</td>\n      <td>56.9</td>\n      <td>9.84</td>\n      <td>-8.94</td>\n      <td>8.03</td>\n      <td>17200.0</td>\n      <td>NaN</td>\n      <td>652.8</td>\n      <td>11.76</td>\n      <td>2.94</td>\n      <td>85.30</td>\n      <td>2.000000</td>\n      <td>13.96</td>\n      <td>6.43</td>\n      <td>0.010</td>\n      <td>0.190</td>\n      <td>0.800</td>\n    </tr>\n    <tr>\n      <th>222</th>\n      <td>West Bank</td>\n      <td>NEAR EAST</td>\n      <td>2460492</td>\n      <td>5860</td>\n      <td>419.9</td>\n      <td>0.00</td>\n      <td>2.98</td>\n      <td>19.62</td>\n      <td>800.0</td>\n      <td>NaN</td>\n      <td>145.2</td>\n      <td>16.90</td>\n      <td>18.97</td>\n      <td>64.13</td>\n      <td>3.000000</td>\n      <td>31.67</td>\n      <td>3.92</td>\n      <td>0.090</td>\n      <td>0.280</td>\n      <td>0.630</td>\n    </tr>\n  </tbody>\n</table>\n</div>"
     },
     "execution_count": 9,
     "metadata": {},
     "output_type": "execute_result"
    }
   ],
   "source": [
    "df[df['Literacy (%)'].isnull()]"
   ],
   "metadata": {
    "collapsed": false
   }
  },
  {
   "cell_type": "code",
   "execution_count": 10,
   "outputs": [],
   "source": [
    "df['Literacy (%)'] = df['Literacy (%)'].fillna(df.groupby('Region')['Literacy (%)'].transform('mean'))"
   ],
   "metadata": {
    "collapsed": false
   }
  },
  {
   "cell_type": "code",
   "execution_count": 11,
   "outputs": [
    {
     "data": {
      "text/plain": "Phones (per 1000)                     2\nDeathrate                             2\nArable (%)                            1\nIndustry                              1\nBirthrate                             1\nOther (%)                             1\nCrops (%)                             1\nService                               1\nInfant mortality (per 1000 births)    1\nNet migration                         1\nGDP ($ per capita)                    0\nLiteracy (%)                          0\nRegion                                0\nCoastline (coast/area ratio)          0\nClimate                               0\nPop. Density (per sq. mi.)            0\nArea (sq. mi.)                        0\nAgriculture                           0\nPopulation                            0\nCountry                               0\ndtype: int64"
     },
     "execution_count": 11,
     "metadata": {},
     "output_type": "execute_result"
    }
   ],
   "source": [
    "df.isnull().sum().sort_values(ascending=False)"
   ],
   "metadata": {
    "collapsed": false
   }
  },
  {
   "cell_type": "code",
   "execution_count": 12,
   "outputs": [],
   "source": [
    "df = df.dropna()"
   ],
   "metadata": {
    "collapsed": false
   }
  },
  {
   "cell_type": "code",
   "execution_count": 13,
   "outputs": [
    {
     "data": {
      "text/plain": "   Population  Area (sq. mi.)  Pop. Density (per sq. mi.)  \\\n0    31056997          647500                        48.0   \n1     3581655           28748                       124.6   \n2    32930091         2381740                        13.8   \n3       57794             199                       290.4   \n4       71201             468                       152.1   \n\n   Coastline (coast/area ratio)  Net migration  \\\n0                          0.00          23.06   \n1                          1.26          -4.93   \n2                          0.04          -0.39   \n3                         58.29         -20.71   \n4                          0.00           6.60   \n\n   Infant mortality (per 1000 births)  GDP ($ per capita)  Literacy (%)  \\\n0                              163.07               700.0          36.0   \n1                               21.52              4500.0          86.5   \n2                               31.00              6000.0          70.0   \n3                                9.27              8000.0          97.0   \n4                                4.05             19000.0         100.0   \n\n   Phones (per 1000)  Arable (%)  ...  \\\n0                3.2       12.13  ...   \n1               71.2       21.09  ...   \n2               78.1        3.22  ...   \n3              259.5       10.00  ...   \n4              497.2        2.22  ...   \n\n   Region_BALTICS                              Region_C.W. OF IND. STATES   \\\n0                                           0                            0   \n1                                           0                            0   \n2                                           0                            0   \n3                                           0                            0   \n4                                           0                            0   \n\n   Region_EASTERN EUROPE                       Region_LATIN AMER. & CARIB      \\\n0                                           0                               0   \n1                                           1                               0   \n2                                           0                               0   \n3                                           0                               0   \n4                                           0                               0   \n\n   Region_NEAR EAST                            \\\n0                                           0   \n1                                           0   \n2                                           0   \n3                                           0   \n4                                           0   \n\n   Region_NORTHERN AFRICA                      \\\n0                                           0   \n1                                           0   \n2                                           1   \n3                                           0   \n4                                           0   \n\n   Region_NORTHERN AMERICA                     \\\n0                                           0   \n1                                           0   \n2                                           0   \n3                                           0   \n4                                           0   \n\n   Region_OCEANIA                              \\\n0                                           0   \n1                                           0   \n2                                           0   \n3                                           1   \n4                                           0   \n\n   Region_SUB-SAHARAN AFRICA                   \\\n0                                           0   \n1                                           0   \n2                                           0   \n3                                           0   \n4                                           0   \n\n   Region_WESTERN EUROPE                       \n0                                           0  \n1                                           0  \n2                                           0  \n3                                           0  \n4                                           1  \n\n[5 rows x 29 columns]",
      "text/html": "<div>\n<style scoped>\n    .dataframe tbody tr th:only-of-type {\n        vertical-align: middle;\n    }\n\n    .dataframe tbody tr th {\n        vertical-align: top;\n    }\n\n    .dataframe thead th {\n        text-align: right;\n    }\n</style>\n<table border=\"1\" class=\"dataframe\">\n  <thead>\n    <tr style=\"text-align: right;\">\n      <th></th>\n      <th>Population</th>\n      <th>Area (sq. mi.)</th>\n      <th>Pop. Density (per sq. mi.)</th>\n      <th>Coastline (coast/area ratio)</th>\n      <th>Net migration</th>\n      <th>Infant mortality (per 1000 births)</th>\n      <th>GDP ($ per capita)</th>\n      <th>Literacy (%)</th>\n      <th>Phones (per 1000)</th>\n      <th>Arable (%)</th>\n      <th>...</th>\n      <th>Region_BALTICS</th>\n      <th>Region_C.W. OF IND. STATES</th>\n      <th>Region_EASTERN EUROPE</th>\n      <th>Region_LATIN AMER. &amp; CARIB</th>\n      <th>Region_NEAR EAST</th>\n      <th>Region_NORTHERN AFRICA</th>\n      <th>Region_NORTHERN AMERICA</th>\n      <th>Region_OCEANIA</th>\n      <th>Region_SUB-SAHARAN AFRICA</th>\n      <th>Region_WESTERN EUROPE</th>\n    </tr>\n  </thead>\n  <tbody>\n    <tr>\n      <th>0</th>\n      <td>31056997</td>\n      <td>647500</td>\n      <td>48.0</td>\n      <td>0.00</td>\n      <td>23.06</td>\n      <td>163.07</td>\n      <td>700.0</td>\n      <td>36.0</td>\n      <td>3.2</td>\n      <td>12.13</td>\n      <td>...</td>\n      <td>0</td>\n      <td>0</td>\n      <td>0</td>\n      <td>0</td>\n      <td>0</td>\n      <td>0</td>\n      <td>0</td>\n      <td>0</td>\n      <td>0</td>\n      <td>0</td>\n    </tr>\n    <tr>\n      <th>1</th>\n      <td>3581655</td>\n      <td>28748</td>\n      <td>124.6</td>\n      <td>1.26</td>\n      <td>-4.93</td>\n      <td>21.52</td>\n      <td>4500.0</td>\n      <td>86.5</td>\n      <td>71.2</td>\n      <td>21.09</td>\n      <td>...</td>\n      <td>0</td>\n      <td>0</td>\n      <td>1</td>\n      <td>0</td>\n      <td>0</td>\n      <td>0</td>\n      <td>0</td>\n      <td>0</td>\n      <td>0</td>\n      <td>0</td>\n    </tr>\n    <tr>\n      <th>2</th>\n      <td>32930091</td>\n      <td>2381740</td>\n      <td>13.8</td>\n      <td>0.04</td>\n      <td>-0.39</td>\n      <td>31.00</td>\n      <td>6000.0</td>\n      <td>70.0</td>\n      <td>78.1</td>\n      <td>3.22</td>\n      <td>...</td>\n      <td>0</td>\n      <td>0</td>\n      <td>0</td>\n      <td>0</td>\n      <td>0</td>\n      <td>1</td>\n      <td>0</td>\n      <td>0</td>\n      <td>0</td>\n      <td>0</td>\n    </tr>\n    <tr>\n      <th>3</th>\n      <td>57794</td>\n      <td>199</td>\n      <td>290.4</td>\n      <td>58.29</td>\n      <td>-20.71</td>\n      <td>9.27</td>\n      <td>8000.0</td>\n      <td>97.0</td>\n      <td>259.5</td>\n      <td>10.00</td>\n      <td>...</td>\n      <td>0</td>\n      <td>0</td>\n      <td>0</td>\n      <td>0</td>\n      <td>0</td>\n      <td>0</td>\n      <td>0</td>\n      <td>1</td>\n      <td>0</td>\n      <td>0</td>\n    </tr>\n    <tr>\n      <th>4</th>\n      <td>71201</td>\n      <td>468</td>\n      <td>152.1</td>\n      <td>0.00</td>\n      <td>6.60</td>\n      <td>4.05</td>\n      <td>19000.0</td>\n      <td>100.0</td>\n      <td>497.2</td>\n      <td>2.22</td>\n      <td>...</td>\n      <td>0</td>\n      <td>0</td>\n      <td>0</td>\n      <td>0</td>\n      <td>0</td>\n      <td>0</td>\n      <td>0</td>\n      <td>0</td>\n      <td>0</td>\n      <td>1</td>\n    </tr>\n  </tbody>\n</table>\n<p>5 rows × 29 columns</p>\n</div>"
     },
     "execution_count": 13,
     "metadata": {},
     "output_type": "execute_result"
    }
   ],
   "source": [
    "x = df.drop(\"Country\",axis=1)\n",
    "x = pd.get_dummies(x)\n",
    "x.head()"
   ],
   "metadata": {
    "collapsed": false
   }
  },
  {
   "cell_type": "code",
   "execution_count": 14,
   "outputs": [],
   "source": [
    "from sklearn.preprocessing import StandardScaler\n",
    "scaler = StandardScaler()\n",
    "scaled_x = scaler.fit_transform(x)"
   ],
   "metadata": {
    "collapsed": false
   }
  },
  {
   "cell_type": "code",
   "execution_count": 15,
   "outputs": [
    {
     "data": {
      "text/plain": "Text(0, 0.5, 'Sum of squared distances')"
     },
     "execution_count": 15,
     "metadata": {},
     "output_type": "execute_result"
    },
    {
     "data": {
      "text/plain": "<Figure size 640x480 with 1 Axes>",
      "image/png": "[encoded data removed]"
     },
     "metadata": {},
     "output_type": "display_data"
    }
   ],
   "source": [
    "from sklearn.cluster import KMeans\n",
    "ssd = []\n",
    "for k in range(2,30):\n",
    "    model = KMeans(n_clusters=k)\n",
    "    model.fit(scaled_x)\n",
    "    ssd.append(model.inertia_)\n",
    "plt.plot(range(2,30),ssd,'o--')\n",
    "plt.xlabel(\"K value\")\n",
    "plt.ylabel(\"Sum of squared distances\")"
   ],
   "metadata": {
    "collapsed": false
   }
  },
  {
   "cell_type": "code",
   "execution_count": 16,
   "outputs": [
    {
     "data": {
      "text/plain": "<AxesSubplot:>"
     },
     "execution_count": 16,
     "metadata": {},
     "output_type": "execute_result"
    },
    {
     "data": {
      "text/plain": "<Figure size 640x480 with 1 Axes>",
      "image/png": "[encoded data removed]"
     },
     "metadata": {},
     "output_type": "display_data"
    }
   ],
   "source": [
    "pd.Series(ssd).diff().plot(kind='bar')"
   ],
   "metadata": {
    "collapsed": false
   }
  },
  {
   "cell_type": "code",
   "execution_count": 17,
   "outputs": [
    {
     "data": {
      "text/plain": "Birthrate                                    -0.814140\nInfant mortality (per 1000 births)           -0.783414\nRegion_SUB-SAHARAN AFRICA                    -0.676873\nAgriculture                                  -0.611027\nDeathrate                                    -0.424422\nOther (%)                                    -0.098443\nPopulation                                   -0.056379\nRegion_ASIA (EX. NEAR EAST)                  -0.045263\nCrops (%)                                    -0.031702\nIndustry                                     -0.019092\nRegion_NEAR EAST                             -0.015409\nArea (sq. mi.)                               -0.005476\nRegion_NORTHERN AFRICA                        0.006554\nRegion_OCEANIA                                0.012375\nRegion_LATIN AMER. & CARIB                    0.019837\nRegion_C.W. OF IND. STATES                    0.067110\nCoastline (coast/area ratio)                  0.078045\nRegion_NORTHERN AMERICA                       0.137882\nNet migration                                 0.146879\nRegion_BALTICS                                0.174118\nPop. Density (per sq. mi.)                    0.176840\nArable (%)                                    0.197624\nRegion_EASTERN EUROPE                         0.309636\nService                                       0.400397\nClimate                                       0.464945\nRegion_WESTERN EUROPE                         0.521682\nLiteracy (%)                                  0.616647\nGDP ($ per capita)                            0.705344\nPhones (per 1000)                             0.739310\nK=3 Clusters                                  1.000000\nName: K=3 Clusters, dtype: float64"
     },
     "execution_count": 17,
     "metadata": {},
     "output_type": "execute_result"
    }
   ],
   "source": [
    "model = KMeans(n_clusters=3)\n",
    "model.fit(scaled_x)\n",
    "x['K=3 Clusters'] = model.labels_\n",
    "x.corr()['K=3 Clusters'].sort_values()\n"
   ],
   "metadata": {
    "collapsed": false
   }
  },
  {
   "cell_type": "code",
   "execution_count": null,
   "outputs": [],
   "source": [],
   "metadata": {
    "collapsed": false
   }
  },
  {
   "cell_type": "code",
   "execution_count": null,
   "outputs": [],
   "source": [],
   "metadata": {
    "collapsed": false
   }
  },
  {
   "cell_type": "code",
   "execution_count": 18,
   "outputs": [
    {
     "data": {
      "text/plain": "                                           Country  \\\n0                                      Afghanistan   \n1  Akrotiri and Dhekelia – See United Kingdom, The   \n2                                    Åland Islands   \n3                                          Albania   \n4                                          Algeria   \n\n                                          ISO Code  \n0                                              AFG  \n1  Akrotiri and Dhekelia – See United Kingdom, The  \n2                                              ALA  \n3                                              ALB  \n4                                              DZA  ",
      "text/html": "<div>\n<style scoped>\n    .dataframe tbody tr th:only-of-type {\n        vertical-align: middle;\n    }\n\n    .dataframe tbody tr th {\n        vertical-align: top;\n    }\n\n    .dataframe thead th {\n        text-align: right;\n    }\n</style>\n<table border=\"1\" class=\"dataframe\">\n  <thead>\n    <tr style=\"text-align: right;\">\n      <th></th>\n      <th>Country</th>\n      <th>ISO Code</th>\n    </tr>\n  </thead>\n  <tbody>\n    <tr>\n      <th>0</th>\n      <td>Afghanistan</td>\n      <td>AFG</td>\n    </tr>\n    <tr>\n      <th>1</th>\n      <td>Akrotiri and Dhekelia – See United Kingdom, The</td>\n      <td>Akrotiri and Dhekelia – See United Kingdom, The</td>\n    </tr>\n    <tr>\n      <th>2</th>\n      <td>Åland Islands</td>\n      <td>ALA</td>\n    </tr>\n    <tr>\n      <th>3</th>\n      <td>Albania</td>\n      <td>ALB</td>\n    </tr>\n    <tr>\n      <th>4</th>\n      <td>Algeria</td>\n      <td>DZA</td>\n    </tr>\n  </tbody>\n</table>\n</div>"
     },
     "execution_count": 18,
     "metadata": {},
     "output_type": "execute_result"
    }
   ],
   "source": [
    "iso_codes = pd.read_csv('../course_notebooks/DATA/country_iso_codes.csv')\n",
    "iso_codes.head()\n"
   ],
   "metadata": {
    "collapsed": false
   }
  },
  {
   "cell_type": "code",
   "execution_count": 19,
   "outputs": [
    {
     "data": {
      "text/plain": "{'Afghanistan': 'AFG',\n 'Akrotiri and Dhekelia – See United Kingdom, The': 'Akrotiri and Dhekelia – See United Kingdom, The',\n 'Åland Islands': 'ALA',\n 'Albania': 'ALB',\n 'Algeria': 'DZA',\n 'American Samoa': 'ASM',\n 'Andorra': 'AND',\n 'Angola': 'AGO',\n 'Anguilla': 'AIA',\n 'Antarctica\\u200a[a]': 'ATA',\n 'Antigua and Barbuda': 'ATG',\n 'Argentina': 'ARG',\n 'Armenia': 'ARM',\n 'Aruba': 'ABW',\n 'Ashmore and Cartier Islands – See Australia.': 'Ashmore and Cartier Islands – See Australia.',\n 'Australia\\u200a[b]': 'AUS',\n 'Austria': 'AUT',\n 'Azerbaijan': 'AZE',\n 'Bahamas (the)': 'BHS',\n 'Bahrain': 'BHR',\n 'Bangladesh': 'BGD',\n 'Barbados': 'BRB',\n 'Belarus': 'BLR',\n 'Belgium': 'BEL',\n 'Belize': 'BLZ',\n 'Benin': 'BEN',\n 'Bermuda': 'BMU',\n 'Bhutan': 'BTN',\n 'Bolivia (Plurinational State of)': 'BOL',\n 'Bonaire\\xa0Sint Eustatius\\xa0Saba': 'BES',\n 'Bosnia and Herzegovina': 'BIH',\n 'Botswana': 'BWA',\n 'Bouvet Island': 'BVT',\n 'Brazil': 'BRA',\n 'British Indian Ocean Territory (the)': 'IOT',\n 'British Virgin Islands – See Virgin Islands (British).': 'British Virgin Islands – See Virgin Islands (British).',\n 'Brunei Darussalam\\u200a[e]': 'BRN',\n 'Bulgaria': 'BGR',\n 'Burkina Faso': 'BFA',\n 'Burma – See Myanmar.': 'Burma – See Myanmar.',\n 'Burundi': 'BDI',\n 'Cabo Verde\\u200a[f]': 'CPV',\n 'Cambodia': 'KHM',\n 'Cameroon': 'CMR',\n 'Canada': 'CAN',\n 'Cape Verde – See Cabo Verde.': 'Cape Verde – See Cabo Verde.',\n 'Caribbean Netherlands – See Bonaire, Sint Eustatius and Saba.': 'Caribbean Netherlands – See Bonaire, Sint Eustatius and Saba.',\n 'Cayman Islands (the)': 'CYM',\n 'Central African Republic (the)': 'CAF',\n 'Chad': 'TCD',\n 'Chile': 'CHL',\n 'China': 'CHN',\n 'China, The Republic of – See Taiwan (Province of China).': 'China, The Republic of – See Taiwan (Province of China).',\n 'Christmas Island': 'CXR',\n 'Clipperton Island – See France.': 'Clipperton Island – See France.',\n 'Cocos (Keeling) Islands (the)': 'CCK',\n 'Colombia': 'COL',\n 'Comoros (the)': 'COM',\n 'Congo (the Democratic Republic of the)': 'COD',\n 'Congo (the)\\u200a[g]': 'COG',\n 'Cook Islands (the)': 'COK',\n 'Coral Sea Islands – See Australia.': 'Coral Sea Islands – See Australia.',\n 'Costa Rica': 'CRI',\n \"Côte d'Ivoire\\u200a[h]\": 'CIV',\n 'Croatia': 'HRV',\n 'Cuba': 'CUB',\n 'Curaçao': 'CUW',\n 'Cyprus': 'CYP',\n 'Czechia\\u200a[i]': 'CZE',\n \"Democratic People's Republic of Korea – See Korea, The Democratic People's Republic of.\": \"Democratic People's Republic of Korea – See Korea, The Democratic People's Republic of.\",\n 'Democratic Republic of the Congo – See Congo, The Democratic Republic of the.': 'Democratic Republic of the Congo – See Congo, The Democratic Republic of the.',\n 'Denmark': 'DNK',\n 'Djibouti': 'DJI',\n 'Dominica': 'DMA',\n 'Dominican Republic (the)': 'DOM',\n 'East Timor – See Timor-Leste.': 'East Timor – See Timor-Leste.',\n 'Ecuador': 'ECU',\n 'Egypt': 'EGY',\n 'El Salvador': 'SLV',\n 'England – See United Kingdom, The.': 'England – See United Kingdom, The.',\n 'Equatorial Guinea': 'GNQ',\n 'Eritrea': 'ERI',\n 'Estonia': 'EST',\n 'Eswatini\\u200a[j]': 'SWZ',\n 'Ethiopia': 'ETH',\n 'Falkland Islands (the) [Malvinas]\\u200a[k]': 'FLK',\n 'Faroe Islands (the)': 'FRO',\n 'Fiji': 'FJI',\n 'Finland': 'FIN',\n 'France\\u200a[l]': 'FRA',\n 'French Guiana': 'GUF',\n 'French Polynesia': 'PYF',\n 'French Southern Territories (the)\\u200a[m]': 'ATF',\n 'Gabon': 'GAB',\n 'Gambia (the)': 'GMB',\n 'Georgia': 'GEO',\n 'Germany': 'DEU',\n 'Ghana': 'GHA',\n 'Gibraltar': 'GIB',\n 'Great Britain – See United Kingdom, The.': 'Great Britain – See United Kingdom, The.',\n 'Greece': 'GRC',\n 'Greenland': 'GRL',\n 'Grenada': 'GRD',\n 'Guadeloupe': 'GLP',\n 'Guam': 'GUM',\n 'Guatemala': 'GTM',\n 'Guernsey': 'GGY',\n 'Guinea': 'GIN',\n 'Guinea-Bissau': 'GNB',\n 'Guyana': 'GUY',\n 'Haiti': 'HTI',\n 'Hawaiian Islands – See United States of America, The.': 'Hawaiian Islands – See United States of America, The.',\n 'Heard Island and McDonald Islands': 'HMD',\n 'Holy See (the)\\u200a[n]': 'VAT',\n 'Honduras': 'HND',\n 'Hong Kong': 'HKG',\n 'Hungary': 'HUN',\n 'Iceland': 'ISL',\n 'India': 'IND',\n 'Indonesia': 'IDN',\n 'Iran (Islamic Republic of)': 'IRN',\n 'Iraq': 'IRQ',\n 'Ireland': 'IRL',\n 'Isle of Man': 'IMN',\n 'Israel': 'ISR',\n 'Italy': 'ITA',\n \"Ivory Coast – See Côte d'Ivoire.\": \"Ivory Coast – See Côte d'Ivoire.\",\n 'Jamaica': 'JAM',\n 'Jan Mayen – See Svalbard and Jan Mayen.': 'Jan Mayen – See Svalbard and Jan Mayen.',\n 'Japan': 'JPN',\n 'Jersey': 'JEY',\n 'Jordan': 'JOR',\n 'Kazakhstan': 'KAZ',\n 'Kenya': 'KEN',\n 'Kiribati': 'KIR',\n \"Korea (the Democratic People's Republic of)\\u200a[o]\": 'PRK',\n 'Korea (the Republic of)\\u200a[p]': 'KOR',\n 'Kuwait': 'KWT',\n 'Kyrgyzstan': 'KGZ',\n \"Lao People's Democratic Republic (the)\\u200a[q]\": 'LAO',\n 'Latvia': 'LVA',\n 'Lebanon': 'LBN',\n 'Lesotho': 'LSO',\n 'Liberia': 'LBR',\n 'Libya': 'LBY',\n 'Liechtenstein': 'LIE',\n 'Lithuania': 'LTU',\n 'Luxembourg': 'LUX',\n 'Macao\\u200a[r]': 'MAC',\n 'North Macedonia\\u200a[s]': 'MKD',\n 'Madagascar': 'MDG',\n 'Malawi': 'MWI',\n 'Malaysia': 'MYS',\n 'Maldives': 'MDV',\n 'Mali': 'MLI',\n 'Malta': 'MLT',\n 'Marshall Islands (the)': 'MHL',\n 'Martinique': 'MTQ',\n 'Mauritania': 'MRT',\n 'Mauritius': 'MUS',\n 'Mayotte': 'MYT',\n 'Mexico': 'MEX',\n 'Micronesia (Federated States of)': 'FSM',\n 'Moldova (the Republic of)': 'MDA',\n 'Monaco': 'MCO',\n 'Mongolia': 'MNG',\n 'Montenegro': 'MNE',\n 'Montserrat': 'MSR',\n 'Morocco': 'MAR',\n 'Mozambique': 'MOZ',\n 'Myanmar\\u200a[t]': 'MMR',\n 'Namibia': 'NAM',\n 'Nauru': 'NRU',\n 'Nepal': 'NPL',\n 'Netherlands (the)': 'NLD',\n 'New Caledonia': 'NCL',\n 'New Zealand': 'NZL',\n 'Nicaragua': 'NIC',\n 'Niger (the)': 'NER',\n 'Nigeria': 'NGA',\n 'Niue': 'NIU',\n 'Norfolk Island': 'NFK',\n \"North Korea – See Korea, The Democratic People's Republic of.\": \"North Korea – See Korea, The Democratic People's Republic of.\",\n 'Northern Ireland – See United Kingdom, The.': 'Northern Ireland – See United Kingdom, The.',\n 'Northern Mariana Islands (the)': 'MNP',\n 'Norway': 'NOR',\n 'Oman': 'OMN',\n 'Pakistan': 'PAK',\n 'Palau': 'PLW',\n 'Palestine, State of': 'PSE',\n 'Panama': 'PAN',\n 'Papua New Guinea': 'PNG',\n 'Paraguay': 'PRY',\n \"People's Republic of China – See China.\": \"People's Republic of China – See China.\",\n 'Peru': 'PER',\n 'Philippines (the)': 'PHL',\n 'Pitcairn\\u200a[u]': 'PCN',\n 'Poland': 'POL',\n 'Portugal': 'PRT',\n 'Puerto Rico': 'PRI',\n 'Qatar': 'QAT',\n 'Republic of China – See Taiwan (Province of China).': 'Republic of China – See Taiwan (Province of China).',\n 'Republic of Korea – See Korea, The Republic of.': 'Republic of Korea – See Korea, The Republic of.',\n 'Republic of the Congo – See Congo, The.': 'Republic of the Congo – See Congo, The.',\n 'Réunion': 'REU',\n 'Romania': 'ROU',\n 'Russian Federation (the)\\u200a[v]': 'RUS',\n 'Rwanda': 'RWA',\n 'Saba – See Bonaire, Sint Eustatius and Saba.': 'Saba – See Bonaire, Sint Eustatius and Saba.',\n 'Sahrawi Arab Democratic Republic – See Western Sahara.': 'Sahrawi Arab Democratic Republic – See Western Sahara.',\n 'Saint Barthélemy': 'BLM',\n 'Saint Helena\\xa0Ascension Island\\xa0Tristan da Cunha': 'SHN',\n 'Saint Kitts and Nevis': 'KNA',\n 'Saint Lucia': 'LCA',\n 'Saint Martin (French part)': 'MAF',\n 'Saint Pierre and Miquelon': 'SPM',\n 'Saint Vincent and the Grenadines': 'VCT',\n 'Samoa': 'WSM',\n 'San Marino': 'SMR',\n 'Sao Tome and Principe': 'STP',\n 'Saudi Arabia': 'SAU',\n 'Scotland – See United Kingdom, The.': 'Scotland – See United Kingdom, The.',\n 'Senegal': 'SEN',\n 'Serbia': 'SRB',\n 'Seychelles': 'SYC',\n 'Sierra Leone': 'SLE',\n 'Singapore': 'SGP',\n 'Sint Eustatius – See Bonaire, Sint Eustatius and Saba.': 'Sint Eustatius – See Bonaire, Sint Eustatius and Saba.',\n 'Sint Maarten (Dutch part)': 'SXM',\n 'Slovakia': 'SVK',\n 'Slovenia': 'SVN',\n 'Solomon Islands': 'SLB',\n 'Somalia': 'SOM',\n 'South Africa': 'ZAF',\n 'South Georgia and the South Sandwich Islands': 'SGS',\n 'South Korea – See Korea, The Republic of.': 'South Korea – See Korea, The Republic of.',\n 'South Sudan': 'SSD',\n 'Spain': 'ESP',\n 'Sri Lanka': 'LKA',\n 'Sudan (the)': 'SDN',\n 'Suriname': 'SUR',\n 'Svalbard\\xa0Jan Mayen': 'SJM',\n 'Sweden': 'SWE',\n 'Switzerland': 'CHE',\n 'Syrian Arab Republic (the)\\u200a[x]': 'SYR',\n 'Taiwan (Province of China)\\u200a[y]': 'TWN',\n 'Tajikistan': 'TJK',\n 'Tanzania, the United Republic of': 'TZA',\n 'Thailand': 'THA',\n 'Timor-Leste\\u200a[aa]': 'TLS',\n 'Togo': 'TGO',\n 'Tokelau': 'TKL',\n 'Tonga': 'TON',\n 'Trinidad and Tobago': 'TTO',\n 'Tunisia': 'TUN',\n 'Turkey': 'TUR',\n 'Turkmenistan': 'TKM',\n 'Turks and Caicos Islands (the)': 'TCA',\n 'Tuvalu': 'TUV',\n 'Uganda': 'UGA',\n 'Ukraine': 'UKR',\n 'United Arab Emirates (the)': 'ARE',\n 'United Kingdom of Great Britain and Northern Ireland (the)': 'GBR',\n 'United States Minor Outlying Islands (the)\\u200a[ac]': 'UMI',\n 'United States of America (the)': 'USA',\n 'United States Virgin Islands – See Virgin Islands (U.S.).': 'United States Virgin Islands – See Virgin Islands (U.S.).',\n 'Uruguay': 'URY',\n 'Uzbekistan': 'UZB',\n 'Vanuatu': 'VUT',\n 'Vatican City – See Holy See, The.': 'Vatican City – See Holy See, The.',\n 'Venezuela (Bolivarian Republic of)': 'VEN',\n 'Viet Nam\\u200a[ae]': 'VNM',\n 'Virgin Islands (British)\\u200a[af]': 'VGB',\n 'Virgin Islands (U.S.)\\u200a[ag]': 'VIR',\n 'Wales – See United Kingdom, The.': 'Wales – See United Kingdom, The.',\n 'Wallis and Futuna': 'WLF',\n 'Western Sahara\\u200a[ah]': 'ESH',\n 'Yemen': 'YEM',\n 'Zambia': 'ZMB',\n 'Zimbabwe': 'ZWE',\n 'United States': 'USA',\n 'United Kingdom': 'GBR',\n 'Venezuela': 'VEN',\n 'Australia': 'AUS',\n 'Iran': 'IRN',\n 'France': 'FRA',\n 'Russia': 'RUS',\n 'Korea, North': 'PRK',\n 'Korea, South': 'KOR',\n 'Myanmar': 'MMR',\n 'Burma': 'MMR',\n 'Vietnam': 'VNM',\n 'Laos': 'LAO',\n 'Bolivia': 'BOL',\n 'Niger': 'NER',\n 'Sudan': 'SDN',\n 'Congo, Dem. Rep.': 'COD',\n 'Congo, Repub. of the': 'COG',\n 'Tanzania': 'TZA',\n 'Central African Rep.': 'CAF',\n \"Cote d'Ivoire\": 'CIV'}"
     },
     "execution_count": 19,
     "metadata": {},
     "output_type": "execute_result"
    }
   ],
   "source": [
    "iso_mapping = iso_codes.set_index('Country')['ISO Code'].to_dict()\n",
    "iso_mapping\n"
   ],
   "metadata": {
    "collapsed": false
   }
  },
  {
   "cell_type": "code",
   "execution_count": 20,
   "outputs": [],
   "source": [
    "df['ISO Code'] = df['Country'].map(iso_mapping)\n",
    "df['Cluster'] = model.labels_"
   ],
   "metadata": {
    "collapsed": false
   }
  },
  {
   "cell_type": "code",
   "execution_count": 22,
   "outputs": [
    {
     "name": "stdout",
     "output_type": "stream",
     "text": [
      "Collecting plotly\n",
      "  Downloading plotly-5.13.0-py2.py3-none-any.whl (15.2 MB)\n",
      "Collecting tenacity>=6.2.0\n",
      "  Downloading tenacity-8.2.1-py3-none-any.whl (24 kB)\n",
      "Installing collected packages: tenacity, plotly\n",
      "Successfully installed plotly-5.13.0 tenacity-8.2.1\n"
     ]
    },
    {
     "name": "stderr",
     "output_type": "stream",
     "text": [
      "WARNING: You are using pip version 21.3.1; however, version 23.0.1 is available.\n",
      "You should consider upgrading via the 'F:\\Dev\\python\\course\\venv\\Scripts\\python.exe -m pip install --upgrade pip' command.\n"
     ]
    }
   ],
   "source": [
    "!pip install plotly"
   ],
   "metadata": {
    "collapsed": false
   }
  },
  {
   "cell_type": "code",
   "execution_count": 24,
   "outputs": [
    {
     "data": {
      "application/vnd.plotly.v1+json": {
       "data": [
        {
         "coloraxis": "coloraxis",
         "geo": "geo",
         "hovertemplate": "<b>%{hovertext}</b><br><br>ISO Code=%{location}<br>Cluster=%{z}<extra></extra>",
         "hovertext": [
          "Afghanistan",
          "Albania",
          "Algeria",
          "American Samoa",
          "Andorra",
          "Angola",
          "Anguilla",
          "Antigua & Barbuda",
          "Argentina",
          "Armenia",
          "Aruba",
          "Australia",
          "Austria",
          "Azerbaijan",
          "Bahamas, The",
          "Bahrain",
          "Bangladesh",
          "Barbados",
          "Belarus",
          "Belgium",
          "Belize",
          "Benin",
          "Bermuda",
          "Bhutan",
          "Bolivia",
          "Bosnia & Herzegovina",
          "Botswana",
          "Brazil",
          "British Virgin Is.",
          "Brunei",
          "Bulgaria",
          "Burkina Faso",
          "Burma",
          "Burundi",
          "Cambodia",
          "Cameroon",
          "Canada",
          "Cape Verde",
          "Cayman Islands",
          "Central African Rep.",
          "Chad",
          "Chile",
          "China",
          "Colombia",
          "Comoros",
          "Congo, Dem. Rep.",
          "Congo, Repub. of the",
          "Costa Rica",
          "Cote d'Ivoire",
          "Croatia",
          "Cuba",
          "Czech Republic",
          "Denmark",
          "Djibouti",
          "Dominica",
          "Dominican Republic",
          "Ecuador",
          "Egypt",
          "El Salvador",
          "Equatorial Guinea",
          "Eritrea",
          "Estonia",
          "Ethiopia",
          "Faroe Islands",
          "Fiji",
          "Finland",
          "France",
          "French Guiana",
          "French Polynesia",
          "Gabon",
          "Gambia, The",
          "Gaza Strip",
          "Georgia",
          "Germany",
          "Ghana",
          "Gibraltar",
          "Greece",
          "Greenland",
          "Grenada",
          "Guadeloupe",
          "Guam",
          "Guatemala",
          "Guinea",
          "Guinea-Bissau",
          "Guyana",
          "Haiti",
          "Honduras",
          "Hong Kong",
          "Hungary",
          "Iceland",
          "India",
          "Indonesia",
          "Iran",
          "Iraq",
          "Ireland",
          "Isle of Man",
          "Israel",
          "Italy",
          "Jamaica",
          "Japan",
          "Jersey",
          "Jordan",
          "Kazakhstan",
          "Kenya",
          "Kiribati",
          "Korea, North",
          "Korea, South",
          "Kuwait",
          "Kyrgyzstan",
          "Laos",
          "Latvia",
          "Lebanon",
          "Lesotho",
          "Liberia",
          "Libya",
          "Liechtenstein",
          "Lithuania",
          "Luxembourg",
          "Macau",
          "Macedonia",
          "Madagascar",
          "Malawi",
          "Malaysia",
          "Maldives",
          "Mali",
          "Malta",
          "Marshall Islands",
          "Martinique",
          "Mauritania",
          "Mauritius",
          "Mayotte",
          "Mexico",
          "Micronesia, Fed. St.",
          "Moldova",
          "Mongolia",
          "Montserrat",
          "Morocco",
          "Mozambique",
          "Namibia",
          "Nauru",
          "Nepal",
          "Netherlands",
          "Netherlands Antilles",
          "New Caledonia",
          "New Zealand",
          "Nicaragua",
          "Niger",
          "Nigeria",
          "N. Mariana Islands",
          "Norway",
          "Oman",
          "Pakistan",
          "Palau",
          "Panama",
          "Papua New Guinea",
          "Paraguay",
          "Peru",
          "Philippines",
          "Poland",
          "Portugal",
          "Puerto Rico",
          "Qatar",
          "Reunion",
          "Romania",
          "Russia",
          "Rwanda",
          "Saint Helena",
          "Saint Kitts & Nevis",
          "Saint Lucia",
          "St Pierre & Miquelon",
          "Saint Vincent and the Grenadines",
          "Samoa",
          "San Marino",
          "Sao Tome & Principe",
          "Saudi Arabia",
          "Senegal",
          "Seychelles",
          "Sierra Leone",
          "Singapore",
          "Slovakia",
          "Slovenia",
          "Solomon Islands",
          "Somalia",
          "South Africa",
          "Spain",
          "Sri Lanka",
          "Sudan",
          "Suriname",
          "Swaziland",
          "Sweden",
          "Switzerland",
          "Syria",
          "Taiwan",
          "Tajikistan",
          "Tanzania",
          "Thailand",
          "Togo",
          "Tonga",
          "Trinidad & Tobago",
          "Tunisia",
          "Turkey",
          "Turkmenistan",
          "Turks & Caicos Is",
          "Tuvalu",
          "Uganda",
          "Ukraine",
          "United Arab Emirates",
          "United Kingdom",
          "United States",
          "Uruguay",
          "Uzbekistan",
          "Vanuatu",
          "Venezuela",
          "Vietnam",
          "Virgin Islands",
          "Wallis and Futuna",
          "West Bank",
          "Western Sahara",
          "Yemen",
          "Zambia",
          "Zimbabwe"
         ],
         "locations": [
          "AFG",
          "ALB",
          "DZA",
          "ASM",
          "AND",
          "AGO",
          "AIA",
          null,
          "ARG",
          "ARM",
          "ABW",
          "AUS",
          "AUT",
          "AZE",
          null,
          "BHR",
          "BGD",
          "BRB",
          "BLR",
          "BEL",
          "BLZ",
          "BEN",
          "BMU",
          "BTN",
          "BOL",
          null,
          "BWA",
          "BRA",
          null,
          null,
          "BGR",
          "BFA",
          "MMR",
          "BDI",
          "KHM",
          "CMR",
          "CAN",
          null,
          null,
          "CAF",
          "TCD",
          "CHL",
          "CHN",
          "COL",
          null,
          "COD",
          "COG",
          "CRI",
          "CIV",
          "HRV",
          "CUB",
          null,
          "DNK",
          "DJI",
          "DMA",
          null,
          "ECU",
          "EGY",
          "SLV",
          "GNQ",
          "ERI",
          "EST",
          "ETH",
          null,
          "FJI",
          "FIN",
          "FRA",
          "GUF",
          "PYF",
          "GAB",
          null,
          null,
          "GEO",
          "DEU",
          "GHA",
          "GIB",
          "GRC",
          "GRL",
          "GRD",
          "GLP",
          "GUM",
          "GTM",
          "GIN",
          "GNB",
          "GUY",
          "HTI",
          "HND",
          "HKG",
          "HUN",
          "ISL",
          "IND",
          "IDN",
          "IRN",
          "IRQ",
          "IRL",
          "IMN",
          "ISR",
          "ITA",
          "JAM",
          "JPN",
          "JEY",
          "JOR",
          "KAZ",
          "KEN",
          "KIR",
          "PRK",
          "KOR",
          "KWT",
          "KGZ",
          "LAO",
          "LVA",
          "LBN",
          "LSO",
          "LBR",
          "LBY",
          "LIE",
          "LTU",
          "LUX",
          null,
          null,
          "MDG",
          "MWI",
          "MYS",
          "MDV",
          "MLI",
          "MLT",
          null,
          "MTQ",
          "MRT",
          "MUS",
          "MYT",
          "MEX",
          null,
          null,
          "MNG",
          "MSR",
          "MAR",
          "MOZ",
          "NAM",
          "NRU",
          "NPL",
          null,
          null,
          "NCL",
          "NZL",
          "NIC",
          "NER",
          "NGA",
          null,
          "NOR",
          "OMN",
          "PAK",
          "PLW",
          "PAN",
          "PNG",
          "PRY",
          "PER",
          null,
          "POL",
          "PRT",
          "PRI",
          "QAT",
          null,
          "ROU",
          "RUS",
          "RWA",
          null,
          null,
          "LCA",
          null,
          "VCT",
          "WSM",
          "SMR",
          null,
          "SAU",
          "SEN",
          "SYC",
          "SLE",
          "SGP",
          "SVK",
          "SVN",
          "SLB",
          "SOM",
          "ZAF",
          "ESP",
          "LKA",
          "SDN",
          "SUR",
          null,
          "SWE",
          "CHE",
          null,
          null,
          "TJK",
          "TZA",
          "THA",
          "TGO",
          "TON",
          null,
          "TUN",
          "TUR",
          "TKM",
          null,
          "TUV",
          "UGA",
          "UKR",
          null,
          "GBR",
          "USA",
          "URY",
          "UZB",
          "VUT",
          "VEN",
          "VNM",
          null,
          "WLF",
          null,
          null,
          "YEM",
          "ZMB",
          "ZWE"
         ],
         "name": "",
         "z": [
          0,
          1,
          1,
          1,
          2,
          0,
          1,
          1,
          1,
          1,
          1,
          1,
          2,
          1,
          1,
          1,
          0,
          1,
          2,
          2,
          1,
          0,
          2,
          0,
          1,
          2,
          0,
          1,
          1,
          1,
          2,
          0,
          0,
          0,
          0,
          0,
          2,
          1,
          2,
          0,
          0,
          1,
          1,
          1,
          0,
          0,
          0,
          1,
          0,
          2,
          1,
          2,
          2,
          0,
          1,
          1,
          1,
          1,
          1,
          0,
          0,
          2,
          0,
          2,
          1,
          2,
          2,
          1,
          1,
          0,
          0,
          1,
          1,
          2,
          0,
          1,
          2,
          1,
          1,
          1,
          1,
          1,
          0,
          0,
          1,
          0,
          1,
          2,
          2,
          2,
          0,
          1,
          1,
          1,
          2,
          2,
          1,
          2,
          1,
          2,
          2,
          1,
          1,
          0,
          1,
          1,
          2,
          1,
          1,
          0,
          2,
          1,
          0,
          0,
          1,
          2,
          2,
          2,
          2,
          2,
          0,
          0,
          1,
          1,
          0,
          2,
          1,
          1,
          0,
          1,
          0,
          1,
          1,
          1,
          1,
          1,
          1,
          0,
          0,
          1,
          0,
          2,
          1,
          1,
          1,
          1,
          0,
          0,
          1,
          2,
          1,
          0,
          1,
          1,
          1,
          1,
          1,
          1,
          2,
          2,
          1,
          1,
          1,
          2,
          1,
          0,
          1,
          1,
          1,
          1,
          1,
          1,
          2,
          1,
          1,
          0,
          1,
          0,
          2,
          2,
          2,
          1,
          0,
          0,
          2,
          1,
          0,
          1,
          0,
          2,
          2,
          1,
          2,
          1,
          0,
          1,
          0,
          1,
          1,
          1,
          1,
          1,
          1,
          1,
          0,
          2,
          1,
          2,
          2,
          1,
          1,
          1,
          1,
          1,
          1,
          1,
          1,
          1,
          0,
          0,
          0
         ],
         "type": "choropleth"
        }
       ],
       "layout": {
        "template": {
         "data": {
          "histogram2dcontour": [
           {
            "type": "histogram2dcontour",
            "colorbar": {
             "outlinewidth": 0,
             "ticks": ""
            },
            "colorscale": [
             [
              0.0,
              "#0d0887"
             ],
             [
              0.1111111111111111,
              "#46039f"
             ],
             [
              0.2222222222222222,
              "#7201a8"
             ],
             [
              0.3333333333333333,
              "#9c179e"
             ],
             [
              0.4444444444444444,
              "#bd3786"
             ],
             [
              0.5555555555555556,
              "#d8576b"
             ],
             [
              0.6666666666666666,
              "#ed7953"
             ],
             [
              0.7777777777777778,
              "#fb9f3a"
             ],
             [
              0.8888888888888888,
              "#fdca26"
             ],
             [
              1.0,
              "#f0f921"
             ]
            ]
           }
          ],
          "choropleth": [
           {
            "type": "choropleth",
            "colorbar": {
             "outlinewidth": 0,
             "ticks": ""
            }
           }
          ],
          "histogram2d": [
           {
            "type": "histogram2d",
            "colorbar": {
             "outlinewidth": 0,
             "ticks": ""
            },
            "colorscale": [
             [
              0.0,
              "#0d0887"
             ],
             [
              0.1111111111111111,
              "#46039f"
             ],
             [
              0.2222222222222222,
              "#7201a8"
             ],
             [
              0.3333333333333333,
              "#9c179e"
             ],
             [
              0.4444444444444444,
              "#bd3786"
             ],
             [
              0.5555555555555556,
              "#d8576b"
             ],
             [
              0.6666666666666666,
              "#ed7953"
             ],
             [
              0.7777777777777778,
              "#fb9f3a"
             ],
             [
              0.8888888888888888,
              "#fdca26"
             ],
             [
              1.0,
              "#f0f921"
             ]
            ]
           }
          ],
          "heatmap": [
           {
            "type": "heatmap",
            "colorbar": {
             "outlinewidth": 0,
             "ticks": ""
            },
            "colorscale": [
             [
              0.0,
              "#0d0887"
             ],
             [
              0.1111111111111111,
              "#46039f"
             ],
             [
              0.2222222222222222,
              "#7201a8"
             ],
             [
              0.3333333333333333,
              "#9c179e"
             ],
             [
              0.4444444444444444,
              "#bd3786"
             ],
             [
              0.5555555555555556,
              "#d8576b"
             ],
             [
              0.6666666666666666,
              "#ed7953"
             ],
             [
              0.7777777777777778,
              "#fb9f3a"
             ],
             [
              0.8888888888888888,
              "#fdca26"
             ],
             [
              1.0,
              "#f0f921"
             ]
            ]
           }
          ],
          "heatmapgl": [
           {
            "type": "heatmapgl",
            "colorbar": {
             "outlinewidth": 0,
             "ticks": ""
            },
            "colorscale": [
             [
              0.0,
              "#0d0887"
             ],
             [
              0.1111111111111111,
              "#46039f"
             ],
             [
              0.2222222222222222,
              "#7201a8"
             ],
             [
              0.3333333333333333,
              "#9c179e"
             ],
             [
              0.4444444444444444,
              "#bd3786"
             ],
             [
              0.5555555555555556,
              "#d8576b"
             ],
             [
              0.6666666666666666,
              "#ed7953"
             ],
             [
              0.7777777777777778,
              "#fb9f3a"
             ],
             [
              0.8888888888888888,
              "#fdca26"
             ],
             [
              1.0,
              "#f0f921"
             ]
            ]
           }
          ],
          "contourcarpet": [
           {
            "type": "contourcarpet",
            "colorbar": {
             "outlinewidth": 0,
             "ticks": ""
            }
           }
          ],
          "contour": [
           {
            "type": "contour",
            "colorbar": {
             "outlinewidth": 0,
             "ticks": ""
            },
            "colorscale": [
             [
              0.0,
              "#0d0887"
             ],
             [
              0.1111111111111111,
              "#46039f"
             ],
             [
              0.2222222222222222,
              "#7201a8"
             ],
             [
              0.3333333333333333,
              "#9c179e"
             ],
             [
              0.4444444444444444,
              "#bd3786"
             ],
             [
              0.5555555555555556,
              "#d8576b"
             ],
             [
              0.6666666666666666,
              "#ed7953"
             ],
             [
              0.7777777777777778,
              "#fb9f3a"
             ],
             [
              0.8888888888888888,
              "#fdca26"
             ],
             [
              1.0,
              "#f0f921"
             ]
            ]
           }
          ],
          "surface": [
           {
            "type": "surface",
            "colorbar": {
             "outlinewidth": 0,
             "ticks": ""
            },
            "colorscale": [
             [
              0.0,
              "#0d0887"
             ],
             [
              0.1111111111111111,
              "#46039f"
             ],
             [
              0.2222222222222222,
              "#7201a8"
             ],
             [
              0.3333333333333333,
              "#9c179e"
             ],
             [
              0.4444444444444444,
              "#bd3786"
             ],
             [
              0.5555555555555556,
              "#d8576b"
             ],
             [
              0.6666666666666666,
              "#ed7953"
             ],
             [
              0.7777777777777778,
              "#fb9f3a"
             ],
             [
              0.8888888888888888,
              "#fdca26"
             ],
             [
              1.0,
              "#f0f921"
             ]
            ]
           }
          ],
          "mesh3d": [
           {
            "type": "mesh3d",
            "colorbar": {
             "outlinewidth": 0,
             "ticks": ""
            }
           }
          ],
          "scatter": [
           {
            "fillpattern": {
             "fillmode": "overlay",
             "size": 10,
             "solidity": 0.2
            },
            "type": "scatter"
           }
          ],
          "parcoords": [
           {
            "type": "parcoords",
            "line": {
             "colorbar": {
              "outlinewidth": 0,
              "ticks": ""
             }
            }
           }
          ],
          "scatterpolargl": [
           {
            "type": "scatterpolargl",
            "marker": {
             "colorbar": {
              "outlinewidth": 0,
              "ticks": ""
             }
            }
           }
          ],
          "bar": [
           {
            "error_x": {
             "color": "#2a3f5f"
            },
            "error_y": {
             "color": "#2a3f5f"
            },
            "marker": {
             "line": {
              "color": "#E5ECF6",
              "width": 0.5
             },
             "pattern": {
              "fillmode": "overlay",
              "size": 10,
              "solidity": 0.2
             }
            },
            "type": "bar"
           }
          ],
          "scattergeo": [
           {
            "type": "scattergeo",
            "marker": {
             "colorbar": {
              "outlinewidth": 0,
              "ticks": ""
             }
            }
           }
          ],
          "scatterpolar": [
           {
            "type": "scatterpolar",
            "marker": {
             "colorbar": {
              "outlinewidth": 0,
              "ticks": ""
             }
            }
           }
          ],
          "histogram": [
           {
            "marker": {
             "pattern": {
              "fillmode": "overlay",
              "size": 10,
              "solidity": 0.2
             }
            },
            "type": "histogram"
           }
          ],
          "scattergl": [
           {
            "type": "scattergl",
            "marker": {
             "colorbar": {
              "outlinewidth": 0,
              "ticks": ""
             }
            }
           }
          ],
          "scatter3d": [
           {
            "type": "scatter3d",
            "line": {
             "colorbar": {
              "outlinewidth": 0,
              "ticks": ""
             }
            },
            "marker": {
             "colorbar": {
              "outlinewidth": 0,
              "ticks": ""
             }
            }
           }
          ],
          "scattermapbox": [
           {
            "type": "scattermapbox",
            "marker": {
             "colorbar": {
              "outlinewidth": 0,
              "ticks": ""
             }
            }
           }
          ],
          "scatterternary": [
           {
            "type": "scatterternary",
            "marker": {
             "colorbar": {
              "outlinewidth": 0,
              "ticks": ""
             }
            }
           }
          ],
          "scattercarpet": [
           {
            "type": "scattercarpet",
            "marker": {
             "colorbar": {
              "outlinewidth": 0,
              "ticks": ""
             }
            }
           }
          ],
          "carpet": [
           {
            "aaxis": {
             "endlinecolor": "#2a3f5f",
             "gridcolor": "white",
             "linecolor": "white",
             "minorgridcolor": "white",
             "startlinecolor": "#2a3f5f"
            },
            "baxis": {
             "endlinecolor": "#2a3f5f",
             "gridcolor": "white",
             "linecolor": "white",
             "minorgridcolor": "white",
             "startlinecolor": "#2a3f5f"
            },
            "type": "carpet"
           }
          ],
          "table": [
           {
            "cells": {
             "fill": {
              "color": "#EBF0F8"
             },
             "line": {
              "color": "white"
             }
            },
            "header": {
             "fill": {
              "color": "#C8D4E3"
             },
             "line": {
              "color": "white"
             }
            },
            "type": "table"
           }
          ],
          "barpolar": [
           {
            "marker": {
             "line": {
              "color": "#E5ECF6",
              "width": 0.5
             },
             "pattern": {
              "fillmode": "overlay",
              "size": 10,
              "solidity": 0.2
             }
            },
            "type": "barpolar"
           }
          ],
          "pie": [
           {
            "automargin": true,
            "type": "pie"
           }
          ]
         },
         "layout": {
          "autotypenumbers": "strict",
          "colorway": [
           "#636efa",
           "#EF553B",
           "#00cc96",
           "#ab63fa",
           "#FFA15A",
           "#19d3f3",
           "#FF6692",
           "#B6E880",
           "#FF97FF",
           "#FECB52"
          ],
          "font": {
           "color": "#2a3f5f"
          },
          "hovermode": "closest",
          "hoverlabel": {
           "align": "left"
          },
          "paper_bgcolor": "white",
          "plot_bgcolor": "#E5ECF6",
          "polar": {
           "bgcolor": "#E5ECF6",
           "angularaxis": {
            "gridcolor": "white",
            "linecolor": "white",
            "ticks": ""
           },
           "radialaxis": {
            "gridcolor": "white",
            "linecolor": "white",
            "ticks": ""
           }
          },
          "ternary": {
           "bgcolor": "#E5ECF6",
           "aaxis": {
            "gridcolor": "white",
            "linecolor": "white",
            "ticks": ""
           },
           "baxis": {
            "gridcolor": "white",
            "linecolor": "white",
            "ticks": ""
           },
           "caxis": {
            "gridcolor": "white",
            "linecolor": "white",
            "ticks": ""
           }
          },
          "coloraxis": {
           "colorbar": {
            "outlinewidth": 0,
            "ticks": ""
           }
          },
          "colorscale": {
           "sequential": [
            [
             0.0,
             "#0d0887"
            ],
            [
             0.1111111111111111,
             "#46039f"
            ],
            [
             0.2222222222222222,
             "#7201a8"
            ],
            [
             0.3333333333333333,
             "#9c179e"
            ],
            [
             0.4444444444444444,
             "#bd3786"
            ],
            [
             0.5555555555555556,
             "#d8576b"
            ],
            [
             0.6666666666666666,
             "#ed7953"
            ],
            [
             0.7777777777777778,
             "#fb9f3a"
            ],
            [
             0.8888888888888888,
             "#fdca26"
            ],
            [
             1.0,
             "#f0f921"
            ]
           ],
           "sequentialminus": [
            [
             0.0,
             "#0d0887"
            ],
            [
             0.1111111111111111,
             "#46039f"
            ],
            [
             0.2222222222222222,
             "#7201a8"
            ],
            [
             0.3333333333333333,
             "#9c179e"
            ],
            [
             0.4444444444444444,
             "#bd3786"
            ],
            [
             0.5555555555555556,
             "#d8576b"
            ],
            [
             0.6666666666666666,
             "#ed7953"
            ],
            [
             0.7777777777777778,
             "#fb9f3a"
            ],
            [
             0.8888888888888888,
             "#fdca26"
            ],
            [
             1.0,
             "#f0f921"
            ]
           ],
           "diverging": [
            [
             0,
             "#8e0152"
            ],
            [
             0.1,
             "#c51b7d"
            ],
            [
             0.2,
             "#de77ae"
            ],
            [
             0.3,
             "#f1b6da"
            ],
            [
             0.4,
             "#fde0ef"
            ],
            [
             0.5,
             "#f7f7f7"
            ],
            [
             0.6,
             "#e6f5d0"
            ],
            [
             0.7,
             "#b8e186"
            ],
            [
             0.8,
             "#7fbc41"
            ],
            [
             0.9,
             "#4d9221"
            ],
            [
             1,
             "#276419"
            ]
           ]
          },
          "xaxis": {
           "gridcolor": "white",
           "linecolor": "white",
           "ticks": "",
           "title": {
            "standoff": 15
           },
           "zerolinecolor": "white",
           "automargin": true,
           "zerolinewidth": 2
          },
          "yaxis": {
           "gridcolor": "white",
           "linecolor": "white",
           "ticks": "",
           "title": {
            "standoff": 15
           },
           "zerolinecolor": "white",
           "automargin": true,
           "zerolinewidth": 2
          },
          "scene": {
           "xaxis": {
            "backgroundcolor": "#E5ECF6",
            "gridcolor": "white",
            "linecolor": "white",
            "showbackground": true,
            "ticks": "",
            "zerolinecolor": "white",
            "gridwidth": 2
           },
           "yaxis": {
            "backgroundcolor": "#E5ECF6",
            "gridcolor": "white",
            "linecolor": "white",
            "showbackground": true,
            "ticks": "",
            "zerolinecolor": "white",
            "gridwidth": 2
           },
           "zaxis": {
            "backgroundcolor": "#E5ECF6",
            "gridcolor": "white",
            "linecolor": "white",
            "showbackground": true,
            "ticks": "",
            "zerolinecolor": "white",
            "gridwidth": 2
           }
          },
          "shapedefaults": {
           "line": {
            "color": "#2a3f5f"
           }
          },
          "annotationdefaults": {
           "arrowcolor": "#2a3f5f",
           "arrowhead": 0,
           "arrowwidth": 1
          },
          "geo": {
           "bgcolor": "white",
           "landcolor": "#E5ECF6",
           "subunitcolor": "white",
           "showland": true,
           "showlakes": true,
           "lakecolor": "white"
          },
          "title": {
           "x": 0.05
          },
          "mapbox": {
           "style": "light"
          }
         }
        },
        "geo": {
         "domain": {
          "x": [
           0.0,
           1.0
          ],
          "y": [
           0.0,
           1.0
          ]
         },
         "center": {}
        },
        "coloraxis": {
         "colorbar": {
          "title": {
           "text": "Cluster"
          }
         },
         "colorscale": [
          [
           0.0,
           "#0d0887"
          ],
          [
           0.1111111111111111,
           "#46039f"
          ],
          [
           0.2222222222222222,
           "#7201a8"
          ],
          [
           0.3333333333333333,
           "#9c179e"
          ],
          [
           0.4444444444444444,
           "#bd3786"
          ],
          [
           0.5555555555555556,
           "#d8576b"
          ],
          [
           0.6666666666666666,
           "#ed7953"
          ],
          [
           0.7777777777777778,
           "#fb9f3a"
          ],
          [
           0.8888888888888888,
           "#fdca26"
          ],
          [
           1.0,
           "#f0f921"
          ]
         ]
        },
        "legend": {
         "tracegroupgap": 0
        },
        "margin": {
         "t": 60
        }
       },
       "config": {
        "plotlyServerURL": "https://plot.ly"
       }
      },
      "text/html": "<div>                            <div id=\"eae67be2-798a-4248-bc3b-93ee8a229f49\" class=\"plotly-graph-div\" style=\"height:525px; width:100%;\"></div>            <script type=\"text/javascript\">                require([\"plotly\"], function(Plotly) {                    window.PLOTLYENV=window.PLOTLYENV || {};                                    if (document.getElementById(\"eae67be2-798a-4248-bc3b-93ee8a229f49\")) {                    Plotly.newPlot(                        \"eae67be2-798a-4248-bc3b-93ee8a229f49\",                        [{\"coloraxis\":\"coloraxis\",\"geo\":\"geo\",\"hovertemplate\":\"<b>%{hovertext}</b><br><br>ISO Code=%{location}<br>Cluster=%{z}<extra></extra>\",\"hovertext\":[\"Afghanistan\",\"Albania\",\"Algeria\",\"American Samoa\",\"Andorra\",\"Angola\",\"Anguilla\",\"Antigua & Barbuda\",\"Argentina\",\"Armenia\",\"Aruba\",\"Australia\",\"Austria\",\"Azerbaijan\",\"Bahamas, The\",\"Bahrain\",\"Bangladesh\",\"Barbados\",\"Belarus\",\"Belgium\",\"Belize\",\"Benin\",\"Bermuda\",\"Bhutan\",\"Bolivia\",\"Bosnia & Herzegovina\",\"Botswana\",\"Brazil\",\"British Virgin Is.\",\"Brunei\",\"Bulgaria\",\"Burkina Faso\",\"Burma\",\"Burundi\",\"Cambodia\",\"Cameroon\",\"Canada\",\"Cape Verde\",\"Cayman Islands\",\"Central African Rep.\",\"Chad\",\"Chile\",\"China\",\"Colombia\",\"Comoros\",\"Congo, Dem. Rep.\",\"Congo, Repub. of the\",\"Costa Rica\",\"Cote d'Ivoire\",\"Croatia\",\"Cuba\",\"Czech Republic\",\"Denmark\",\"Djibouti\",\"Dominica\",\"Dominican Republic\",\"Ecuador\",\"Egypt\",\"El Salvador\",\"Equatorial Guinea\",\"Eritrea\",\"Estonia\",\"Ethiopia\",\"Faroe Islands\",\"Fiji\",\"Finland\",\"France\",\"French Guiana\",\"French Polynesia\",\"Gabon\",\"Gambia, The\",\"Gaza Strip\",\"Georgia\",\"Germany\",\"Ghana\",\"Gibraltar\",\"Greece\",\"Greenland\",\"Grenada\",\"Guadeloupe\",\"Guam\",\"Guatemala\",\"Guinea\",\"Guinea-Bissau\",\"Guyana\",\"Haiti\",\"Honduras\",\"Hong Kong\",\"Hungary\",\"Iceland\",\"India\",\"Indonesia\",\"Iran\",\"Iraq\",\"Ireland\",\"Isle of Man\",\"Israel\",\"Italy\",\"Jamaica\",\"Japan\",\"Jersey\",\"Jordan\",\"Kazakhstan\",\"Kenya\",\"Kiribati\",\"Korea, North\",\"Korea, South\",\"Kuwait\",\"Kyrgyzstan\",\"Laos\",\"Latvia\",\"Lebanon\",\"Lesotho\",\"Liberia\",\"Libya\",\"Liechtenstein\",\"Lithuania\",\"Luxembourg\",\"Macau\",\"Macedonia\",\"Madagascar\",\"Malawi\",\"Malaysia\",\"Maldives\",\"Mali\",\"Malta\",\"Marshall Islands\",\"Martinique\",\"Mauritania\",\"Mauritius\",\"Mayotte\",\"Mexico\",\"Micronesia, Fed. St.\",\"Moldova\",\"Mongolia\",\"Montserrat\",\"Morocco\",\"Mozambique\",\"Namibia\",\"Nauru\",\"Nepal\",\"Netherlands\",\"Netherlands Antilles\",\"New Caledonia\",\"New Zealand\",\"Nicaragua\",\"Niger\",\"Nigeria\",\"N. Mariana Islands\",\"Norway\",\"Oman\",\"Pakistan\",\"Palau\",\"Panama\",\"Papua New Guinea\",\"Paraguay\",\"Peru\",\"Philippines\",\"Poland\",\"Portugal\",\"Puerto Rico\",\"Qatar\",\"Reunion\",\"Romania\",\"Russia\",\"Rwanda\",\"Saint Helena\",\"Saint Kitts & Nevis\",\"Saint Lucia\",\"St Pierre & Miquelon\",\"Saint Vincent and the Grenadines\",\"Samoa\",\"San Marino\",\"Sao Tome & Principe\",\"Saudi Arabia\",\"Senegal\",\"Seychelles\",\"Sierra Leone\",\"Singapore\",\"Slovakia\",\"Slovenia\",\"Solomon Islands\",\"Somalia\",\"South Africa\",\"Spain\",\"Sri Lanka\",\"Sudan\",\"Suriname\",\"Swaziland\",\"Sweden\",\"Switzerland\",\"Syria\",\"Taiwan\",\"Tajikistan\",\"Tanzania\",\"Thailand\",\"Togo\",\"Tonga\",\"Trinidad & Tobago\",\"Tunisia\",\"Turkey\",\"Turkmenistan\",\"Turks & Caicos Is\",\"Tuvalu\",\"Uganda\",\"Ukraine\",\"United Arab Emirates\",\"United Kingdom\",\"United States\",\"Uruguay\",\"Uzbekistan\",\"Vanuatu\",\"Venezuela\",\"Vietnam\",\"Virgin Islands\",\"Wallis and Futuna\",\"West Bank\",\"Western Sahara\",\"Yemen\",\"Zambia\",\"Zimbabwe\"],\"locations\":[\"AFG\",\"ALB\",\"DZA\",\"ASM\",\"AND\",\"AGO\",\"AIA\",null,\"ARG\",\"ARM\",\"ABW\",\"AUS\",\"AUT\",\"AZE\",null,\"BHR\",\"BGD\",\"BRB\",\"BLR\",\"BEL\",\"BLZ\",\"BEN\",\"BMU\",\"BTN\",\"BOL\",null,\"BWA\",\"BRA\",null,null,\"BGR\",\"BFA\",\"MMR\",\"BDI\",\"KHM\",\"CMR\",\"CAN\",null,null,\"CAF\",\"TCD\",\"CHL\",\"CHN\",\"COL\",null,\"COD\",\"COG\",\"CRI\",\"CIV\",\"HRV\",\"CUB\",null,\"DNK\",\"DJI\",\"DMA\",null,\"ECU\",\"EGY\",\"SLV\",\"GNQ\",\"ERI\",\"EST\",\"ETH\",null,\"FJI\",\"FIN\",\"FRA\",\"GUF\",\"PYF\",\"GAB\",null,null,\"GEO\",\"DEU\",\"GHA\",\"GIB\",\"GRC\",\"GRL\",\"GRD\",\"GLP\",\"GUM\",\"GTM\",\"GIN\",\"GNB\",\"GUY\",\"HTI\",\"HND\",\"HKG\",\"HUN\",\"ISL\",\"IND\",\"IDN\",\"IRN\",\"IRQ\",\"IRL\",\"IMN\",\"ISR\",\"ITA\",\"JAM\",\"JPN\",\"JEY\",\"JOR\",\"KAZ\",\"KEN\",\"KIR\",\"PRK\",\"KOR\",\"KWT\",\"KGZ\",\"LAO\",\"LVA\",\"LBN\",\"LSO\",\"LBR\",\"LBY\",\"LIE\",\"LTU\",\"LUX\",null,null,\"MDG\",\"MWI\",\"MYS\",\"MDV\",\"MLI\",\"MLT\",null,\"MTQ\",\"MRT\",\"MUS\",\"MYT\",\"MEX\",null,null,\"MNG\",\"MSR\",\"MAR\",\"MOZ\",\"NAM\",\"NRU\",\"NPL\",null,null,\"NCL\",\"NZL\",\"NIC\",\"NER\",\"NGA\",null,\"NOR\",\"OMN\",\"PAK\",\"PLW\",\"PAN\",\"PNG\",\"PRY\",\"PER\",null,\"POL\",\"PRT\",\"PRI\",\"QAT\",null,\"ROU\",\"RUS\",\"RWA\",null,null,\"LCA\",null,\"VCT\",\"WSM\",\"SMR\",null,\"SAU\",\"SEN\",\"SYC\",\"SLE\",\"SGP\",\"SVK\",\"SVN\",\"SLB\",\"SOM\",\"ZAF\",\"ESP\",\"LKA\",\"SDN\",\"SUR\",null,\"SWE\",\"CHE\",null,null,\"TJK\",\"TZA\",\"THA\",\"TGO\",\"TON\",null,\"TUN\",\"TUR\",\"TKM\",null,\"TUV\",\"UGA\",\"UKR\",null,\"GBR\",\"USA\",\"URY\",\"UZB\",\"VUT\",\"VEN\",\"VNM\",null,\"WLF\",null,null,\"YEM\",\"ZMB\",\"ZWE\"],\"name\":\"\",\"z\":[0,1,1,1,2,0,1,1,1,1,1,1,2,1,1,1,0,1,2,2,1,0,2,0,1,2,0,1,1,1,2,0,0,0,0,0,2,1,2,0,0,1,1,1,0,0,0,1,0,2,1,2,2,0,1,1,1,1,1,0,0,2,0,2,1,2,2,1,1,0,0,1,1,2,0,1,2,1,1,1,1,1,0,0,1,0,1,2,2,2,0,1,1,1,2,2,1,2,1,2,2,1,1,0,1,1,2,1,1,0,2,1,0,0,1,2,2,2,2,2,0,0,1,1,0,2,1,1,0,1,0,1,1,1,1,1,1,0,0,1,0,2,1,1,1,1,0,0,1,2,1,0,1,1,1,1,1,1,2,2,1,1,1,2,1,0,1,1,1,1,1,1,2,1,1,0,1,0,2,2,2,1,0,0,2,1,0,1,0,2,2,1,2,1,0,1,0,1,1,1,1,1,1,1,0,2,1,2,2,1,1,1,1,1,1,1,1,1,0,0,0],\"type\":\"choropleth\"}],                        {\"template\":{\"data\":{\"histogram2dcontour\":[{\"type\":\"histogram2dcontour\",\"colorbar\":{\"outlinewidth\":0,\"ticks\":\"\"},\"colorscale\":[[0.0,\"#0d0887\"],[0.1111111111111111,\"#46039f\"],[0.2222222222222222,\"#7201a8\"],[0.3333333333333333,\"#9c179e\"],[0.4444444444444444,\"#bd3786\"],[0.5555555555555556,\"#d8576b\"],[0.6666666666666666,\"#ed7953\"],[0.7777777777777778,\"#fb9f3a\"],[0.8888888888888888,\"#fdca26\"],[1.0,\"#f0f921\"]]}],\"choropleth\":[{\"type\":\"choropleth\",\"colorbar\":{\"outlinewidth\":0,\"ticks\":\"\"}}],\"histogram2d\":[{\"type\":\"histogram2d\",\"colorbar\":{\"outlinewidth\":0,\"ticks\":\"\"},\"colorscale\":[[0.0,\"#0d0887\"],[0.1111111111111111,\"#46039f\"],[0.2222222222222222,\"#7201a8\"],[0.3333333333333333,\"#9c179e\"],[0.4444444444444444,\"#bd3786\"],[0.5555555555555556,\"#d8576b\"],[0.6666666666666666,\"#ed7953\"],[0.7777777777777778,\"#fb9f3a\"],[0.8888888888888888,\"#fdca26\"],[1.0,\"#f0f921\"]]}],\"heatmap\":[{\"type\":\"heatmap\",\"colorbar\":{\"outlinewidth\":0,\"ticks\":\"\"},\"colorscale\":[[0.0,\"#0d0887\"],[0.1111111111111111,\"#46039f\"],[0.2222222222222222,\"#7201a8\"],[0.3333333333333333,\"#9c179e\"],[0.4444444444444444,\"#bd3786\"],[0.5555555555555556,\"#d8576b\"],[0.6666666666666666,\"#ed7953\"],[0.7777777777777778,\"#fb9f3a\"],[0.8888888888888888,\"#fdca26\"],[1.0,\"#f0f921\"]]}],\"heatmapgl\":[{\"type\":\"heatmapgl\",\"colorbar\":{\"outlinewidth\":0,\"ticks\":\"\"},\"colorscale\":[[0.0,\"#0d0887\"],[0.1111111111111111,\"#46039f\"],[0.2222222222222222,\"#7201a8\"],[0.3333333333333333,\"#9c179e\"],[0.4444444444444444,\"#bd3786\"],[0.5555555555555556,\"#d8576b\"],[0.6666666666666666,\"#ed7953\"],[0.7777777777777778,\"#fb9f3a\"],[0.8888888888888888,\"#fdca26\"],[1.0,\"#f0f921\"]]}],\"contourcarpet\":[{\"type\":\"contourcarpet\",\"colorbar\":{\"outlinewidth\":0,\"ticks\":\"\"}}],\"contour\":[{\"type\":\"contour\",\"colorbar\":{\"outlinewidth\":0,\"ticks\":\"\"},\"colorscale\":[[0.0,\"#0d0887\"],[0.1111111111111111,\"#46039f\"],[0.2222222222222222,\"#7201a8\"],[0.3333333333333333,\"#9c179e\"],[0.4444444444444444,\"#bd3786\"],[0.5555555555555556,\"#d8576b\"],[0.6666666666666666,\"#ed7953\"],[0.7777777777777778,\"#fb9f3a\"],[0.8888888888888888,\"#fdca26\"],[1.0,\"#f0f921\"]]}],\"surface\":[{\"type\":\"surface\",\"colorbar\":{\"outlinewidth\":0,\"ticks\":\"\"},\"colorscale\":[[0.0,\"#0d0887\"],[0.1111111111111111,\"#46039f\"],[0.2222222222222222,\"#7201a8\"],[0.3333333333333333,\"#9c179e\"],[0.4444444444444444,\"#bd3786\"],[0.5555555555555556,\"#d8576b\"],[0.6666666666666666,\"#ed7953\"],[0.7777777777777778,\"#fb9f3a\"],[0.8888888888888888,\"#fdca26\"],[1.0,\"#f0f921\"]]}],\"mesh3d\":[{\"type\":\"mesh3d\",\"colorbar\":{\"outlinewidth\":0,\"ticks\":\"\"}}],\"scatter\":[{\"fillpattern\":{\"fillmode\":\"overlay\",\"size\":10,\"solidity\":0.2},\"type\":\"scatter\"}],\"parcoords\":[{\"type\":\"parcoords\",\"line\":{\"colorbar\":{\"outlinewidth\":0,\"ticks\":\"\"}}}],\"scatterpolargl\":[{\"type\":\"scatterpolargl\",\"marker\":{\"colorbar\":{\"outlinewidth\":0,\"ticks\":\"\"}}}],\"bar\":[{\"error_x\":{\"color\":\"#2a3f5f\"},\"error_y\":{\"color\":\"#2a3f5f\"},\"marker\":{\"line\":{\"color\":\"#E5ECF6\",\"width\":0.5},\"pattern\":{\"fillmode\":\"overlay\",\"size\":10,\"solidity\":0.2}},\"type\":\"bar\"}],\"scattergeo\":[{\"type\":\"scattergeo\",\"marker\":{\"colorbar\":{\"outlinewidth\":0,\"ticks\":\"\"}}}],\"scatterpolar\":[{\"type\":\"scatterpolar\",\"marker\":{\"colorbar\":{\"outlinewidth\":0,\"ticks\":\"\"}}}],\"histogram\":[{\"marker\":{\"pattern\":{\"fillmode\":\"overlay\",\"size\":10,\"solidity\":0.2}},\"type\":\"histogram\"}],\"scattergl\":[{\"type\":\"scattergl\",\"marker\":{\"colorbar\":{\"outlinewidth\":0,\"ticks\":\"\"}}}],\"scatter3d\":[{\"type\":\"scatter3d\",\"line\":{\"colorbar\":{\"outlinewidth\":0,\"ticks\":\"\"}},\"marker\":{\"colorbar\":{\"outlinewidth\":0,\"ticks\":\"\"}}}],\"scattermapbox\":[{\"type\":\"scattermapbox\",\"marker\":{\"colorbar\":{\"outlinewidth\":0,\"ticks\":\"\"}}}],\"scatterternary\":[{\"type\":\"scatterternary\",\"marker\":{\"colorbar\":{\"outlinewidth\":0,\"ticks\":\"\"}}}],\"scattercarpet\":[{\"type\":\"scattercarpet\",\"marker\":{\"colorbar\":{\"outlinewidth\":0,\"ticks\":\"\"}}}],\"carpet\":[{\"aaxis\":{\"endlinecolor\":\"#2a3f5f\",\"gridcolor\":\"white\",\"linecolor\":\"white\",\"minorgridcolor\":\"white\",\"startlinecolor\":\"#2a3f5f\"},\"baxis\":{\"endlinecolor\":\"#2a3f5f\",\"gridcolor\":\"white\",\"linecolor\":\"white\",\"minorgridcolor\":\"white\",\"startlinecolor\":\"#2a3f5f\"},\"type\":\"carpet\"}],\"table\":[{\"cells\":{\"fill\":{\"color\":\"#EBF0F8\"},\"line\":{\"color\":\"white\"}},\"header\":{\"fill\":{\"color\":\"#C8D4E3\"},\"line\":{\"color\":\"white\"}},\"type\":\"table\"}],\"barpolar\":[{\"marker\":{\"line\":{\"color\":\"#E5ECF6\",\"width\":0.5},\"pattern\":{\"fillmode\":\"overlay\",\"size\":10,\"solidity\":0.2}},\"type\":\"barpolar\"}],\"pie\":[{\"automargin\":true,\"type\":\"pie\"}]},\"layout\":{\"autotypenumbers\":\"strict\",\"colorway\":[\"#636efa\",\"#EF553B\",\"#00cc96\",\"#ab63fa\",\"#FFA15A\",\"#19d3f3\",\"#FF6692\",\"#B6E880\",\"#FF97FF\",\"#FECB52\"],\"font\":{\"color\":\"#2a3f5f\"},\"hovermode\":\"closest\",\"hoverlabel\":{\"align\":\"left\"},\"paper_bgcolor\":\"white\",\"plot_bgcolor\":\"#E5ECF6\",\"polar\":{\"bgcolor\":\"#E5ECF6\",\"angularaxis\":{\"gridcolor\":\"white\",\"linecolor\":\"white\",\"ticks\":\"\"},\"radialaxis\":{\"gridcolor\":\"white\",\"linecolor\":\"white\",\"ticks\":\"\"}},\"ternary\":{\"bgcolor\":\"#E5ECF6\",\"aaxis\":{\"gridcolor\":\"white\",\"linecolor\":\"white\",\"ticks\":\"\"},\"baxis\":{\"gridcolor\":\"white\",\"linecolor\":\"white\",\"ticks\":\"\"},\"caxis\":{\"gridcolor\":\"white\",\"linecolor\":\"white\",\"ticks\":\"\"}},\"coloraxis\":{\"colorbar\":{\"outlinewidth\":0,\"ticks\":\"\"}},\"colorscale\":{\"sequential\":[[0.0,\"#0d0887\"],[0.1111111111111111,\"#46039f\"],[0.2222222222222222,\"#7201a8\"],[0.3333333333333333,\"#9c179e\"],[0.4444444444444444,\"#bd3786\"],[0.5555555555555556,\"#d8576b\"],[0.6666666666666666,\"#ed7953\"],[0.7777777777777778,\"#fb9f3a\"],[0.8888888888888888,\"#fdca26\"],[1.0,\"#f0f921\"]],\"sequentialminus\":[[0.0,\"#0d0887\"],[0.1111111111111111,\"#46039f\"],[0.2222222222222222,\"#7201a8\"],[0.3333333333333333,\"#9c179e\"],[0.4444444444444444,\"#bd3786\"],[0.5555555555555556,\"#d8576b\"],[0.6666666666666666,\"#ed7953\"],[0.7777777777777778,\"#fb9f3a\"],[0.8888888888888888,\"#fdca26\"],[1.0,\"#f0f921\"]],\"diverging\":[[0,\"#8e0152\"],[0.1,\"#c51b7d\"],[0.2,\"#de77ae\"],[0.3,\"#f1b6da\"],[0.4,\"#fde0ef\"],[0.5,\"#f7f7f7\"],[0.6,\"#e6f5d0\"],[0.7,\"#b8e186\"],[0.8,\"#7fbc41\"],[0.9,\"#4d9221\"],[1,\"#276419\"]]},\"xaxis\":{\"gridcolor\":\"white\",\"linecolor\":\"white\",\"ticks\":\"\",\"title\":{\"standoff\":15},\"zerolinecolor\":\"white\",\"automargin\":true,\"zerolinewidth\":2},\"yaxis\":{\"gridcolor\":\"white\",\"linecolor\":\"white\",\"ticks\":\"\",\"title\":{\"standoff\":15},\"zerolinecolor\":\"white\",\"automargin\":true,\"zerolinewidth\":2},\"scene\":{\"xaxis\":{\"backgroundcolor\":\"#E5ECF6\",\"gridcolor\":\"white\",\"linecolor\":\"white\",\"showbackground\":true,\"ticks\":\"\",\"zerolinecolor\":\"white\",\"gridwidth\":2},\"yaxis\":{\"backgroundcolor\":\"#E5ECF6\",\"gridcolor\":\"white\",\"linecolor\":\"white\",\"showbackground\":true,\"ticks\":\"\",\"zerolinecolor\":\"white\",\"gridwidth\":2},\"zaxis\":{\"backgroundcolor\":\"#E5ECF6\",\"gridcolor\":\"white\",\"linecolor\":\"white\",\"showbackground\":true,\"ticks\":\"\",\"zerolinecolor\":\"white\",\"gridwidth\":2}},\"shapedefaults\":{\"line\":{\"color\":\"#2a3f5f\"}},\"annotationdefaults\":{\"arrowcolor\":\"#2a3f5f\",\"arrowhead\":0,\"arrowwidth\":1},\"geo\":{\"bgcolor\":\"white\",\"landcolor\":\"#E5ECF6\",\"subunitcolor\":\"white\",\"showland\":true,\"showlakes\":true,\"lakecolor\":\"white\"},\"title\":{\"x\":0.05},\"mapbox\":{\"style\":\"light\"}}},\"geo\":{\"domain\":{\"x\":[0.0,1.0],\"y\":[0.0,1.0]},\"center\":{}},\"coloraxis\":{\"colorbar\":{\"title\":{\"text\":\"Cluster\"}},\"colorscale\":[[0.0,\"#0d0887\"],[0.1111111111111111,\"#46039f\"],[0.2222222222222222,\"#7201a8\"],[0.3333333333333333,\"#9c179e\"],[0.4444444444444444,\"#bd3786\"],[0.5555555555555556,\"#d8576b\"],[0.6666666666666666,\"#ed7953\"],[0.7777777777777778,\"#fb9f3a\"],[0.8888888888888888,\"#fdca26\"],[1.0,\"#f0f921\"]]},\"legend\":{\"tracegroupgap\":0},\"margin\":{\"t\":60}},                        {\"responsive\": true}                    ).then(function(){\n                            \nvar gd = document.getElementById('eae67be2-798a-4248-bc3b-93ee8a229f49');\nvar x = new MutationObserver(function (mutations, observer) {{\n        var display = window.getComputedStyle(gd).display;\n        if (!display || display === 'none') {{\n            console.log([gd, 'removed!']);\n            Plotly.purge(gd);\n            observer.disconnect();\n        }}\n}});\n\n// Listen for the removal of the full notebook cells\nvar notebookContainer = gd.closest('#notebook-container');\nif (notebookContainer) {{\n    x.observe(notebookContainer, {childList: true});\n}}\n\n// Listen for the clearing of the current output cell\nvar outputEl = gd.closest('.output');\nif (outputEl) {{\n    x.observe(outputEl, {childList: true});\n}}\n\n                        })                };                });            </script>        </div>"
     },
     "metadata": {},
     "output_type": "display_data"
    }
   ],
   "source": [
    "import plotly.express as px\n",
    "fig = px.choropleth(df, locations=\"ISO Code\",\n",
    "                    color=\"Cluster\",\n",
    "                    hover_name=\"Country\")# column to add to hover information\n",
    "fig.show()\n"
   ],
   "metadata": {
    "collapsed": false
   }
  }
 ],
 "metadata": {
  "kernelspec": {
   "display_name": "Python 3",
   "language": "python",
   "name": "python3"
  },
  "language_info": {
   "codemirror_mode": {
    "name": "ipython",
    "version": 2
   },
   "file_extension": ".py",
   "mimetype": "text/x-python",
   "name": "python",
   "nbconvert_exporter": "python",
   "pygments_lexer": "ipython2",
   "version": "2.7.6"
  }
 },
 "nbformat": 4,
 "nbformat_minor": 0
}
