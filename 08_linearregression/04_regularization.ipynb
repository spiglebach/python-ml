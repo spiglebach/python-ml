{
 "cells": [
  {
   "cell_type": "code",
   "execution_count": 1,
   "metadata": {
    "collapsed": true
   },
   "outputs": [],
   "source": [
    "import numpy as np\n",
    "import pandas as pd\n",
    "import matplotlib.pyplot as plt\n",
    "import seaborn as sns\n",
    "\n",
    "df = pd.read_csv('../course_notebooks/08-Linear-Regression-Models/Advertising.csv')\n",
    "x=df.drop('sales',axis=1)\n",
    "y=df['sales']"
   ]
  },
  {
   "cell_type": "code",
   "execution_count": 2,
   "outputs": [],
   "source": [
    "from sklearn.preprocessing import PolynomialFeatures\n",
    "polynomial_converter = PolynomialFeatures(3, include_bias=False)\n",
    "poly_features = polynomial_converter.fit_transform(x)"
   ],
   "metadata": {
    "collapsed": false
   }
  },
  {
   "cell_type": "code",
   "execution_count": 3,
   "outputs": [],
   "source": [
    "from sklearn.model_selection import train_test_split\n",
    "x_tr, x_te, y_tr, y_te = train_test_split(poly_features,y,test_size=0.3,random_state=101)"
   ],
   "metadata": {
    "collapsed": false
   }
  },
  {
   "cell_type": "code",
   "execution_count": 4,
   "outputs": [],
   "source": [
    "from sklearn.preprocessing import StandardScaler\n",
    "scaler=StandardScaler()"
   ],
   "metadata": {
    "collapsed": false
   }
  },
  {
   "cell_type": "code",
   "execution_count": 5,
   "outputs": [
    {
     "data": {
      "text/plain": "array([ 0.49300171, -0.33994238,  1.61586707,  0.28407363, -0.02568776,\n        1.49677566, -0.59023161,  0.41659155,  1.6137853 ,  0.08057172,\n       -0.05392229,  1.01524393, -0.36986163,  0.52457967,  1.48737034,\n       -0.66096022, -0.16360242,  0.54694754,  1.37075536])"
     },
     "execution_count": 5,
     "metadata": {},
     "output_type": "execute_result"
    }
   ],
   "source": [
    "scaler.fit(x_tr)\n",
    "x_train=scaler.transform(x_tr)\n",
    "x_test=scaler.transform(x_te)\n",
    "x_train[0]"
   ],
   "metadata": {
    "collapsed": false
   }
  },
  {
   "cell_type": "markdown",
   "source": [
    "# Ridge"
   ],
   "metadata": {
    "collapsed": false
   }
  },
  {
   "cell_type": "code",
   "execution_count": 15,
   "outputs": [
    {
     "name": "stdout",
     "output_type": "stream",
     "text": [
      "0.6563690894367935\n",
      "1.0326373897987993\n"
     ]
    }
   ],
   "source": [
    "from sklearn.linear_model import Ridge\n",
    "ridge_model=Ridge(alpha=20)\n",
    "ridge_model.fit(x_train,y_tr)\n",
    "test_predictions = ridge_model.predict(x_test)\n",
    "from sklearn.metrics import mean_absolute_error, mean_squared_error\n",
    "mae = mean_absolute_error(y_te, test_predictions)\n",
    "rmse = np.sqrt(mean_squared_error(y_te, test_predictions))\n",
    "print(mae)\n",
    "print(rmse)\n"
   ],
   "metadata": {
    "collapsed": false
   }
  },
  {
   "cell_type": "code",
   "execution_count": 28,
   "outputs": [
    {
     "name": "stdout",
     "output_type": "stream",
     "text": [
      "0.1\n",
      "0.42737748843643875\n",
      "0.6180719926971409\n",
      "-0.3749223340292948\n"
     ]
    }
   ],
   "source": [
    "from sklearn.linear_model import RidgeCV\n",
    "from sklearn.metrics import mean_absolute_error, mean_squared_error\n",
    "rcv=RidgeCV(alphas=(0.1,1.0,10.0),scoring='neg_mean_absolute_error')\n",
    "rcv.fit(x_train,y_tr)\n",
    "print(rcv.alpha_)\n",
    "test_predictions = rcv.predict(x_test)\n",
    "mae = mean_absolute_error(y_te, test_predictions)\n",
    "rmse = np.sqrt(mean_squared_error(y_te, test_predictions))\n",
    "print(mae)\n",
    "print(rmse)\n",
    "print(rcv.best_score_)"
   ],
   "metadata": {
    "collapsed": false
   }
  },
  {
   "cell_type": "code",
   "execution_count": 29,
   "outputs": [
    {
     "data": {
      "text/plain": "dict_keys(['explained_variance', 'r2', 'max_error', 'matthews_corrcoef', 'neg_median_absolute_error', 'neg_mean_absolute_error', 'neg_mean_absolute_percentage_error', 'neg_mean_squared_error', 'neg_mean_squared_log_error', 'neg_root_mean_squared_error', 'neg_mean_poisson_deviance', 'neg_mean_gamma_deviance', 'accuracy', 'top_k_accuracy', 'roc_auc', 'roc_auc_ovr', 'roc_auc_ovo', 'roc_auc_ovr_weighted', 'roc_auc_ovo_weighted', 'balanced_accuracy', 'average_precision', 'neg_log_loss', 'neg_brier_score', 'positive_likelihood_ratio', 'neg_negative_likelihood_ratio', 'adjusted_rand_score', 'rand_score', 'homogeneity_score', 'completeness_score', 'v_measure_score', 'mutual_info_score', 'adjusted_mutual_info_score', 'normalized_mutual_info_score', 'fowlkes_mallows_score', 'precision', 'precision_macro', 'precision_micro', 'precision_samples', 'precision_weighted', 'recall', 'recall_macro', 'recall_micro', 'recall_samples', 'recall_weighted', 'f1', 'f1_macro', 'f1_micro', 'f1_samples', 'f1_weighted', 'jaccard', 'jaccard_macro', 'jaccard_micro', 'jaccard_samples', 'jaccard_weighted'])"
     },
     "execution_count": 29,
     "metadata": {},
     "output_type": "execute_result"
    }
   ],
   "source": [
    "from sklearn.metrics import SCORERS\n",
    "SCORERS.keys()"
   ],
   "metadata": {
    "collapsed": false
   }
  },
  {
   "cell_type": "markdown",
   "source": [
    "# Lasso"
   ],
   "metadata": {
    "collapsed": false
   }
  },
  {
   "cell_type": "code",
   "execution_count": 39,
   "outputs": [
    {
     "name": "stdout",
     "output_type": "stream",
     "text": [
      "0.004943070909225833\n",
      "0.4335034618590074\n",
      "0.6063140748984044\n"
     ]
    },
    {
     "data": {
      "text/plain": "array([ 4.86023329,  0.12544598,  0.20746872, -4.99250395,  4.38026519,\n       -0.22977201, -0.        ,  0.07267717, -0.        ,  1.77780246,\n       -0.69614918, -0.        ,  0.12044132, -0.        , -0.        ,\n       -0.        ,  0.        ,  0.        , -0.        ])"
     },
     "execution_count": 39,
     "metadata": {},
     "output_type": "execute_result"
    }
   ],
   "source": [
    "from sklearn.linear_model import LassoCV\n",
    "lasso_model=LassoCV(eps=0.001,n_alphas=100,cv=5,max_iter=100000)\n",
    "#lasso_model=LassoCV(eps=0.1,n_alphas=100,cv=5)\n",
    "lasso_model.fit(x_train,y_tr)\n",
    "print(lasso_model.alpha_)\n",
    "test_predictions = lasso_model.predict(x_test)\n",
    "mae = mean_absolute_error(y_te, test_predictions)\n",
    "rmse = np.sqrt(mean_squared_error(y_te, test_predictions))\n",
    "print(mae)\n",
    "print(rmse)\n",
    "lasso_model.coef_"
   ],
   "metadata": {
    "collapsed": false
   }
  },
  {
   "cell_type": "markdown",
   "source": [
    "# Elastic Net"
   ],
   "metadata": {
    "collapsed": false
   }
  },
  {
   "cell_type": "code",
   "execution_count": 44,
   "outputs": [
    {
     "name": "stdout",
     "output_type": "stream",
     "text": [
      "0.004943070909225833\n",
      "0.4335034618590074\n",
      "0.6063140748984044\n",
      "1.0\n"
     ]
    },
    {
     "data": {
      "text/plain": "array([ 4.86023329,  0.12544598,  0.20746872, -4.99250395,  4.38026519,\n       -0.22977201, -0.        ,  0.07267717, -0.        ,  1.77780246,\n       -0.69614918, -0.        ,  0.12044132, -0.        , -0.        ,\n       -0.        ,  0.        ,  0.        , -0.        ])"
     },
     "execution_count": 44,
     "metadata": {},
     "output_type": "execute_result"
    }
   ],
   "source": [
    "from sklearn.linear_model import ElasticNetCV\n",
    "elastic_model=ElasticNetCV(l1_ratio=[.1,.5,.9,.95,.99,1],eps=0.001,n_alphas=100,cv=5,max_iter=100000)\n",
    "elastic_model.fit(x_train,y_tr)\n",
    "print(elastic_model.alpha_)\n",
    "test_predictions = elastic_model.predict(x_test)\n",
    "mae = mean_absolute_error(y_te, test_predictions)\n",
    "rmse = np.sqrt(mean_squared_error(y_te, test_predictions))\n",
    "print(mae)\n",
    "print(rmse)\n",
    "print(elastic_model.l1_ratio_)\n",
    "elastic_model.coef_"
   ],
   "metadata": {
    "collapsed": false
   }
  },
  {
   "cell_type": "code",
   "execution_count": null,
   "outputs": [],
   "source": [],
   "metadata": {
    "collapsed": false
   }
  }
 ],
 "metadata": {
  "kernelspec": {
   "display_name": "Python 3",
   "language": "python",
   "name": "python3"
  },
  "language_info": {
   "codemirror_mode": {
    "name": "ipython",
    "version": 2
   },
   "file_extension": ".py",
   "mimetype": "text/x-python",
   "name": "python",
   "nbconvert_exporter": "python",
   "pygments_lexer": "ipython2",
   "version": "2.7.6"
  }
 },
 "nbformat": 4,
 "nbformat_minor": 0
}
