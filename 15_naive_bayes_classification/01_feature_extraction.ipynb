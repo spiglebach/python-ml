{
 "cells": [
  {
   "cell_type": "code",
   "execution_count": 32,
   "metadata": {
    "collapsed": true
   },
   "outputs": [],
   "source": [
    "import numpy as np\n",
    "import pandas as pd"
   ]
  },
  {
   "cell_type": "code",
   "execution_count": 33,
   "outputs": [],
   "source": [
    "# first.readlines()\n",
    "# first.read()\n",
    "def count_words(document,document_vocabulary,total_vocabulary):\n",
    "    words = document.read().lower().split()\n",
    "    for word in words:\n",
    "        document_occurrences = document_vocabulary.setdefault(word,0)\n",
    "        document_vocabulary[word] = document_occurrences + 1\n",
    "        total_occurrences = total_vocabulary.setdefault(word,0)\n",
    "        total_vocabulary[word] = total_occurrences + 1"
   ],
   "metadata": {
    "collapsed": false
   }
  },
  {
   "cell_type": "code",
   "execution_count": 34,
   "outputs": [
    {
     "name": "stdout",
     "output_type": "stream",
     "text": [
      "unique word count: 19\n"
     ]
    },
    {
     "data": {
      "text/plain": "{'this': 2,\n 'is': 4,\n 'a': 2,\n 'story': 2,\n 'about': 2,\n 'dogs': 2,\n 'our': 1,\n 'canine': 1,\n 'pets': 1,\n 'are': 1,\n 'furry': 1,\n 'animals': 1,\n 'surfing': 2,\n 'catching': 1,\n 'waves': 1,\n 'fun': 1,\n 'popular': 1,\n 'water': 1,\n 'sport': 1}"
     },
     "execution_count": 34,
     "metadata": {},
     "output_type": "execute_result"
    }
   ],
   "source": [
    "total_vocabulary = {}\n",
    "first_vocabulary = {}\n",
    "second_vocabulary = {}\n",
    "with open('One.txt') as first, open('Two.txt') as second:\n",
    "    count_words(first,first_vocabulary,total_vocabulary)\n",
    "    count_words(second,second_vocabulary,total_vocabulary)\n",
    "unique_word_count = len(total_vocabulary.keys())\n",
    "print(f'unique word count: {unique_word_count}')\n",
    "total_vocabulary"
   ],
   "metadata": {
    "collapsed": false
   }
  },
  {
   "cell_type": "code",
   "execution_count": 35,
   "outputs": [],
   "source": [
    "def add_word_counts(words,document_frequencies,full_vocabulary):\n",
    "    for word in words:\n",
    "        word_index = full_vocabulary[word]\n",
    "        document_frequencies[word_index] +=1\n",
    "with open('One.txt') as first, open('Two.txt') as second:\n",
    "    first_words = first.read().lower().split()\n",
    "    second_words = second.read().lower().split()\n",
    "all_uni_words = set()\n",
    "all_uni_words.update(set(first_words))\n",
    "all_uni_words.update(set(second_words))\n",
    "full_vocabulary = dict()\n",
    "i = 0\n",
    "for word in all_uni_words:\n",
    "    full_vocabulary[word] = i\n",
    "    i = i + 1\n",
    "one_freq = [0]*len(all_uni_words)\n",
    "two_freq = [0]*len(all_uni_words)\n",
    "all_words = ['']*len(all_uni_words)\n",
    "add_word_counts(first_words,one_freq,full_vocabulary)\n",
    "add_word_counts(second_words,two_freq,full_vocabulary)\n",
    "bag_of_words = pd.DataFrame(data=[one_freq,two_freq],columns=full_vocabulary.keys())"
   ],
   "metadata": {
    "collapsed": false
   }
  },
  {
   "cell_type": "code",
   "execution_count": 36,
   "outputs": [
    {
     "data": {
      "text/plain": "   story  this  water  are  dogs  about  fun  canine  is  our  catching  \\\n0      1     1      0    1     2      1    0       1   1    1         0   \n1      1     1      1    0     0      1    1       0   3    0         1   \n\n   furry  waves  popular  a  pets  sport  surfing  animals  \n0      1      0        0  1     1      0        0        1  \n1      0      1        1  1     0      1        2        0  ",
      "text/html": "<div>\n<style scoped>\n    .dataframe tbody tr th:only-of-type {\n        vertical-align: middle;\n    }\n\n    .dataframe tbody tr th {\n        vertical-align: top;\n    }\n\n    .dataframe thead th {\n        text-align: right;\n    }\n</style>\n<table border=\"1\" class=\"dataframe\">\n  <thead>\n    <tr style=\"text-align: right;\">\n      <th></th>\n      <th>story</th>\n      <th>this</th>\n      <th>water</th>\n      <th>are</th>\n      <th>dogs</th>\n      <th>about</th>\n      <th>fun</th>\n      <th>canine</th>\n      <th>is</th>\n      <th>our</th>\n      <th>catching</th>\n      <th>furry</th>\n      <th>waves</th>\n      <th>popular</th>\n      <th>a</th>\n      <th>pets</th>\n      <th>sport</th>\n      <th>surfing</th>\n      <th>animals</th>\n    </tr>\n  </thead>\n  <tbody>\n    <tr>\n      <th>0</th>\n      <td>1</td>\n      <td>1</td>\n      <td>0</td>\n      <td>1</td>\n      <td>2</td>\n      <td>1</td>\n      <td>0</td>\n      <td>1</td>\n      <td>1</td>\n      <td>1</td>\n      <td>0</td>\n      <td>1</td>\n      <td>0</td>\n      <td>0</td>\n      <td>1</td>\n      <td>1</td>\n      <td>0</td>\n      <td>0</td>\n      <td>1</td>\n    </tr>\n    <tr>\n      <th>1</th>\n      <td>1</td>\n      <td>1</td>\n      <td>1</td>\n      <td>0</td>\n      <td>0</td>\n      <td>1</td>\n      <td>1</td>\n      <td>0</td>\n      <td>3</td>\n      <td>0</td>\n      <td>1</td>\n      <td>0</td>\n      <td>1</td>\n      <td>1</td>\n      <td>1</td>\n      <td>0</td>\n      <td>1</td>\n      <td>2</td>\n      <td>0</td>\n    </tr>\n  </tbody>\n</table>\n</div>"
     },
     "execution_count": 36,
     "metadata": {},
     "output_type": "execute_result"
    }
   ],
   "source": [
    "bag_of_words"
   ],
   "metadata": {
    "collapsed": false
   }
  },
  {
   "cell_type": "code",
   "execution_count": 36,
   "outputs": [],
   "source": [],
   "metadata": {
    "collapsed": false
   }
  },
  {
   "cell_type": "code",
   "execution_count": 36,
   "outputs": [],
   "source": [],
   "metadata": {
    "collapsed": false
   }
  },
  {
   "cell_type": "code",
   "execution_count": 37,
   "outputs": [],
   "source": [
    "text = ['This is a line',\n",
    "        'This is another line',\n",
    "        'Completely different line']"
   ],
   "metadata": {
    "collapsed": false
   }
  },
  {
   "cell_type": "code",
   "execution_count": 49,
   "outputs": [],
   "source": [
    "from sklearn.feature_extraction.text import CountVectorizer\n",
    "cv = CountVectorizer()\n",
    "# cv = CountVectorizer(stop_words='english')\n",
    "sparse_matrix = cv.fit_transform(text)"
   ],
   "metadata": {
    "collapsed": false
   }
  },
  {
   "cell_type": "code",
   "execution_count": 50,
   "outputs": [
    {
     "data": {
      "text/plain": "matrix([[0, 0, 0, 1, 1, 1],\n        [1, 0, 0, 1, 1, 1],\n        [0, 1, 1, 0, 1, 0]], dtype=int64)"
     },
     "execution_count": 50,
     "metadata": {},
     "output_type": "execute_result"
    }
   ],
   "source": [
    "sparse_matrix.todense()"
   ],
   "metadata": {
    "collapsed": false
   }
  },
  {
   "cell_type": "code",
   "execution_count": 51,
   "outputs": [
    {
     "data": {
      "text/plain": "{'this': 5, 'is': 3, 'line': 4, 'another': 0, 'completely': 1, 'different': 2}"
     },
     "execution_count": 51,
     "metadata": {},
     "output_type": "execute_result"
    }
   ],
   "source": [
    "cv.vocabulary_ # indices of words in sparse matrix"
   ],
   "metadata": {
    "collapsed": false
   }
  },
  {
   "cell_type": "code",
   "execution_count": 55,
   "outputs": [
    {
     "data": {
      "text/plain": "matrix([[0.        , 0.        , 0.        , 0.61980538, 0.48133417,\n         0.61980538],\n        [0.63174505, 0.        , 0.        , 0.4804584 , 0.37311881,\n         0.4804584 ],\n        [0.        , 0.65249088, 0.65249088, 0.        , 0.38537163,\n         0.        ]])"
     },
     "execution_count": 55,
     "metadata": {},
     "output_type": "execute_result"
    }
   ],
   "source": [
    "from sklearn.feature_extraction.text import TfidfTransformer\n",
    "tfidf = TfidfTransformer()\n",
    "results = tfidf.fit_transform(sparse_matrix)\n",
    "results.todense()"
   ],
   "metadata": {
    "collapsed": false
   }
  },
  {
   "cell_type": "code",
   "execution_count": 56,
   "outputs": [
    {
     "data": {
      "text/plain": "matrix([[0.        , 0.        , 0.        , 0.61980538, 0.48133417,\n         0.61980538],\n        [0.63174505, 0.        , 0.        , 0.4804584 , 0.37311881,\n         0.4804584 ],\n        [0.        , 0.65249088, 0.65249088, 0.        , 0.38537163,\n         0.        ]])"
     },
     "execution_count": 56,
     "metadata": {},
     "output_type": "execute_result"
    }
   ],
   "source": [
    "from sklearn.feature_extraction.text import TfidfVectorizer\n",
    "vectorizer = TfidfVectorizer()\n",
    "vectorizer.fit_transform(text).todense()\n"
   ],
   "metadata": {
    "collapsed": false
   }
  }
 ],
 "metadata": {
  "kernelspec": {
   "display_name": "Python 3",
   "language": "python",
   "name": "python3"
  },
  "language_info": {
   "codemirror_mode": {
    "name": "ipython",
    "version": 2
   },
   "file_extension": ".py",
   "mimetype": "text/x-python",
   "name": "python",
   "nbconvert_exporter": "python",
   "pygments_lexer": "ipython2",
   "version": "2.7.6"
  }
 },
 "nbformat": 4,
 "nbformat_minor": 0
}
