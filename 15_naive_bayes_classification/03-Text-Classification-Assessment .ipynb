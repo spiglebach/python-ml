{
 "cells": [
  {
   "cell_type": "markdown",
   "metadata": {
    "collapsed": true
   },
   "source": [
    "___\n",
    "\n",
    "<a href='http://www.pieriandata.com'> <img src='../Pierian_Data_Logo.png' /></a>\n",
    "___"
   ]
  },
  {
   "cell_type": "markdown",
   "metadata": {},
   "source": [
    "# Text Classification Assessment\n",
    "\n",
    "### Goal: Given a set of text movie reviews that have been labeled negative or positive\n",
    "\n",
    "For more information on this dataset visit http://ai.stanford.edu/~amaas/data/sentiment/\n",
    "\n",
    "## Complete the tasks in bold below!"
   ]
  },
  {
   "cell_type": "markdown",
   "metadata": {},
   "source": [
    "**Task: Perform imports and load the dataset into a pandas DataFrame**\n",
    "For this exercise you can load the dataset from `'../DATA/moviereviews.csv'`."
   ]
  },
  {
   "cell_type": "code",
   "execution_count": 1,
   "metadata": {},
   "outputs": [],
   "source": [
    "# CODE HERE"
   ]
  },
  {
   "cell_type": "code",
   "execution_count": 1,
   "metadata": {},
   "outputs": [],
   "source": [
    "import numpy as np\n",
    "import pandas as pd"
   ]
  },
  {
   "cell_type": "code",
   "execution_count": 2,
   "metadata": {},
   "outputs": [],
   "source": [
    "df = pd.read_csv('../DATA/moviereviews.csv')"
   ]
  },
  {
   "cell_type": "code",
   "execution_count": 3,
   "metadata": {},
   "outputs": [
    {
     "data": {
      "text/plain": "  label                                             review\n0   neg  how do films like mouse hunt get into theatres...\n1   neg  some talented actresses are blessed with a dem...\n2   pos  this has been an extraordinary year for austra...\n3   pos  according to hollywood movies made in last few...\n4   neg  my first press screening of 1998 and already i...",
      "text/html": "<div>\n<style scoped>\n    .dataframe tbody tr th:only-of-type {\n        vertical-align: middle;\n    }\n\n    .dataframe tbody tr th {\n        vertical-align: top;\n    }\n\n    .dataframe thead th {\n        text-align: right;\n    }\n</style>\n<table border=\"1\" class=\"dataframe\">\n  <thead>\n    <tr style=\"text-align: right;\">\n      <th></th>\n      <th>label</th>\n      <th>review</th>\n    </tr>\n  </thead>\n  <tbody>\n    <tr>\n      <th>0</th>\n      <td>neg</td>\n      <td>how do films like mouse hunt get into theatres...</td>\n    </tr>\n    <tr>\n      <th>1</th>\n      <td>neg</td>\n      <td>some talented actresses are blessed with a dem...</td>\n    </tr>\n    <tr>\n      <th>2</th>\n      <td>pos</td>\n      <td>this has been an extraordinary year for austra...</td>\n    </tr>\n    <tr>\n      <th>3</th>\n      <td>pos</td>\n      <td>according to hollywood movies made in last few...</td>\n    </tr>\n    <tr>\n      <th>4</th>\n      <td>neg</td>\n      <td>my first press screening of 1998 and already i...</td>\n    </tr>\n  </tbody>\n</table>\n</div>"
     },
     "execution_count": 3,
     "metadata": {},
     "output_type": "execute_result"
    }
   ],
   "source": [
    "df.head()"
   ]
  },
  {
   "cell_type": "markdown",
   "metadata": {},
   "source": [
    "**TASK: Check to see if there are any missing values in the dataframe.**"
   ]
  },
  {
   "cell_type": "code",
   "execution_count": 7,
   "metadata": {},
   "outputs": [
    {
     "data": {
      "text/plain": "label      0\nreview    35\ndtype: int64"
     },
     "execution_count": 7,
     "metadata": {},
     "output_type": "execute_result"
    }
   ],
   "source": [
    "df.isna().sum()"
   ]
  },
  {
   "cell_type": "code",
   "execution_count": 8,
   "metadata": {},
   "outputs": [
    {
     "data": {
      "text/plain": [
       "label      0\n",
       "review    35\n",
       "dtype: int64"
      ]
     },
     "execution_count": 8,
     "metadata": {},
     "output_type": "execute_result"
    }
   ],
   "source": []
  },
  {
   "cell_type": "markdown",
   "metadata": {},
   "source": [
    "**TASK: Remove any reviews that are NaN**"
   ]
  },
  {
   "cell_type": "code",
   "execution_count": 9,
   "metadata": {},
   "outputs": [],
   "source": [
    "df = df.dropna()"
   ]
  },
  {
   "cell_type": "markdown",
   "metadata": {},
   "source": [
    "**TASK: Check to see if any reviews are blank strings and not just NaN. Note: This means a review text could just be: \"\" or \"  \" or some other larger blank string. How would you check for this? Note: There are many ways! Once you've discovered the reviews that are blank strings, go ahead and remove them as well. [Click me for a big hint](https://pandas.pydata.org/pandas-docs/stable/reference/api/pandas.Series.str.isspace.html)**"
   ]
  },
  {
   "cell_type": "code",
   "execution_count": 16,
   "metadata": {},
   "outputs": [
    {
     "data": {
      "text/plain": "27"
     },
     "execution_count": 16,
     "metadata": {},
     "output_type": "execute_result"
    }
   ],
   "source": [
    "df['review'].str.isspace().sum()"
   ]
  },
  {
   "cell_type": "code",
   "execution_count": 17,
   "outputs": [
    {
     "data": {
      "text/plain": "     label review\n57     neg       \n71     pos       \n147    pos       \n151    pos       \n283    pos       \n307    pos       \n313    neg       \n323    pos       \n343    pos       \n351    neg       \n427    pos       \n501    neg       \n633    pos       \n675    neg       \n815    neg       \n851    neg       \n977    neg       \n1079   neg       \n1299   pos       \n1455   neg       \n1493   pos       \n1525   neg       \n1531   neg       \n1763   neg       \n1851   neg       \n1905   pos       \n1993   pos       ",
      "text/html": "<div>\n<style scoped>\n    .dataframe tbody tr th:only-of-type {\n        vertical-align: middle;\n    }\n\n    .dataframe tbody tr th {\n        vertical-align: top;\n    }\n\n    .dataframe thead th {\n        text-align: right;\n    }\n</style>\n<table border=\"1\" class=\"dataframe\">\n  <thead>\n    <tr style=\"text-align: right;\">\n      <th></th>\n      <th>label</th>\n      <th>review</th>\n    </tr>\n  </thead>\n  <tbody>\n    <tr>\n      <th>57</th>\n      <td>neg</td>\n      <td></td>\n    </tr>\n    <tr>\n      <th>71</th>\n      <td>pos</td>\n      <td></td>\n    </tr>\n    <tr>\n      <th>147</th>\n      <td>pos</td>\n      <td></td>\n    </tr>\n    <tr>\n      <th>151</th>\n      <td>pos</td>\n      <td></td>\n    </tr>\n    <tr>\n      <th>283</th>\n      <td>pos</td>\n      <td></td>\n    </tr>\n    <tr>\n      <th>307</th>\n      <td>pos</td>\n      <td></td>\n    </tr>\n    <tr>\n      <th>313</th>\n      <td>neg</td>\n      <td></td>\n    </tr>\n    <tr>\n      <th>323</th>\n      <td>pos</td>\n      <td></td>\n    </tr>\n    <tr>\n      <th>343</th>\n      <td>pos</td>\n      <td></td>\n    </tr>\n    <tr>\n      <th>351</th>\n      <td>neg</td>\n      <td></td>\n    </tr>\n    <tr>\n      <th>427</th>\n      <td>pos</td>\n      <td></td>\n    </tr>\n    <tr>\n      <th>501</th>\n      <td>neg</td>\n      <td></td>\n    </tr>\n    <tr>\n      <th>633</th>\n      <td>pos</td>\n      <td></td>\n    </tr>\n    <tr>\n      <th>675</th>\n      <td>neg</td>\n      <td></td>\n    </tr>\n    <tr>\n      <th>815</th>\n      <td>neg</td>\n      <td></td>\n    </tr>\n    <tr>\n      <th>851</th>\n      <td>neg</td>\n      <td></td>\n    </tr>\n    <tr>\n      <th>977</th>\n      <td>neg</td>\n      <td></td>\n    </tr>\n    <tr>\n      <th>1079</th>\n      <td>neg</td>\n      <td></td>\n    </tr>\n    <tr>\n      <th>1299</th>\n      <td>pos</td>\n      <td></td>\n    </tr>\n    <tr>\n      <th>1455</th>\n      <td>neg</td>\n      <td></td>\n    </tr>\n    <tr>\n      <th>1493</th>\n      <td>pos</td>\n      <td></td>\n    </tr>\n    <tr>\n      <th>1525</th>\n      <td>neg</td>\n      <td></td>\n    </tr>\n    <tr>\n      <th>1531</th>\n      <td>neg</td>\n      <td></td>\n    </tr>\n    <tr>\n      <th>1763</th>\n      <td>neg</td>\n      <td></td>\n    </tr>\n    <tr>\n      <th>1851</th>\n      <td>neg</td>\n      <td></td>\n    </tr>\n    <tr>\n      <th>1905</th>\n      <td>pos</td>\n      <td></td>\n    </tr>\n    <tr>\n      <th>1993</th>\n      <td>pos</td>\n      <td></td>\n    </tr>\n  </tbody>\n</table>\n</div>"
     },
     "execution_count": 17,
     "metadata": {},
     "output_type": "execute_result"
    }
   ],
   "source": [
    "df[df['review'].str.isspace()]"
   ],
   "metadata": {
    "collapsed": false
   }
  },
  {
   "cell_type": "code",
   "execution_count": 19,
   "outputs": [
    {
     "data": {
      "text/plain": "Int64Index([  57,   71,  147,  151,  283,  307,  313,  323,  343,  351,  427,\n             501,  633,  675,  815,  851,  977, 1079, 1299, 1455, 1493, 1525,\n            1531, 1763, 1851, 1905, 1993],\n           dtype='int64')"
     },
     "execution_count": 19,
     "metadata": {},
     "output_type": "execute_result"
    }
   ],
   "source": [
    "df[df['review'].str.isspace()].index"
   ],
   "metadata": {
    "collapsed": false
   }
  },
  {
   "cell_type": "code",
   "execution_count": 21,
   "outputs": [],
   "source": [
    "df = df.drop(index=df[df['review'].str.isspace()].index)"
   ],
   "metadata": {
    "collapsed": false
   }
  },
  {
   "cell_type": "code",
   "execution_count": 22,
   "outputs": [
    {
     "name": "stdout",
     "output_type": "stream",
     "text": [
      "<class 'pandas.core.frame.DataFrame'>\n",
      "Int64Index: 1938 entries, 0 to 1999\n",
      "Data columns (total 2 columns):\n",
      " #   Column  Non-Null Count  Dtype \n",
      "---  ------  --------------  ----- \n",
      " 0   label   1938 non-null   object\n",
      " 1   review  1938 non-null   object\n",
      "dtypes: object(2)\n",
      "memory usage: 45.4+ KB\n"
     ]
    }
   ],
   "source": [
    "df.info()"
   ],
   "metadata": {
    "collapsed": false
   }
  },
  {
   "cell_type": "code",
   "execution_count": 18,
   "metadata": {},
   "outputs": [
    {
     "data": {
      "text/plain": [
       "27"
      ]
     },
     "execution_count": 18,
     "metadata": {},
     "output_type": "execute_result"
    }
   ],
   "source": []
  },
  {
   "cell_type": "code",
   "execution_count": 19,
   "metadata": {},
   "outputs": [
    {
     "data": {
      "text/html": [
       "<div>\n",
       "<style scoped>\n",
       "    .dataframe tbody tr th:only-of-type {\n",
       "        vertical-align: middle;\n",
       "    }\n",
       "\n",
       "    .dataframe tbody tr th {\n",
       "        vertical-align: top;\n",
       "    }\n",
       "\n",
       "    .dataframe thead th {\n",
       "        text-align: right;\n",
       "    }\n",
       "</style>\n",
       "<table border=\"1\" class=\"dataframe\">\n",
       "  <thead>\n",
       "    <tr style=\"text-align: right;\">\n",
       "      <th></th>\n",
       "      <th>label</th>\n",
       "      <th>review</th>\n",
       "    </tr>\n",
       "  </thead>\n",
       "  <tbody>\n",
       "    <tr>\n",
       "      <th>57</th>\n",
       "      <td>neg</td>\n",
       "      <td></td>\n",
       "    </tr>\n",
       "    <tr>\n",
       "      <th>71</th>\n",
       "      <td>pos</td>\n",
       "      <td></td>\n",
       "    </tr>\n",
       "    <tr>\n",
       "      <th>147</th>\n",
       "      <td>pos</td>\n",
       "      <td></td>\n",
       "    </tr>\n",
       "    <tr>\n",
       "      <th>151</th>\n",
       "      <td>pos</td>\n",
       "      <td></td>\n",
       "    </tr>\n",
       "    <tr>\n",
       "      <th>283</th>\n",
       "      <td>pos</td>\n",
       "      <td></td>\n",
       "    </tr>\n",
       "    <tr>\n",
       "      <th>307</th>\n",
       "      <td>pos</td>\n",
       "      <td></td>\n",
       "    </tr>\n",
       "    <tr>\n",
       "      <th>313</th>\n",
       "      <td>neg</td>\n",
       "      <td></td>\n",
       "    </tr>\n",
       "    <tr>\n",
       "      <th>323</th>\n",
       "      <td>pos</td>\n",
       "      <td></td>\n",
       "    </tr>\n",
       "    <tr>\n",
       "      <th>343</th>\n",
       "      <td>pos</td>\n",
       "      <td></td>\n",
       "    </tr>\n",
       "    <tr>\n",
       "      <th>351</th>\n",
       "      <td>neg</td>\n",
       "      <td></td>\n",
       "    </tr>\n",
       "    <tr>\n",
       "      <th>427</th>\n",
       "      <td>pos</td>\n",
       "      <td></td>\n",
       "    </tr>\n",
       "    <tr>\n",
       "      <th>501</th>\n",
       "      <td>neg</td>\n",
       "      <td></td>\n",
       "    </tr>\n",
       "    <tr>\n",
       "      <th>633</th>\n",
       "      <td>pos</td>\n",
       "      <td></td>\n",
       "    </tr>\n",
       "    <tr>\n",
       "      <th>675</th>\n",
       "      <td>neg</td>\n",
       "      <td></td>\n",
       "    </tr>\n",
       "    <tr>\n",
       "      <th>815</th>\n",
       "      <td>neg</td>\n",
       "      <td></td>\n",
       "    </tr>\n",
       "    <tr>\n",
       "      <th>851</th>\n",
       "      <td>neg</td>\n",
       "      <td></td>\n",
       "    </tr>\n",
       "    <tr>\n",
       "      <th>977</th>\n",
       "      <td>neg</td>\n",
       "      <td></td>\n",
       "    </tr>\n",
       "    <tr>\n",
       "      <th>1079</th>\n",
       "      <td>neg</td>\n",
       "      <td></td>\n",
       "    </tr>\n",
       "    <tr>\n",
       "      <th>1299</th>\n",
       "      <td>pos</td>\n",
       "      <td></td>\n",
       "    </tr>\n",
       "    <tr>\n",
       "      <th>1455</th>\n",
       "      <td>neg</td>\n",
       "      <td></td>\n",
       "    </tr>\n",
       "    <tr>\n",
       "      <th>1493</th>\n",
       "      <td>pos</td>\n",
       "      <td></td>\n",
       "    </tr>\n",
       "    <tr>\n",
       "      <th>1525</th>\n",
       "      <td>neg</td>\n",
       "      <td></td>\n",
       "    </tr>\n",
       "    <tr>\n",
       "      <th>1531</th>\n",
       "      <td>neg</td>\n",
       "      <td></td>\n",
       "    </tr>\n",
       "    <tr>\n",
       "      <th>1763</th>\n",
       "      <td>neg</td>\n",
       "      <td></td>\n",
       "    </tr>\n",
       "    <tr>\n",
       "      <th>1851</th>\n",
       "      <td>neg</td>\n",
       "      <td></td>\n",
       "    </tr>\n",
       "    <tr>\n",
       "      <th>1905</th>\n",
       "      <td>pos</td>\n",
       "      <td></td>\n",
       "    </tr>\n",
       "    <tr>\n",
       "      <th>1993</th>\n",
       "      <td>pos</td>\n",
       "      <td></td>\n",
       "    </tr>\n",
       "  </tbody>\n",
       "</table>\n",
       "</div>"
      ],
      "text/plain": [
       "     label review\n",
       "57     neg       \n",
       "71     pos       \n",
       "147    pos       \n",
       "151    pos       \n",
       "283    pos       \n",
       "307    pos       \n",
       "313    neg       \n",
       "323    pos       \n",
       "343    pos       \n",
       "351    neg       \n",
       "427    pos       \n",
       "501    neg       \n",
       "633    pos       \n",
       "675    neg       \n",
       "815    neg       \n",
       "851    neg       \n",
       "977    neg       \n",
       "1079   neg       \n",
       "1299   pos       \n",
       "1455   neg       \n",
       "1493   pos       \n",
       "1525   neg       \n",
       "1531   neg       \n",
       "1763   neg       \n",
       "1851   neg       \n",
       "1905   pos       \n",
       "1993   pos       "
      ]
     },
     "execution_count": 19,
     "metadata": {},
     "output_type": "execute_result"
    }
   ],
   "source": []
  },
  {
   "cell_type": "code",
   "execution_count": 21,
   "metadata": {},
   "outputs": [],
   "source": []
  },
  {
   "cell_type": "code",
   "execution_count": 22,
   "metadata": {},
   "outputs": [
    {
     "name": "stdout",
     "output_type": "stream",
     "text": [
      "<class 'pandas.core.frame.DataFrame'>\n",
      "Int64Index: 1938 entries, 0 to 1999\n",
      "Data columns (total 2 columns):\n",
      " #   Column  Non-Null Count  Dtype \n",
      "---  ------  --------------  ----- \n",
      " 0   label   1938 non-null   object\n",
      " 1   review  1938 non-null   object\n",
      "dtypes: object(2)\n",
      "memory usage: 45.4+ KB\n"
     ]
    }
   ],
   "source": []
  },
  {
   "cell_type": "markdown",
   "metadata": {},
   "source": [
    "**TASK: Confirm the value counts per label:**"
   ]
  },
  {
   "cell_type": "code",
   "execution_count": 23,
   "metadata": {},
   "outputs": [
    {
     "data": {
      "text/plain": "neg    969\npos    969\nName: label, dtype: int64"
     },
     "execution_count": 23,
     "metadata": {},
     "output_type": "execute_result"
    }
   ],
   "source": [
    "df['label'].value_counts()"
   ]
  },
  {
   "cell_type": "code",
   "execution_count": 24,
   "metadata": {},
   "outputs": [
    {
     "data": {
      "text/plain": [
       "pos    969\n",
       "neg    969\n",
       "Name: label, dtype: int64"
      ]
     },
     "execution_count": 24,
     "metadata": {},
     "output_type": "execute_result"
    }
   ],
   "source": []
  },
  {
   "cell_type": "markdown",
   "metadata": {},
   "source": [
    "## EDA on Bag of Words\n",
    "\n",
    "**Bonus Task: Can you figure out how to use a CountVectorizer model to get the top 20 words (that are not english stop words) per label type? Note, this is a bonus task as we did not show this in the lectures. But a quick cursory Google search should put you on the right path.  [Click me for a big hint](https://stackoverflow.com/questions/16288497/find-the-most-common-term-in-scikit-learn-classifier)**"
   ]
  },
  {
   "cell_type": "code",
   "execution_count": 25,
   "metadata": {},
   "outputs": [
    {
     "data": {
      "text/plain": "0    how do films like mouse hunt get into theatres...\n1    some talented actresses are blessed with a dem...\n4    my first press screening of 1998 and already i...\n5    to put it bluntly , ed wood would have been pr...\n6    synopsis : melissa , a mentally-disturbed woma...\nName: review, dtype: object"
     },
     "execution_count": 25,
     "metadata": {},
     "output_type": "execute_result"
    }
   ],
   "source": [
    "negatives = df[df['label']=='neg']['review']\n",
    "positives = df[df['label']=='pos']['review']\n",
    "negatives.head()"
   ]
  },
  {
   "cell_type": "code",
   "execution_count": 28,
   "outputs": [],
   "source": [
    "from sklearn.feature_extraction.text import CountVectorizer\n",
    "cv = CountVectorizer(stop_words='english')\n",
    "negs=cv.fit_transform(negatives)"
   ],
   "metadata": {
    "collapsed": false
   }
  },
  {
   "cell_type": "code",
   "execution_count": 39,
   "outputs": [
    {
     "data": {
      "text/plain": "{'films': 9152,\n 'like': 14210,\n 'mouse': 15983,\n 'hunt': 11855,\n 'theatres': 24529,\n 'isn': 12921,\n 'law': 13916,\n 'diabolical': 6683,\n 'load': 14353,\n 'claptrap': 4469,\n 'steven': 23318,\n 'speilberg': 22873,\n 'dreamworks': 7397,\n 'studio': 23583,\n 'hollywood': 11543,\n 'family': 8836,\n 'fare': 8867,\n 'deadly': 6124,\n 'worst': 27168,\n 'takes': 24183,\n 'bare': 2144,\n 'threads': 24630,\n 'plot': 18292,\n 'tries': 25188,\n 'prop': 19010,\n 'overacting': 17214,\n 'flat': 9302,\n 'stupid': 23615,\n 'slapstick': 22308,\n 'makes': 14793,\n 'comedies': 4820,\n 'jingle': 13137,\n 'way': 26680,\n 'look': 14450,\n 'decent': 6182,\n 'comparison': 4901,\n 'writer': 27224,\n 'adam': 675,\n 'rifkin': 20530,\n 'director': 6839,\n 'gore': 10435,\n 'verbinski': 26198,\n 'names': 16206,\n 'chiefly': 4258,\n 'responsible': 20296,\n 'swill': 24047,\n 'worth': 27169,\n 'concerns': 5018,\n 'brothers': 3323,\n 'nathan': 16249,\n 'lane': 13816,\n 'appalling': 1386,\n 'lee': 14002,\n 'evens': 8384,\n 'inherit': 12478,\n 'poorly': 18449,\n 'run': 20888,\n 'string': 23524,\n 'factory': 8766,\n 'seemingly': 21510,\n 'worthless': 27172,\n 'house': 11728,\n 'eccentric': 7679,\n 'father': 8916,\n 'deciding': 6192,\n 'check': 4180,\n 'long': 14436,\n 'abandoned': 446,\n 'soon': 22710,\n 'learn': 13973,\n 'fortune': 9598,\n 'set': 21663,\n 'selling': 21547,\n 'auction': 1821,\n 'highest': 11399,\n 'bidder': 2577,\n 'battling': 2256,\n 'turn': 25342,\n 'smart': 22456,\n 'happy': 11002,\n 'little': 14328,\n 'abode': 477,\n 'wanting': 26584,\n 'stay': 23250,\n 'story': 23426,\n 'alternates': 1068,\n 'unfunny': 25714,\n 'scenes': 21228,\n 'bickering': 2572,\n 'inheritance': 12479,\n 'endless': 8048,\n 'action': 647,\n 'sequences': 21622,\n 'increasingly': 12292,\n 'determined': 6604,\n 'furry': 9868,\n 'foe': 9454,\n 'promise': 18982,\n 'film': 9136,\n 'starts': 23223,\n 'deteriorates': 6599,\n 'boring': 3012,\n 'dialogue': 6689,\n 'terrible': 24463,\n 'uninspired': 25743,\n 'sound': 22755,\n 'fury': 9872,\n 'signifying': 22074,\n 'script': 21398,\n 'unspeakably': 25896,\n 'bad': 2004,\n 'best': 2527,\n 'line': 14260,\n 'poor': 18447,\n 'utter': 26035,\n 'rodent': 20680,\n 'hate': 11095,\n 'oh': 16891,\n 'cringe': 5699,\n 'home': 11557,\n 'times': 24761,\n 'worse': 27162,\n 'touching': 24951,\n 'scene': 21226,\n 'early': 7638,\n 'mentioning': 15366,\n 'follow': 9470,\n 'maze': 15150,\n 'walls': 26556,\n 'pipes': 18139,\n 'arrives': 1568,\n 'makeshift': 14794,\n 'wall': 26545,\n 'jumps': 13291,\n 'tiny': 24783,\n 'bed': 2339,\n 'pulls': 19192,\n 'sheet': 21826,\n 'snuggles': 22609,\n 'sleep': 22342,\n 'just': 13318,\n 'left': 14012,\n 'magical': 14735,\n 'moment': 15812,\n 'soulless': 22753,\n 'message': 15414,\n 'want': 26582,\n 'associated': 1701,\n 'kind': 13528,\n 'artistic': 1603,\n 'credibility': 5652,\n 'concerned': 5016,\n 'swift': 24045,\n 'kick': 13469,\n 'arse': 1575,\n 'hire': 11455,\n 'writers': 27225,\n 'directors': 6843,\n 'rubbish': 20843,\n 'talented': 24191,\n 'actresses': 663,\n 'blessed': 2761,\n 'demonstrated': 6412,\n 'wide': 26911,\n 'acting': 646,\n 'range': 19528,\n 'gifted': 10172,\n 'limited': 14237,\n 'types': 25413,\n 'parts': 17591,\n 'suitable': 23772,\n 'amply': 1166,\n 'evident': 8405,\n 'basic': 2209,\n 'instinct': 12614,\n 'sharon': 21793,\n 'stone': 23395,\n 'play': 18235,\n 'sensual': 21593,\n 'roles': 20696,\n 'great': 10574,\n 'abandon': 445,\n 'rejecting': 19975,\n 'natural': 16258,\n 'abilities': 468,\n 'spent': 22885,\n 'rest': 20297,\n 'entire': 8175,\n 'career': 3786,\n 'trying': 25289,\n 'success': 23717,\n 'type': 25409,\n 'gloria': 10294,\n 'latest': 13874,\n 'disaster': 6875,\n 'babe': 1962,\n 'ruth': 20922,\n 'didn': 6726,\n 'quit': 19369,\n 'baseball': 2197,\n 'season': 21454,\n 'football': 9499,\n 'quixotic': 19373,\n 'quest': 19338,\n 'prove': 19082,\n 'athletic': 1747,\n 'dexterity': 6678,\n 'reject': 19973,\n 'does': 7164,\n 'janeane': 13008,\n 'garofalo': 9983,\n 'example': 8445,\n 'wonderful': 27093,\n 'actress': 662,\n 'pulled': 19188,\n 'couldn': 5473,\n 'comedic': 4817,\n 'directed': 6832,\n 'respected': 20283,\n 'sidney': 22050,\n 'lumet': 14605,\n 'adapted': 681,\n 'steve': 23317,\n 'antin': 1336,\n '1980': 129,\n 'screenplay': 21380,\n 'john': 13174,\n 'cassavetes': 3874,\n 'screened': 21377,\n 'advance': 772,\n 'critics': 5726,\n 'sign': 22062,\n 'picture': 18066,\n 'seeing': 21503,\n 'nearly': 16300,\n 'audience': 1828,\n 'opened': 16979,\n 'clear': 4523,\n 'held': 11267,\n 'press': 18757,\n 'endured': 8058,\n 'enjoyed': 8107,\n 'opens': 16984,\n 'angry': 1244,\n 'released': 20002,\n 'prison': 18847,\n 'years': 27324,\n 'confinement': 5079,\n 'got': 10451,\n 'attitude': 1803,\n 'big': 2586,\n 'mouth': 15989,\n 'case': 3862,\n 'wavering': 26672,\n 'overblown': 17222,\n 'new': 16409,\n 'york': 27360,\n 'accents': 548,\n 'disease': 6931,\n 'suffered': 23749,\n 'cast': 3881,\n 'annoying': 1296,\n 'child': 4260,\n 'actor': 659,\n 'named': 16204,\n 'jean': 13049,\n 'luke': 14597,\n 'figueroa': 9117,\n 'plays': 18248,\n 'orphan': 17103,\n 'nicky': 16467,\n 'gunned': 10795,\n 'hoods': 11616,\n 'working': 27139,\n 'ex': 8425,\n 'boyfriend': 3090,\n 'kevin': 13451,\n 'jeremy': 13082,\n 'northam': 16605,\n 'dad': 5951,\n 'gives': 10224,\n 'banana': 2085,\n 'yellow': 27331,\n 'floppy': 9394,\n 'disk': 6968,\n 'secrets': 21480,\n 'operation': 16992,\n 'offers': 16869,\n 'piece': 18071,\n 'fatherly': 8918,\n 'advice': 792,\n 'man': 14830,\n 'lectures': 13996,\n 'sternly': 23313,\n 'don': 7216,\n 'trust': 25279,\n 'broads': 3287,\n 'leaden': 13951,\n 'dialog': 6688,\n 'delivered': 6361,\n 'emotive': 7976,\n 'power': 18596,\n 'automated': 1871,\n 'time': 24753,\n 'temperature': 24398,\n 'announcements': 1289,\n 'add': 685,\n 'movie': 16000,\n 'non': 16574,\n 'existent': 8539,\n 'background': 1981,\n 'noise': 16558,\n 'excruciatingly': 8495,\n 'slow': 22414,\n 'pacing': 17376,\n 'hear': 11191,\n 'sounds': 22760,\n 'lines': 14267,\n 'falling': 8817,\n 'ground': 10688,\n 'stones': 23399,\n 'places': 18187,\n 'actors': 660,\n 'frames': 9643,\n 'fruit': 9791,\n 'life': 14181,\n 'painting': 17413,\n 'stand': 23174,\n 'awkwardly': 1939,\n 'mouthing': 15992,\n 'stiff': 23335,\n 'sentences': 21600,\n 'pass': 17598,\n 'discourse': 6911,\n 'say': 21173,\n 'baby': 1965,\n 'coos': 5372,\n 'demandingly': 6385,\n 'gonna': 10390,\n 'pouts': 18588,\n 'plethora': 18280,\n 'logical': 14407,\n 'flaws': 9324,\n 'implausibilites': 12127,\n 'kid': 13480,\n 'rarely': 19571,\n 'bit': 2668,\n 'worried': 27158,\n 'scared': 21206,\n 'matter': 15107,\n 'people': 17818,\n 'guns': 10798,\n 'kill': 13504,\n 'key': 13455,\n 'holds': 11527,\n 'assumed': 1707,\n 'right': 20538,\n 'checking': 4184,\n 'copied': 5376,\n 'keeps': 13408,\n 'saying': 21174,\n 'hates': 11098,\n 'kids': 13493,\n 'wing': 26989,\n 'protects': 19067,\n 'guys': 10819,\n 'think': 24584,\n 'maternal': 15086,\n 'instincts': 12617,\n 'finally': 9162,\n 'predictably': 18672,\n 'ends': 8055,\n 'know': 13623,\n 'answer': 1305,\n 'viewer': 26298,\n 'straight': 23442,\n 'face': 8739,\n 'explaining': 8593,\n 'year': 27318,\n 'old': 16901,\n 'says': 21178,\n 'seriousness': 21640,\n 'lot': 14502,\n 'love': 14523,\n 'making': 14797,\n 'make': 14788,\n 'boozing': 2998,\n 'runs': 20897,\n '48': 224,\n 'rated': 19587,\n 'profanity': 18918,\n 'violence': 26348,\n 'brief': 3242,\n 'male': 14803,\n 'nudity': 16686,\n 'acceptable': 552,\n 'teenagers': 24362,\n 'screening': 21378,\n '1998': 149,\n 've': 26144,\n 'gotten': 10458,\n 'prime': 18823,\n 'candidate': 3693,\n 'list': 14302,\n 'auspicious': 1845,\n 'beginning': 2382,\n 'welcome': 26771,\n 'dog': 7168,\n 'days': 6109,\n 'winter': 27010,\n 'openings': 16982,\n 'merit': 15399,\n 'oscar': 17115,\n 'contenders': 5246,\n 'studios': 23584,\n 'late': 13870,\n 'december': 6180,\n 'appear': 1397,\n 'firestorm': 9214,\n 'directorial': 6842,\n 'debut': 6160,\n 'dances': 6012,\n 'wolves': 27078,\n 'academy': 540,\n 'award': 1923,\n 'winning': 27001,\n 'cinematographer': 4408,\n 'dean': 6135,\n 'semler': 21559,\n 'crop': 5747,\n 'movies': 16009,\n 'pretentiously': 18780,\n 'informs': 12440,\n 'tens': 24424,\n 'thousands': 24625,\n 'firefighters': 9206,\n '400': 217,\n 'smokejumpers': 22496,\n 'cut': 5905,\n 'plane': 18201,\n 'smoke': 22492,\n 'jumping': 13290,\n 'cowboys': 5546,\n 'cowgirl': 5550,\n 'gung': 10791,\n 'ho': 11499,\n 'taking': 24185,\n 'romance': 20712,\n 'quiz': 19374,\n 'cosmopolitan': 5452,\n 'having': 11120,\n 'lives': 14341,\n 'jump': 13288,\n 'middle': 15493,\n 'burning': 3489,\n 'forest': 9540,\n 'small': 22450,\n 'sense': 21579,\n 'trouble': 25248,\n 'noisy': 16560,\n 'roaring': 20621,\n 'trapped': 25093,\n 'huddled': 11775,\n 'near': 16296,\n 'gasoline': 9994,\n 'filled': 9129,\n 'cars': 3839,\n 'smokejumper': 22495,\n 'monica': 15832,\n 'christianne': 4351,\n 'hirt': 11462,\n 'tells': 24395,\n 'away': 1929,\n 'explode': 8602,\n 'vehicles': 26152,\n 'bothering': 3037,\n 'shout': 21950,\n 'close': 4592,\n 'announces': 1291,\n 'warning': 26614,\n 'raising': 19477,\n 'voice': 26422,\n 'approaching': 1437,\n 'miraculously': 15624,\n 'manage': 14831,\n 'specializes': 22841,\n 'cheap': 4167,\n 'shots': 21943,\n 'camera': 3662,\n 'locates': 14383,\n 'proverbial': 19085,\n 'young': 27367,\n 'girl': 10208,\n 'nearby': 16297,\n 'building': 3408,\n 'overly': 17281,\n 'dramatic': 7362,\n 'stephen': 23294,\n 'windon': 26979,\n 'postman': 18547,\n 'uses': 26015,\n 'extremely': 8696,\n 'fast': 8898,\n 'zooms': 27464,\n 'endangered': 8037,\n 'heroes': 11347,\n 'crew': 5682,\n 'chief': 4257,\n 'wynt': 27255,\n 'perkins': 17879,\n 'played': 18239,\n 'laconically': 13743,\n 'scott': 21341,\n 'glenn': 10266,\n 'second': 21469,\n 'command': 4837,\n 'jesse': 13096,\n 'graves': 10561,\n 'howie': 11749,\n 'weak': 26694,\n 'attempt': 1783,\n 'seagal': 21434,\n 'enter': 8155,\n 'looking': 14455,\n 'panic': 17466,\n 'difficulty': 6751,\n 'locating': 14384,\n 'engulfed': 8095,\n 'flames': 9277,\n 'manipulative': 14883,\n 'hidden': 11386,\n 'dollhouse': 7189,\n 'mawkish': 15131,\n 'cuts': 5916,\n 'death': 6141,\n 'decision': 6197,\n 'chopper': 4321,\n 'retardant': 20341,\n 'chemicals': 4220,\n 'save': 21155,\n 'group': 10694,\n 'large': 13842,\n 'helpless': 11298,\n 'firefighting': 9207,\n 'buddies': 3379,\n 'seconds': 21473,\n 'decide': 6188,\n 'saved': 21156,\n 'yes': 27339,\n 'goes': 10359,\n 'majority': 14785,\n 'miracle': 15621,\n 'miracles': 15622,\n 'come': 4811,\n 'alive': 1007,\n 'content': 5247,\n 'traditional': 25008,\n 'chris': 4344,\n 'soth': 22744,\n 'attempts': 1786,\n 'jazz': 13043,\n 'william': 26948,\n 'forsythe': 9586,\n 'palookaville': 17443,\n 'vicious': 26259,\n 'killer': 13507,\n 'randy': 19525,\n 'earl': 7635,\n 'shaye': 21812,\n 'sets': 21667,\n 'join': 13183,\n 'escape': 8296,\n 'woods': 27111,\n 'pounders': 18578,\n 'yell': 27327,\n 'convicts': 5340,\n 'bused': 3510,\n 'help': 11290,\n 'fight': 9109,\n 'picks': 18061,\n 'ornithologist': 17102,\n 'hostage': 11700,\n 'suzy': 23984,\n 'amis': 1144,\n 'turns': 25348,\n 'trained': 25026,\n 'warrior': 26624,\n 'ways': 26685,\n 'marine': 14957,\n 'drill': 7426,\n 'instructor': 12627,\n 'highly': 11405,\n 'predictable': 18671,\n 'chase': 4143,\n 'given': 10223,\n 'ridiculous': 20518,\n 'stunt': 23605,\n 'silly': 22094,\n 'performing': 17859,\n 'flings': 9360,\n 'chain': 4038,\n 'saw': 21167,\n 'backwards': 1998,\n 'head': 11151,\n 'riding': 20522,\n 'speeding': 22870,\n 'motorcycle': 15964,\n 'hit': 11475,\n 'windshield': 26983,\n 'pursuing': 19271,\n 'truck': 25259,\n 'arguably': 1497,\n 'low': 14541,\n 'point': 18352,\n 'escapes': 8298,\n 'locked': 14389,\n 'conveniently': 5314,\n 'parked': 17546,\n 'inside': 12562,\n 'using': 26018,\n 'ramp': 19505,\n 'shoots': 21922,\n 'attic': 1800,\n 'hits': 11487,\n 'rides': 20511,\n 'cloud': 4608,\n 'dust': 7583,\n 'stock': 23373,\n 'footage': 9498,\n 'actual': 665,\n 'fires': 9212,\n 'simulated': 22128,\n 'ones': 16945,\n 'hokey': 11520,\n 'editor': 7722,\n 'jack': 12957,\n 'hofstra': 11512,\n 'cheapens': 4169,\n 'use': 26008,\n 'transitions': 25063,\n 'ending': 8046,\n 'sick': 22024,\n 'twists': 25394,\n 'manages': 14836,\n 'said': 20997,\n 'faint': 8786,\n 'praise': 18616,\n 'heard': 11192,\n 'lobby': 14366,\n 'television': 24389,\n 'sitcoms': 22184,\n 'mercifully': 15385,\n '29': 192,\n 'language': 13823,\n 'bluntly': 2857,\n 'ed': 7702,\n 'wood': 27103,\n 'proud': 19078,\n 'totally': 24941,\n 'encompassed': 8021,\n 'humor': 11833,\n 'drama': 7360,\n 'zero': 27434,\n 'logic': 14406,\n 'crap': 5601,\n 'beautifully': 2325,\n 'anti': 1324,\n 'climactic': 4557,\n 'intriguing': 12768,\n 'previews': 18798,\n 'truth': 25284,\n 'advertising': 791,\n 'roland': 20693,\n 'emmerich': 7965,\n 'later': 13873,\n 'independence': 12314,\n 'day': 6105,\n 'blows': 2832,\n 'compared': 4899,\n 'writed': 27223,\n 'inane': 12209,\n 'sci': 21305,\n 'fi': 9074,\n 'cliche': 4543,\n 'connection': 5130,\n 'eqypt': 8244,\n 'aliens': 1000,\n 'useless': 26012,\n 'opening': 16981,\n 'sequence': 21621,\n 'men': 15343,\n '1914': 83,\n 'hieroglyphics': 11396,\n 'wouldn': 27177,\n 'till': 24745,\n 'present': 18742,\n '94': 293,\n 'actually': 668,\n 'figure': 9119,\n 'decipherer': 6195,\n 'slightly': 22376,\n 'neurotic': 16400,\n 'scientist': 21310,\n 'nice': 16452,\n 'twist': 25389,\n 'dr': 7338,\n 'dan': 6006,\n 'jackson': 12968,\n 'james': 12998,\n 'spader': 22796,\n 'doing': 7178,\n 'outside': 17193,\n 'erotic': 8269,\n 'thrillers': 24651,\n 'indy': 12368,\n 'sucks': 23739,\n 'walk': 26537,\n 'word': 27125,\n 'decipher': 6193,\n 'duh': 7521,\n 'figures': 9122,\n 'minute': 15614,\n 'yea': 27316,\n 'suicidal': 23768,\n 'colonel': 4767,\n 'neill': 16361,\n 'kurt': 13702,\n 'russel': 20910,\n 'wyat': 27250,\n 'earp': 7647,\n 'locks': 14394,\n 'snap': 22529,\n 'fetal': 9054,\n 'position': 18517,\n 'll': 14349,\n 'hang': 10969,\n 'open': 16978,\n 'stargate': 23200,\n 'bunch': 3450,\n 'bomb': 2929,\n 'blow': 2827,\n 'overdone': 17236,\n 'special': 22837,\n 'effects': 7754,\n 'thing': 24577,\n 'goddam': 10338,\n 'pyramid': 19294,\n 'went': 26791,\n 'egypt': 7778,\n 'wrong': 27232,\n 'planet': 18203,\n 'filmed': 9140,\n 'discover': 6912,\n 'cilvilization': 4399,\n 'ruled': 20876,\n 'ra': 19388,\n 'sun': 23806,\n 'god': 10335,\n 'androginous': 1221,\n 'jaye': 13042,\n 'davidson': 6098,\n 'modifier': 15778,\n 'barry': 2182,\n 'white': 26871,\n 'asthma': 1722,\n 'fights': 9114,\n 'explosions': 8622,\n 'kiss': 13563,\n 'melodrama': 15319,\n 'stupidity': 23618,\n 'bizarre': 2683,\n 'hello': 11279,\n 'king': 13538,\n 'tut': 25360,\n 'asswhole': 1718,\n 'quintessential': 19362,\n 'lemme': 14047,\n 'tell': 24391,\n 'ya': 27276,\n 'convenient': 5313,\n 'pesudo': 17952,\n 'pseudo': 19121,\n 'character': 4099,\n 'development': 6638,\n 'end': 8035,\n 'wanna': 26579,\n 'watch': 26646,\n 'outer': 17151,\n 'limits': 14240,\n 'okay': 16898,\n 'opaque': 16975,\n 'experience': 8575,\n 'unless': 25788,\n 'bored': 3007,\n 'consider': 5170,\n 'watching': 26655,\n 'marathon': 14922,\n 'pick': 18054,\n 'obviously': 16803,\n 'fun': 9833,\n 'wait': 26522,\n 'premier': 18707,\n 'mst3k': 16027,\n 'synopsis': 24122,\n 'melissa': 15316,\n 'mentally': 15362,\n 'disturbed': 7091,\n 'woman': 27079,\n 'likes': 14218,\n 'seduces': 21492,\n 'doug': 7294,\n 'minor': 15605,\n 'league': 13958,\n 'player': 18240,\n 'study': 23587,\n 'anatomy': 1204,\n 'work': 27132,\n 'motorcycles': 15965,\n 'girlfriend': 10209,\n 'public': 19158,\n 'library': 14162,\n 'decides': 6191,\n 'stop': 23407,\n 'maliciously': 14812,\n 'revenge': 20397,\n 'including': 12253,\n 'mother': 15943,\n 'cat': 3893,\n 'comments': 4861,\n 'malicious': 14811,\n 'suppose': 23891,\n 'moview': 16011,\n 'thriller': 24649,\n 'rips': 20575,\n 'dozens': 7335,\n 'spurned': 23061,\n 'psycho': 19135,\n 'lover': 14532,\n 'wants': 26585,\n 'fatal': 8904,\n 'attraction': 1809,\n 'hand': 10938,\n 'rocks': 20673,\n 'cradle': 5578,\n 'really': 19670,\n 'doesn': 7165,\n 'provide': 19088,\n 'particularly': 17577,\n 'suspenseful': 23964,\n 'moments': 15816,\n 'energetically': 8064,\n 'main': 14769,\n 'characters': 4109,\n 'introduced': 12773,\n 'affair': 810,\n 'begins': 2384,\n 'pretty': 18784,\n 'drag': 7347,\n 'unfortunately': 25707,\n 'try': 25288,\n 'happen': 10993,\n 'unimaginative': 25735,\n 'better': 2545,\n 'drugs': 7477,\n 'kills': 13512,\n 'pet': 17953,\n 'leaves': 13985,\n 'apartment': 1366,\n 'course': 5517,\n 'stalks': 23158,\n 'number': 16696,\n 'supposed': 23892,\n 'spying': 23071,\n 'won': 27088,\n 'reveal': 20388,\n 'ludicrous': 14581,\n 'turkey': 25337,\n 'warn': 26611,\n 'painfully': 17405,\n 'obvious': 16802,\n 'real': 19653,\n 'yawner': 27311,\n 'vernon': 26212,\n 'remarkably': 20053,\n 'good': 10395,\n 'job': 13155,\n 'playing': 18245,\n 'bright': 3247,\n 'jock': 13160,\n 'initially': 12493,\n 'gets': 10140,\n 'swept': 24044,\n 'faults': 8929,\n 'pre': 18637,\n 'med': 15261,\n 'student': 23578,\n 'molly': 15810,\n 'ringwald': 20559,\n 'effectively': 7752,\n 'pull': 19187,\n 'obsessed': 16781,\n 'routine': 20815,\n 'especially': 8308,\n 'silent': 22084,\n 'going': 10365,\n 'stare': 23198,\n 'goofy': 10421,\n 'place': 18183,\n 'particular': 17576,\n 'guess': 10743,\n 'screeches': 21372,\n 'throws': 24672,\n 'phone': 18021,\n 'delivers': 6364,\n 'ridiculously': 20519,\n 'laugh': 13882,\n 'certainly': 4024,\n 'video': 26277,\n 'racks': 19411,\n 'fat': 8903,\n 'turkies': 25339,\n 'genre': 10090,\n 'original': 17088,\n 'feel': 8991,\n 'free': 9698,\n 'treat': 25133,\n 'tim': 24750,\n 'robbins': 20635,\n 'martin': 15011,\n 'lawernce': 13919,\n 'team': 24316,\n 'road': 20612,\n 'comedy': 4822,\n 'exec': 8505,\n 'discovers': 6916,\n 'wife': 26927,\n 'sex': 21697,\n 'boss': 3025,\n 'depression': 6493,\n 'drives': 7445,\n 'neighbourhood': 16359,\n 'usual': 26020,\n 'ghetto': 10149,\n 'american': 1129,\n 'city': 4441,\n 'steal': 23260,\n 'car': 3772,\n 'avail': 1884,\n 'dragged': 7348,\n 'robbin': 20633,\n 'trip': 25205,\n 'arizona': 1515,\n 'hold': 11523,\n 'store': 23414,\n 'mistaken': 15710,\n 'robbers': 20630,\n 'cousin': 5527,\n 'vinny': 26339,\n 'chased': 4144,\n 'police': 18383,\n 'gags': 9904,\n 'usually': 26021,\n 'midly': 15499,\n 'funny': 9856,\n 'quite': 19370,\n 'watchable': 26649,\n 'horribly': 11672,\n 'familiar': 8833,\n 'called': 3638,\n 'beverly': 2552,\n 'hills': 11429,\n 'midnight': 15500,\n 'wisecracking': 27027,\n 'heavy': 11224,\n 'eddie': 7703,\n 'murphy': 16114,\n 'cop': 5374,\n 'pratically': 18629,\n 'idea': 11938,\n 'cliches': 4545,\n 'eighties': 7788,\n 'credit': 5655,\n 'chevy': 4243,\n 'chemistry': 4221,\n 'planes': 18202,\n 'trains': 25031,\n 'automobiles': 1878,\n 'candy': 3701,\n 'lose': 14493,\n 'hardly': 11024,\n 'bulk': 3420,\n 'directs': 6844,\n 'workman': 27142,\n 'fashion': 8894,\n 'jokes': 13193,\n 'leads': 13956,\n 'performances': 17855,\n 'lawerence': 13917,\n 'performance': 17854,\n 'alright': 1056,\n ...}"
     },
     "execution_count": 39,
     "metadata": {},
     "output_type": "execute_result"
    }
   ],
   "source": [],
   "metadata": {
    "collapsed": false
   }
  },
  {
   "cell_type": "code",
   "execution_count": 41,
   "metadata": {},
   "outputs": [
    {
     "data": {
      "text/plain": "         index     0\n0         film  4063\n1        movie  3131\n2         like  1808\n3         just  1480\n4         time  1127\n5         good  1117\n6          bad   997\n7    character   926\n8        story   908\n9         plot   888\n10  characters   838\n11        make   813\n12      really   743\n13         way   734\n14      little   696\n15         don   683\n16        does   666\n17       doesn   648\n18      action   635\n19       scene   634",
      "text/html": "<div>\n<style scoped>\n    .dataframe tbody tr th:only-of-type {\n        vertical-align: middle;\n    }\n\n    .dataframe tbody tr th {\n        vertical-align: top;\n    }\n\n    .dataframe thead th {\n        text-align: right;\n    }\n</style>\n<table border=\"1\" class=\"dataframe\">\n  <thead>\n    <tr style=\"text-align: right;\">\n      <th></th>\n      <th>index</th>\n      <th>0</th>\n    </tr>\n  </thead>\n  <tbody>\n    <tr>\n      <th>0</th>\n      <td>film</td>\n      <td>4063</td>\n    </tr>\n    <tr>\n      <th>1</th>\n      <td>movie</td>\n      <td>3131</td>\n    </tr>\n    <tr>\n      <th>2</th>\n      <td>like</td>\n      <td>1808</td>\n    </tr>\n    <tr>\n      <th>3</th>\n      <td>just</td>\n      <td>1480</td>\n    </tr>\n    <tr>\n      <th>4</th>\n      <td>time</td>\n      <td>1127</td>\n    </tr>\n    <tr>\n      <th>5</th>\n      <td>good</td>\n      <td>1117</td>\n    </tr>\n    <tr>\n      <th>6</th>\n      <td>bad</td>\n      <td>997</td>\n    </tr>\n    <tr>\n      <th>7</th>\n      <td>character</td>\n      <td>926</td>\n    </tr>\n    <tr>\n      <th>8</th>\n      <td>story</td>\n      <td>908</td>\n    </tr>\n    <tr>\n      <th>9</th>\n      <td>plot</td>\n      <td>888</td>\n    </tr>\n    <tr>\n      <th>10</th>\n      <td>characters</td>\n      <td>838</td>\n    </tr>\n    <tr>\n      <th>11</th>\n      <td>make</td>\n      <td>813</td>\n    </tr>\n    <tr>\n      <th>12</th>\n      <td>really</td>\n      <td>743</td>\n    </tr>\n    <tr>\n      <th>13</th>\n      <td>way</td>\n      <td>734</td>\n    </tr>\n    <tr>\n      <th>14</th>\n      <td>little</td>\n      <td>696</td>\n    </tr>\n    <tr>\n      <th>15</th>\n      <td>don</td>\n      <td>683</td>\n    </tr>\n    <tr>\n      <th>16</th>\n      <td>does</td>\n      <td>666</td>\n    </tr>\n    <tr>\n      <th>17</th>\n      <td>doesn</td>\n      <td>648</td>\n    </tr>\n    <tr>\n      <th>18</th>\n      <td>action</td>\n      <td>635</td>\n    </tr>\n    <tr>\n      <th>19</th>\n      <td>scene</td>\n      <td>634</td>\n    </tr>\n  </tbody>\n</table>\n</div>"
     },
     "execution_count": 41,
     "metadata": {},
     "output_type": "execute_result"
    }
   ],
   "source": [
    "def find_word(index):\n",
    "    vocabulary = cv.vocabulary_\n",
    "    for word in vocabulary.keys():\n",
    "        if vocabulary[word] == index:\n",
    "            return word\n",
    "\n",
    "top_negs=pd.DataFrame(negs.todense()).sum().nlargest(20).reset_index()\n",
    "top_negs['index']=top_negs['index'].map(find_word)\n",
    "top_negs"
   ]
  },
  {
   "cell_type": "code",
   "execution_count": 42,
   "outputs": [
    {
     "data": {
      "text/plain": "         index     0\n0         film  5002\n1        movie  2389\n2         like  1721\n3         just  1273\n4        story  1199\n5         good  1193\n6         time  1175\n7    character  1037\n8         life  1032\n9   characters   957\n10         way   864\n11       films   851\n12        does   828\n13        best   788\n14      people   769\n15        make   764\n16      little   751\n17      really   731\n18         man   728\n19         new   702",
      "text/html": "<div>\n<style scoped>\n    .dataframe tbody tr th:only-of-type {\n        vertical-align: middle;\n    }\n\n    .dataframe tbody tr th {\n        vertical-align: top;\n    }\n\n    .dataframe thead th {\n        text-align: right;\n    }\n</style>\n<table border=\"1\" class=\"dataframe\">\n  <thead>\n    <tr style=\"text-align: right;\">\n      <th></th>\n      <th>index</th>\n      <th>0</th>\n    </tr>\n  </thead>\n  <tbody>\n    <tr>\n      <th>0</th>\n      <td>film</td>\n      <td>5002</td>\n    </tr>\n    <tr>\n      <th>1</th>\n      <td>movie</td>\n      <td>2389</td>\n    </tr>\n    <tr>\n      <th>2</th>\n      <td>like</td>\n      <td>1721</td>\n    </tr>\n    <tr>\n      <th>3</th>\n      <td>just</td>\n      <td>1273</td>\n    </tr>\n    <tr>\n      <th>4</th>\n      <td>story</td>\n      <td>1199</td>\n    </tr>\n    <tr>\n      <th>5</th>\n      <td>good</td>\n      <td>1193</td>\n    </tr>\n    <tr>\n      <th>6</th>\n      <td>time</td>\n      <td>1175</td>\n    </tr>\n    <tr>\n      <th>7</th>\n      <td>character</td>\n      <td>1037</td>\n    </tr>\n    <tr>\n      <th>8</th>\n      <td>life</td>\n      <td>1032</td>\n    </tr>\n    <tr>\n      <th>9</th>\n      <td>characters</td>\n      <td>957</td>\n    </tr>\n    <tr>\n      <th>10</th>\n      <td>way</td>\n      <td>864</td>\n    </tr>\n    <tr>\n      <th>11</th>\n      <td>films</td>\n      <td>851</td>\n    </tr>\n    <tr>\n      <th>12</th>\n      <td>does</td>\n      <td>828</td>\n    </tr>\n    <tr>\n      <th>13</th>\n      <td>best</td>\n      <td>788</td>\n    </tr>\n    <tr>\n      <th>14</th>\n      <td>people</td>\n      <td>769</td>\n    </tr>\n    <tr>\n      <th>15</th>\n      <td>make</td>\n      <td>764</td>\n    </tr>\n    <tr>\n      <th>16</th>\n      <td>little</td>\n      <td>751</td>\n    </tr>\n    <tr>\n      <th>17</th>\n      <td>really</td>\n      <td>731</td>\n    </tr>\n    <tr>\n      <th>18</th>\n      <td>man</td>\n      <td>728</td>\n    </tr>\n    <tr>\n      <th>19</th>\n      <td>new</td>\n      <td>702</td>\n    </tr>\n  </tbody>\n</table>\n</div>"
     },
     "execution_count": 42,
     "metadata": {},
     "output_type": "execute_result"
    }
   ],
   "source": [
    "poss=cv.fit_transform(positives)\n",
    "top_poss=pd.DataFrame(poss.todense()).sum().nlargest(20).reset_index()\n",
    "top_poss['index']=top_poss['index'].map(find_word)\n",
    "top_poss"
   ],
   "metadata": {
    "collapsed": false
   }
  },
  {
   "cell_type": "code",
   "execution_count": 55,
   "metadata": {},
   "outputs": [
    {
     "name": "stdout",
     "output_type": "stream",
     "text": [
      "Top 20 words used for Negative reviews.\n",
      "[('film', 4063), ('movie', 3131), ('like', 1808), ('just', 1480), ('time', 1127), ('good', 1117), ('bad', 997), ('character', 926), ('story', 908), ('plot', 888), ('characters', 838), ('make', 813), ('really', 743), ('way', 734), ('little', 696), ('don', 683), ('does', 666), ('doesn', 648), ('action', 635), ('scene', 634)]\n"
     ]
    }
   ],
   "source": []
  },
  {
   "cell_type": "code",
   "execution_count": 56,
   "metadata": {},
   "outputs": [
    {
     "name": "stdout",
     "output_type": "stream",
     "text": [
      "Top 20 words used for Positive reviews.\n",
      "[('film', 5002), ('movie', 2389), ('like', 1721), ('just', 1273), ('story', 1199), ('good', 1193), ('time', 1175), ('character', 1037), ('life', 1032), ('characters', 957), ('way', 864), ('films', 851), ('does', 828), ('best', 788), ('people', 769), ('make', 764), ('little', 751), ('really', 731), ('man', 728), ('new', 702)]\n"
     ]
    }
   ],
   "source": []
  },
  {
   "cell_type": "markdown",
   "metadata": {},
   "source": [
    "### Training and Data\n",
    "\n",
    "**TASK: Split the data into features and a label (X and y) and then preform a train/test split. You may use whatever settings you like. To compare your results to the solution notebook, use `test_size=0.20, random_state=101`**"
   ]
  },
  {
   "cell_type": "code",
   "execution_count": 43,
   "metadata": {},
   "outputs": [],
   "source": [
    "from sklearn.model_selection import train_test_split\n",
    "x = df['review']\n",
    "y = df['label']\n",
    "x_train,x_test,y_train,y_test = train_test_split(x,y,test_size=0.2,random_state=101)"
   ]
  },
  {
   "cell_type": "code",
   "execution_count": 57,
   "metadata": {},
   "outputs": [],
   "source": []
  },
  {
   "cell_type": "markdown",
   "metadata": {},
   "source": [
    "### Training a Mode\n",
    "\n",
    "**TASK: Create a PipeLine that will both create a TF-IDF Vector out of the raw text data and fit a supervised learning model of your choice. Then fit that pipeline on the training data.**"
   ]
  },
  {
   "cell_type": "code",
   "execution_count": 45,
   "metadata": {},
   "outputs": [
    {
     "data": {
      "text/plain": "Pipeline(steps=[('tfidf', TfidfVectorizer(stop_words='english')),\n                ('nb', MultinomialNB())])"
     },
     "execution_count": 45,
     "metadata": {},
     "output_type": "execute_result"
    }
   ],
   "source": [
    "from sklearn.pipeline import Pipeline\n",
    "from sklearn.feature_extraction.text import TfidfVectorizer\n",
    "from sklearn.naive_bayes import MultinomialNB\n",
    "pipe = Pipeline([('tfidf',TfidfVectorizer(stop_words='english')),('nb',MultinomialNB())])\n",
    "pipe.fit(x_train,y_train)"
   ]
  },
  {
   "cell_type": "code",
   "execution_count": 74,
   "metadata": {},
   "outputs": [],
   "source": []
  },
  {
   "cell_type": "code",
   "execution_count": 76,
   "metadata": {},
   "outputs": [
    {
     "data": {
      "text/plain": [
       "Pipeline(steps=[('tfidf', TfidfVectorizer()), ('svc', LinearSVC())])"
      ]
     },
     "execution_count": 76,
     "metadata": {},
     "output_type": "execute_result"
    }
   ],
   "source": []
  },
  {
   "cell_type": "markdown",
   "metadata": {},
   "source": [
    "**TASK: Create a classification report and plot a confusion matrix based on the results of your PipeLine.**"
   ]
  },
  {
   "cell_type": "code",
   "execution_count": 77,
   "metadata": {},
   "outputs": [],
   "source": [
    "from sklearn.metrics import ConfusionMatrixDisplay,classification_report,confusion_matrix\n",
    "preds = pipe.predict(x_test)\n",
    "print(classification_report(y_test,preds))\n",
    "ConfusionMatrixDisplay(confusion_matrix(y_test,preds)).plot()"
   ]
  },
  {
   "cell_type": "code",
   "execution_count": 78,
   "metadata": {},
   "outputs": [],
   "source": []
  },
  {
   "cell_type": "code",
   "execution_count": 79,
   "metadata": {},
   "outputs": [],
   "source": []
  },
  {
   "cell_type": "code",
   "execution_count": 80,
   "metadata": {},
   "outputs": [
    {
     "name": "stdout",
     "output_type": "stream",
     "text": [
      "              precision    recall  f1-score   support\n",
      "\n",
      "         neg       0.81      0.86      0.83       191\n",
      "         pos       0.85      0.81      0.83       197\n",
      "\n",
      "    accuracy                           0.83       388\n",
      "   macro avg       0.83      0.83      0.83       388\n",
      "weighted avg       0.83      0.83      0.83       388\n",
      "\n"
     ]
    }
   ],
   "source": []
  },
  {
   "cell_type": "code",
   "execution_count": 81,
   "metadata": {},
   "outputs": [
    {
     "data": {
      "text/plain": [
       "<sklearn.metrics._plot.confusion_matrix.ConfusionMatrixDisplay at 0x1f370d0b790>"
      ]
     },
     "execution_count": 81,
     "metadata": {},
     "output_type": "execute_result"
    },
    {
     "data": {
      "image/png": "[encoded data removed]",
      "text/plain": [
       "<Figure size 432x288 with 2 Axes>"
      ]
     },
     "metadata": {
      "needs_background": "light"
     },
     "output_type": "display_data"
    }
   ],
   "source": []
  },
  {
   "cell_type": "markdown",
   "metadata": {},
   "source": [
    "## Great job!\n"
   ]
  }
 ],
 "metadata": {
  "kernelspec": {
   "display_name": "Python 3",
   "language": "python",
   "name": "python3"
  },
  "language_info": {
   "codemirror_mode": {
    "name": "ipython",
    "version": 3
   },
   "file_extension": ".py",
   "mimetype": "text/x-python",
   "name": "python",
   "nbconvert_exporter": "python",
   "pygments_lexer": "ipython3",
   "version": "3.8.5"
  }
 },
 "nbformat": 4,
 "nbformat_minor": 2
}
