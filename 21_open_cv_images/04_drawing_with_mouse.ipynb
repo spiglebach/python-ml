{
 "cells": [
  {
   "cell_type": "code",
   "execution_count": 7,
   "metadata": {
    "collapsed": true
   },
   "outputs": [],
   "source": [
    "import cv2\n",
    "import numpy as np\n",
    "\n",
    "\n",
    "import cv2\n",
    "\n",
    "# True while mouse button down, False while mouse button up\n",
    "drawing = False\n",
    "ix=-1\n",
    "iy=-1\n",
    "\n",
    "def draw_circle(event,x,y,flags,param):\n",
    "    global ix,iy,drawing\n",
    "\n",
    "    if event == cv2.EVENT_LBUTTONDOWN:\n",
    "        drawing = True\n",
    "        ix,iy = x,y\n",
    "        #cv2.circle(img,(x,y),radius=50,color=(255,255,255),thickness=-1)\n",
    "    elif event == cv2.EVENT_MOUSEMOVE:\n",
    "        if drawing:\n",
    "            cv2.rectangle(img,(ix,iy),(x,y),color=(0,0,255),thickness=-1)\n",
    "    elif event == cv2.EVENT_LBUTTONUP:\n",
    "        cv2.rectangle(img,(ix,iy),(x,y),color=(0,0,255),thickness=-1)\n",
    "    elif event == cv2.EVENT_RBUTTONDOWN:\n",
    "        cv2.circle(img,(x,y),radius=30,color=(255,0,0),thickness=-1)\n",
    "    pass\n",
    "\n",
    "cv2.namedWindow(winname='my_drawing')\n",
    "cv2.setMouseCallback('my_drawing',draw_circle)\n",
    "\n",
    "# img = np.zeros((512,512,3),np.int8)\n",
    "img = np.zeros((512,512,3))\n",
    "while True:\n",
    "    cv2.imshow('my_drawing',img)\n",
    "    if cv2.waitKey(20) & 0xFF == 27:\n",
    "        break\n",
    "cv2.destroyAllWindows()\n"
   ]
  }
 ],
 "metadata": {
  "kernelspec": {
   "display_name": "Python 3",
   "language": "python",
   "name": "python3"
  },
  "language_info": {
   "codemirror_mode": {
    "name": "ipython",
    "version": 2
   },
   "file_extension": ".py",
   "mimetype": "text/x-python",
   "name": "python",
   "nbconvert_exporter": "python",
   "pygments_lexer": "ipython2",
   "version": "2.7.6"
  }
 },
 "nbformat": 4,
 "nbformat_minor": 0
}
