{
 "cells": [
  {
   "cell_type": "code",
   "execution_count": 2,
   "outputs": [],
   "source": [
    "import pandas as pd\n",
    "import numpy as np\n"
   ],
   "metadata": {
    "collapsed": false
   }
  },
  {
   "cell_type": "code",
   "execution_count": 7,
   "outputs": [
    {
     "name": "stdout",
     "output_type": "stream",
     "text": [
      "nan\n",
      "False\n",
      "True\n",
      "NaT\n"
     ]
    }
   ],
   "source": [
    "print(np.nan)\n",
    "print(np.nan == np.nan)\n",
    "print(np.nan is np.nan)\n",
    "print(pd.NaT)\n"
   ],
   "metadata": {
    "collapsed": false
   }
  },
  {
   "cell_type": "code",
   "execution_count": 9,
   "outputs": [
    {
     "data": {
      "text/plain": "  first_name last_name   age  sex  pre_movie_score  post_movie_score\n0        Tom     Hanks  63.0    m              8.0              10.0\n1        NaN       NaN   NaN  NaN              NaN               NaN\n2       Hugh   Jackman  51.0    m              NaN               NaN\n3      Oprah   Winfrey  66.0    f              6.0               8.0\n4       Emma     Stone  31.0    f              7.0               9.0",
      "text/html": "<div>\n<style scoped>\n    .dataframe tbody tr th:only-of-type {\n        vertical-align: middle;\n    }\n\n    .dataframe tbody tr th {\n        vertical-align: top;\n    }\n\n    .dataframe thead th {\n        text-align: right;\n    }\n</style>\n<table border=\"1\" class=\"dataframe\">\n  <thead>\n    <tr style=\"text-align: right;\">\n      <th></th>\n      <th>first_name</th>\n      <th>last_name</th>\n      <th>age</th>\n      <th>sex</th>\n      <th>pre_movie_score</th>\n      <th>post_movie_score</th>\n    </tr>\n  </thead>\n  <tbody>\n    <tr>\n      <th>0</th>\n      <td>Tom</td>\n      <td>Hanks</td>\n      <td>63.0</td>\n      <td>m</td>\n      <td>8.0</td>\n      <td>10.0</td>\n    </tr>\n    <tr>\n      <th>1</th>\n      <td>NaN</td>\n      <td>NaN</td>\n      <td>NaN</td>\n      <td>NaN</td>\n      <td>NaN</td>\n      <td>NaN</td>\n    </tr>\n    <tr>\n      <th>2</th>\n      <td>Hugh</td>\n      <td>Jackman</td>\n      <td>51.0</td>\n      <td>m</td>\n      <td>NaN</td>\n      <td>NaN</td>\n    </tr>\n    <tr>\n      <th>3</th>\n      <td>Oprah</td>\n      <td>Winfrey</td>\n      <td>66.0</td>\n      <td>f</td>\n      <td>6.0</td>\n      <td>8.0</td>\n    </tr>\n    <tr>\n      <th>4</th>\n      <td>Emma</td>\n      <td>Stone</td>\n      <td>31.0</td>\n      <td>f</td>\n      <td>7.0</td>\n      <td>9.0</td>\n    </tr>\n  </tbody>\n</table>\n</div>"
     },
     "execution_count": 9,
     "metadata": {},
     "output_type": "execute_result"
    }
   ],
   "source": [
    "df = pd.read_csv('../course_notebooks/03-Pandas/movie_scores.csv')\n",
    "df\n"
   ],
   "metadata": {
    "collapsed": false
   }
  },
  {
   "cell_type": "code",
   "execution_count": 12,
   "outputs": [
    {
     "name": "stdout",
     "output_type": "stream",
     "text": [
      "   first_name  last_name    age    sex  pre_movie_score  post_movie_score\n",
      "0       False      False  False  False            False             False\n",
      "1        True       True   True   True             True              True\n",
      "2       False      False  False  False             True              True\n",
      "3       False      False  False  False            False             False\n",
      "4       False      False  False  False            False             False\n",
      "\n",
      "   first_name  last_name    age    sex  pre_movie_score  post_movie_score\n",
      "0        True       True   True   True             True              True\n",
      "1       False      False  False  False            False             False\n",
      "2        True       True   True   True            False             False\n",
      "3        True       True   True   True             True              True\n",
      "4        True       True   True   True             True              True\n"
     ]
    }
   ],
   "source": [
    "print(df.isnull())\n",
    "print()\n",
    "print(df.notnull())\n"
   ],
   "metadata": {
    "collapsed": false
   }
  },
  {
   "cell_type": "code",
   "execution_count": 15,
   "outputs": [
    {
     "data": {
      "text/plain": "  first_name last_name   age sex  pre_movie_score  post_movie_score\n0        Tom     Hanks  63.0   m              8.0              10.0\n3      Oprah   Winfrey  66.0   f              6.0               8.0\n4       Emma     Stone  31.0   f              7.0               9.0",
      "text/html": "<div>\n<style scoped>\n    .dataframe tbody tr th:only-of-type {\n        vertical-align: middle;\n    }\n\n    .dataframe tbody tr th {\n        vertical-align: top;\n    }\n\n    .dataframe thead th {\n        text-align: right;\n    }\n</style>\n<table border=\"1\" class=\"dataframe\">\n  <thead>\n    <tr style=\"text-align: right;\">\n      <th></th>\n      <th>first_name</th>\n      <th>last_name</th>\n      <th>age</th>\n      <th>sex</th>\n      <th>pre_movie_score</th>\n      <th>post_movie_score</th>\n    </tr>\n  </thead>\n  <tbody>\n    <tr>\n      <th>0</th>\n      <td>Tom</td>\n      <td>Hanks</td>\n      <td>63.0</td>\n      <td>m</td>\n      <td>8.0</td>\n      <td>10.0</td>\n    </tr>\n    <tr>\n      <th>3</th>\n      <td>Oprah</td>\n      <td>Winfrey</td>\n      <td>66.0</td>\n      <td>f</td>\n      <td>6.0</td>\n      <td>8.0</td>\n    </tr>\n    <tr>\n      <th>4</th>\n      <td>Emma</td>\n      <td>Stone</td>\n      <td>31.0</td>\n      <td>f</td>\n      <td>7.0</td>\n      <td>9.0</td>\n    </tr>\n  </tbody>\n</table>\n</div>"
     },
     "execution_count": 15,
     "metadata": {},
     "output_type": "execute_result"
    }
   ],
   "source": [
    "df[df['pre_movie_score'].notnull()]\n"
   ],
   "metadata": {
    "collapsed": false
   }
  },
  {
   "cell_type": "code",
   "execution_count": 18,
   "outputs": [
    {
     "data": {
      "text/plain": "  first_name last_name   age sex  pre_movie_score  post_movie_score\n2       Hugh   Jackman  51.0   m              NaN               NaN",
      "text/html": "<div>\n<style scoped>\n    .dataframe tbody tr th:only-of-type {\n        vertical-align: middle;\n    }\n\n    .dataframe tbody tr th {\n        vertical-align: top;\n    }\n\n    .dataframe thead th {\n        text-align: right;\n    }\n</style>\n<table border=\"1\" class=\"dataframe\">\n  <thead>\n    <tr style=\"text-align: right;\">\n      <th></th>\n      <th>first_name</th>\n      <th>last_name</th>\n      <th>age</th>\n      <th>sex</th>\n      <th>pre_movie_score</th>\n      <th>post_movie_score</th>\n    </tr>\n  </thead>\n  <tbody>\n    <tr>\n      <th>2</th>\n      <td>Hugh</td>\n      <td>Jackman</td>\n      <td>51.0</td>\n      <td>m</td>\n      <td>NaN</td>\n      <td>NaN</td>\n    </tr>\n  </tbody>\n</table>\n</div>"
     },
     "execution_count": 18,
     "metadata": {},
     "output_type": "execute_result"
    }
   ],
   "source": [
    "df[df['pre_movie_score'].isnull() & df['sex'].notnull()]\n"
   ],
   "metadata": {
    "collapsed": false
   }
  },
  {
   "cell_type": "code",
   "execution_count": 20,
   "outputs": [
    {
     "data": {
      "text/plain": "  first_name last_name   age sex  pre_movie_score  post_movie_score\n2       Hugh   Jackman  51.0   m              NaN               NaN",
      "text/html": "<div>\n<style scoped>\n    .dataframe tbody tr th:only-of-type {\n        vertical-align: middle;\n    }\n\n    .dataframe tbody tr th {\n        vertical-align: top;\n    }\n\n    .dataframe thead th {\n        text-align: right;\n    }\n</style>\n<table border=\"1\" class=\"dataframe\">\n  <thead>\n    <tr style=\"text-align: right;\">\n      <th></th>\n      <th>first_name</th>\n      <th>last_name</th>\n      <th>age</th>\n      <th>sex</th>\n      <th>pre_movie_score</th>\n      <th>post_movie_score</th>\n    </tr>\n  </thead>\n  <tbody>\n    <tr>\n      <th>2</th>\n      <td>Hugh</td>\n      <td>Jackman</td>\n      <td>51.0</td>\n      <td>m</td>\n      <td>NaN</td>\n      <td>NaN</td>\n    </tr>\n  </tbody>\n</table>\n</div>"
     },
     "execution_count": 20,
     "metadata": {},
     "output_type": "execute_result"
    }
   ],
   "source": [
    "df[df['pre_movie_score'].isnull() & df['first_name'].notnull()]\n"
   ],
   "metadata": {
    "collapsed": false
   }
  },
  {
   "cell_type": "code",
   "execution_count": 31,
   "outputs": [
    {
     "name": "stdout",
     "output_type": "stream",
     "text": [
      "  first_name last_name   age sex  pre_movie_score  post_movie_score\n",
      "0        Tom     Hanks  63.0   m              8.0              10.0\n",
      "2       Hugh   Jackman  51.0   m              NaN               NaN\n",
      "3      Oprah   Winfrey  66.0   f              6.0               8.0\n",
      "4       Emma     Stone  31.0   f              7.0               9.0\n",
      "\n",
      "  first_name last_name   age sex  pre_movie_score  post_movie_score\n",
      "0        Tom     Hanks  63.0   m              8.0              10.0\n",
      "3      Oprah   Winfrey  66.0   f              6.0               8.0\n",
      "4       Emma     Stone  31.0   f              7.0               9.0\n",
      "\n",
      "  first_name last_name   age  sex  pre_movie_score  post_movie_score\n",
      "0        Tom     Hanks  63.0    m              8.0              10.0\n",
      "1        NaN       NaN   NaN  NaN              NaN               NaN\n",
      "2       Hugh   Jackman  51.0    m              NaN               NaN\n",
      "3      Oprah   Winfrey  66.0    f              6.0               8.0\n",
      "4       Emma     Stone  31.0    f              7.0               9.0\n",
      "\n",
      "  first_name last_name   age sex  pre_movie_score  post_movie_score\n",
      "0        Tom     Hanks  63.0   m              8.0              10.0\n",
      "2       Hugh   Jackman  51.0   m              NaN               NaN\n",
      "3      Oprah   Winfrey  66.0   f              6.0               8.0\n",
      "4       Emma     Stone  31.0   f              7.0               9.0\n"
     ]
    }
   ],
   "source": [
    "print(df.dropna(thresh=1))\n",
    "print()\n",
    "print(df.dropna(thresh=5))\n",
    "print()\n",
    "print(df.dropna(axis=1,thresh=2))\n",
    "print()\n",
    "print(df.dropna(subset=['last_name']))\n"
   ],
   "metadata": {
    "collapsed": false
   }
  },
  {
   "cell_type": "code",
   "execution_count": 33,
   "outputs": [
    {
     "data": {
      "text/plain": "  first_name last_name   age   sex pre_movie_score post_movie_score\n0        Tom     Hanks  63.0     m             8.0             10.0\n1       NVal      NVal  NVal  NVal            NVal             NVal\n2       Hugh   Jackman  51.0     m            NVal             NVal\n3      Oprah   Winfrey  66.0     f             6.0              8.0\n4       Emma     Stone  31.0     f             7.0              9.0",
      "text/html": "<div>\n<style scoped>\n    .dataframe tbody tr th:only-of-type {\n        vertical-align: middle;\n    }\n\n    .dataframe tbody tr th {\n        vertical-align: top;\n    }\n\n    .dataframe thead th {\n        text-align: right;\n    }\n</style>\n<table border=\"1\" class=\"dataframe\">\n  <thead>\n    <tr style=\"text-align: right;\">\n      <th></th>\n      <th>first_name</th>\n      <th>last_name</th>\n      <th>age</th>\n      <th>sex</th>\n      <th>pre_movie_score</th>\n      <th>post_movie_score</th>\n    </tr>\n  </thead>\n  <tbody>\n    <tr>\n      <th>0</th>\n      <td>Tom</td>\n      <td>Hanks</td>\n      <td>63.0</td>\n      <td>m</td>\n      <td>8.0</td>\n      <td>10.0</td>\n    </tr>\n    <tr>\n      <th>1</th>\n      <td>NVal</td>\n      <td>NVal</td>\n      <td>NVal</td>\n      <td>NVal</td>\n      <td>NVal</td>\n      <td>NVal</td>\n    </tr>\n    <tr>\n      <th>2</th>\n      <td>Hugh</td>\n      <td>Jackman</td>\n      <td>51.0</td>\n      <td>m</td>\n      <td>NVal</td>\n      <td>NVal</td>\n    </tr>\n    <tr>\n      <th>3</th>\n      <td>Oprah</td>\n      <td>Winfrey</td>\n      <td>66.0</td>\n      <td>f</td>\n      <td>6.0</td>\n      <td>8.0</td>\n    </tr>\n    <tr>\n      <th>4</th>\n      <td>Emma</td>\n      <td>Stone</td>\n      <td>31.0</td>\n      <td>f</td>\n      <td>7.0</td>\n      <td>9.0</td>\n    </tr>\n  </tbody>\n</table>\n</div>"
     },
     "execution_count": 33,
     "metadata": {},
     "output_type": "execute_result"
    }
   ],
   "source": [
    "df.fillna('NVal')\n"
   ],
   "metadata": {
    "collapsed": false
   }
  },
  {
   "cell_type": "code",
   "execution_count": 35,
   "outputs": [
    {
     "data": {
      "text/plain": "0    8.0\n1    0.0\n2    0.0\n3    6.0\n4    7.0\nName: pre_movie_score, dtype: float64"
     },
     "execution_count": 35,
     "metadata": {},
     "output_type": "execute_result"
    }
   ],
   "source": [
    "df['pre_movie_score'].fillna(0)\n"
   ],
   "metadata": {
    "collapsed": false
   }
  },
  {
   "cell_type": "code",
   "execution_count": 37,
   "outputs": [
    {
     "name": "stderr",
     "output_type": "stream",
     "text": [
      "F:\\Dev\\python\\course\\venv\\lib\\site-packages\\ipykernel_launcher.py:1: FutureWarning: Dropping of nuisance columns in DataFrame reductions (with 'numeric_only=None') is deprecated; in a future version this will raise TypeError.  Select only valid columns before calling the reduction.\n",
      "  \"\"\"Entry point for launching an IPython kernel.\n"
     ]
    },
    {
     "data": {
      "text/plain": "  first_name last_name    age  sex  pre_movie_score  post_movie_score\n0        Tom     Hanks  63.00    m              8.0              10.0\n1        NaN       NaN  52.75  NaN              7.0               9.0\n2       Hugh   Jackman  51.00    m              7.0               9.0\n3      Oprah   Winfrey  66.00    f              6.0               8.0\n4       Emma     Stone  31.00    f              7.0               9.0",
      "text/html": "<div>\n<style scoped>\n    .dataframe tbody tr th:only-of-type {\n        vertical-align: middle;\n    }\n\n    .dataframe tbody tr th {\n        vertical-align: top;\n    }\n\n    .dataframe thead th {\n        text-align: right;\n    }\n</style>\n<table border=\"1\" class=\"dataframe\">\n  <thead>\n    <tr style=\"text-align: right;\">\n      <th></th>\n      <th>first_name</th>\n      <th>last_name</th>\n      <th>age</th>\n      <th>sex</th>\n      <th>pre_movie_score</th>\n      <th>post_movie_score</th>\n    </tr>\n  </thead>\n  <tbody>\n    <tr>\n      <th>0</th>\n      <td>Tom</td>\n      <td>Hanks</td>\n      <td>63.00</td>\n      <td>m</td>\n      <td>8.0</td>\n      <td>10.0</td>\n    </tr>\n    <tr>\n      <th>1</th>\n      <td>NaN</td>\n      <td>NaN</td>\n      <td>52.75</td>\n      <td>NaN</td>\n      <td>7.0</td>\n      <td>9.0</td>\n    </tr>\n    <tr>\n      <th>2</th>\n      <td>Hugh</td>\n      <td>Jackman</td>\n      <td>51.00</td>\n      <td>m</td>\n      <td>7.0</td>\n      <td>9.0</td>\n    </tr>\n    <tr>\n      <th>3</th>\n      <td>Oprah</td>\n      <td>Winfrey</td>\n      <td>66.00</td>\n      <td>f</td>\n      <td>6.0</td>\n      <td>8.0</td>\n    </tr>\n    <tr>\n      <th>4</th>\n      <td>Emma</td>\n      <td>Stone</td>\n      <td>31.00</td>\n      <td>f</td>\n      <td>7.0</td>\n      <td>9.0</td>\n    </tr>\n  </tbody>\n</table>\n</div>"
     },
     "execution_count": 37,
     "metadata": {},
     "output_type": "execute_result"
    }
   ],
   "source": [
    "df.fillna(df.mean())\n"
   ],
   "metadata": {
    "collapsed": false
   }
  },
  {
   "cell_type": "code",
   "execution_count": null,
   "outputs": [],
   "source": [],
   "metadata": {
    "collapsed": false,
    "pycharm": {
     "is_executing": true
    }
   }
  },
  {
   "cell_type": "code",
   "execution_count": null,
   "outputs": [],
   "source": [],
   "metadata": {
    "collapsed": false,
    "pycharm": {
     "is_executing": true
    }
   }
  },
  {
   "cell_type": "code",
   "execution_count": 42,
   "outputs": [
    {
     "data": {
      "text/plain": "      mpg  cylinders  displacement horsepower  weight  acceleration  \\\n0    18.0          8         307.0        130    3504          12.0   \n1    15.0          8         350.0        165    3693          11.5   \n2    18.0          8         318.0        150    3436          11.0   \n3    16.0          8         304.0        150    3433          12.0   \n4    17.0          8         302.0        140    3449          10.5   \n..    ...        ...           ...        ...     ...           ...   \n393  27.0          4         140.0         86    2790          15.6   \n394  44.0          4          97.0         52    2130          24.6   \n395  32.0          4         135.0         84    2295          11.6   \n396  28.0          4         120.0         79    2625          18.6   \n397  31.0          4         119.0         82    2720          19.4   \n\n     model_year  origin                       name  \n0            70       1  chevrolet chevelle malibu  \n1            70       1          buick skylark 320  \n2            70       1         plymouth satellite  \n3            70       1              amc rebel sst  \n4            70       1                ford torino  \n..          ...     ...                        ...  \n393          82       1            ford mustang gl  \n394          82       2                  vw pickup  \n395          82       1              dodge rampage  \n396          82       1                ford ranger  \n397          82       1                 chevy s-10  \n\n[398 rows x 9 columns]",
      "text/html": "<div>\n<style scoped>\n    .dataframe tbody tr th:only-of-type {\n        vertical-align: middle;\n    }\n\n    .dataframe tbody tr th {\n        vertical-align: top;\n    }\n\n    .dataframe thead th {\n        text-align: right;\n    }\n</style>\n<table border=\"1\" class=\"dataframe\">\n  <thead>\n    <tr style=\"text-align: right;\">\n      <th></th>\n      <th>mpg</th>\n      <th>cylinders</th>\n      <th>displacement</th>\n      <th>horsepower</th>\n      <th>weight</th>\n      <th>acceleration</th>\n      <th>model_year</th>\n      <th>origin</th>\n      <th>name</th>\n    </tr>\n  </thead>\n  <tbody>\n    <tr>\n      <th>0</th>\n      <td>18.0</td>\n      <td>8</td>\n      <td>307.0</td>\n      <td>130</td>\n      <td>3504</td>\n      <td>12.0</td>\n      <td>70</td>\n      <td>1</td>\n      <td>chevrolet chevelle malibu</td>\n    </tr>\n    <tr>\n      <th>1</th>\n      <td>15.0</td>\n      <td>8</td>\n      <td>350.0</td>\n      <td>165</td>\n      <td>3693</td>\n      <td>11.5</td>\n      <td>70</td>\n      <td>1</td>\n      <td>buick skylark 320</td>\n    </tr>\n    <tr>\n      <th>2</th>\n      <td>18.0</td>\n      <td>8</td>\n      <td>318.0</td>\n      <td>150</td>\n      <td>3436</td>\n      <td>11.0</td>\n      <td>70</td>\n      <td>1</td>\n      <td>plymouth satellite</td>\n    </tr>\n    <tr>\n      <th>3</th>\n      <td>16.0</td>\n      <td>8</td>\n      <td>304.0</td>\n      <td>150</td>\n      <td>3433</td>\n      <td>12.0</td>\n      <td>70</td>\n      <td>1</td>\n      <td>amc rebel sst</td>\n    </tr>\n    <tr>\n      <th>4</th>\n      <td>17.0</td>\n      <td>8</td>\n      <td>302.0</td>\n      <td>140</td>\n      <td>3449</td>\n      <td>10.5</td>\n      <td>70</td>\n      <td>1</td>\n      <td>ford torino</td>\n    </tr>\n    <tr>\n      <th>...</th>\n      <td>...</td>\n      <td>...</td>\n      <td>...</td>\n      <td>...</td>\n      <td>...</td>\n      <td>...</td>\n      <td>...</td>\n      <td>...</td>\n      <td>...</td>\n    </tr>\n    <tr>\n      <th>393</th>\n      <td>27.0</td>\n      <td>4</td>\n      <td>140.0</td>\n      <td>86</td>\n      <td>2790</td>\n      <td>15.6</td>\n      <td>82</td>\n      <td>1</td>\n      <td>ford mustang gl</td>\n    </tr>\n    <tr>\n      <th>394</th>\n      <td>44.0</td>\n      <td>4</td>\n      <td>97.0</td>\n      <td>52</td>\n      <td>2130</td>\n      <td>24.6</td>\n      <td>82</td>\n      <td>2</td>\n      <td>vw pickup</td>\n    </tr>\n    <tr>\n      <th>395</th>\n      <td>32.0</td>\n      <td>4</td>\n      <td>135.0</td>\n      <td>84</td>\n      <td>2295</td>\n      <td>11.6</td>\n      <td>82</td>\n      <td>1</td>\n      <td>dodge rampage</td>\n    </tr>\n    <tr>\n      <th>396</th>\n      <td>28.0</td>\n      <td>4</td>\n      <td>120.0</td>\n      <td>79</td>\n      <td>2625</td>\n      <td>18.6</td>\n      <td>82</td>\n      <td>1</td>\n      <td>ford ranger</td>\n    </tr>\n    <tr>\n      <th>397</th>\n      <td>31.0</td>\n      <td>4</td>\n      <td>119.0</td>\n      <td>82</td>\n      <td>2720</td>\n      <td>19.4</td>\n      <td>82</td>\n      <td>1</td>\n      <td>chevy s-10</td>\n    </tr>\n  </tbody>\n</table>\n<p>398 rows × 9 columns</p>\n</div>"
     },
     "execution_count": 42,
     "metadata": {},
     "output_type": "execute_result"
    }
   ],
   "source": [
    "d = pd.read_csv('../course_notebooks/03-Pandas/mpg.csv')\n",
    "d\n"
   ],
   "metadata": {
    "collapsed": false
   }
  },
  {
   "cell_type": "code",
   "execution_count": 47,
   "outputs": [
    {
     "data": {
      "text/plain": "model_year\n70    17.689655\n71    21.250000\n72    18.714286\n73    17.100000\n74    22.703704\n75    20.266667\n76    21.573529\n77    23.375000\n78    24.061111\n79    25.093103\n80    33.696552\n81    30.334483\n82    31.709677\nName: mpg, dtype: float64"
     },
     "execution_count": 47,
     "metadata": {},
     "output_type": "execute_result"
    }
   ],
   "source": [
    "d.groupby('model_year').mean()['mpg']\n"
   ],
   "metadata": {
    "collapsed": false
   }
  },
  {
   "cell_type": "code",
   "execution_count": 54,
   "outputs": [
    {
     "data": {
      "text/plain": "                            mpg  displacement       weight  acceleration  \\\nmodel_year cylinders                                                       \n70         4          25.285714    107.000000  2292.571429     16.000000   \n           6          20.500000    199.000000  2710.500000     15.500000   \n           8          14.111111    367.555556  3940.055556     11.194444   \n71         4          27.461538    101.846154  2056.384615     16.961538   \n           6          18.000000    243.375000  3171.875000     14.750000   \n           8          13.428571    371.714286  4537.714286     12.214286   \n72         3          19.000000     70.000000  2330.000000     13.500000   \n           4          23.428571    111.535714  2382.642857     17.214286   \n           8          13.615385    344.846154  4228.384615     13.000000   \n73         3          18.000000     70.000000  2124.000000     13.500000   \n           4          22.727273    109.272727  2338.090909     17.136364   \n           6          19.000000    212.250000  2917.125000     15.687500   \n           8          13.200000    365.250000  4279.050000     12.250000   \n74         4          27.800000     96.533333  2151.466667     16.400000   \n           6          17.857143    230.428571  3320.000000     16.857143   \n           8          14.200000    315.200000  4438.400000     14.700000   \n75         4          25.250000    114.833333  2489.250000     15.833333   \n           6          17.583333    233.750000  3398.333333     17.708333   \n           8          15.666667    330.500000  4108.833333     13.166667   \n76         4          26.766667    106.333333  2306.600000     16.866667   \n           6          20.000000    221.400000  3349.600000     17.000000   \n           8          14.666667    324.000000  4064.666667     13.222222   \n77         3          21.500000     80.000000  2720.000000     13.500000   \n           4          29.107143    106.500000  2205.071429     16.064286   \n           6          19.500000    220.400000  3383.000000     16.900000   \n           8          16.000000    335.750000  4177.500000     13.662500   \n78         4          29.576471    112.117647  2296.764706     16.282353   \n           5          20.300000    131.000000  2830.000000     15.900000   \n           6          19.066667    213.250000  3314.166667     16.391667   \n           8          19.050000    300.833333  3563.333333     13.266667   \n79         4          31.525000    113.583333  2357.583333     15.991667   \n           5          25.400000    183.000000  3530.000000     20.100000   \n           6          22.950000    205.666667  3025.833333     15.433333   \n           8          18.630000    321.400000  3862.900000     15.400000   \n80         3          23.700000     70.000000  2420.000000     12.500000   \n           4          34.612000    111.000000  2360.080000     17.144000   \n           5          36.400000    121.000000  2950.000000     19.900000   \n           6          25.900000    196.500000  3145.500000     15.050000   \n81         4          32.814286    108.857143  2275.476190     16.466667   \n           6          23.428571    184.000000  3093.571429     15.442857   \n           8          26.600000    350.000000  3725.000000     19.000000   \n82         4          32.071429    118.571429  2402.321429     16.703571   \n           6          28.333333    225.000000  2931.666667     16.033333   \n\n                        origin  \nmodel_year cylinders            \n70         4          2.285714  \n           6          1.000000  \n           8          1.000000  \n71         4          1.923077  \n           6          1.000000  \n           8          1.000000  \n72         3          3.000000  \n           4          1.928571  \n           8          1.000000  \n73         3          3.000000  \n           4          2.000000  \n           6          1.250000  \n           8          1.000000  \n74         4          2.200000  \n           6          1.000000  \n           8          1.000000  \n75         4          2.166667  \n           6          1.000000  \n           8          1.000000  \n76         4          1.866667  \n           6          1.300000  \n           8          1.000000  \n77         3          3.000000  \n           4          1.857143  \n           6          1.400000  \n           8          1.000000  \n78         4          2.117647  \n           5          2.000000  \n           6          1.166667  \n           8          1.000000  \n79         4          1.583333  \n           5          2.000000  \n           6          1.000000  \n           8          1.000000  \n80         3          3.000000  \n           4          2.200000  \n           5          2.000000  \n           6          2.000000  \n81         4          2.095238  \n           6          1.714286  \n           8          1.000000  \n82         4          1.714286  \n           6          1.000000  ",
      "text/html": "<div>\n<style scoped>\n    .dataframe tbody tr th:only-of-type {\n        vertical-align: middle;\n    }\n\n    .dataframe tbody tr th {\n        vertical-align: top;\n    }\n\n    .dataframe thead th {\n        text-align: right;\n    }\n</style>\n<table border=\"1\" class=\"dataframe\">\n  <thead>\n    <tr style=\"text-align: right;\">\n      <th></th>\n      <th></th>\n      <th>mpg</th>\n      <th>displacement</th>\n      <th>weight</th>\n      <th>acceleration</th>\n      <th>origin</th>\n    </tr>\n    <tr>\n      <th>model_year</th>\n      <th>cylinders</th>\n      <th></th>\n      <th></th>\n      <th></th>\n      <th></th>\n      <th></th>\n    </tr>\n  </thead>\n  <tbody>\n    <tr>\n      <th rowspan=\"3\" valign=\"top\">70</th>\n      <th>4</th>\n      <td>25.285714</td>\n      <td>107.000000</td>\n      <td>2292.571429</td>\n      <td>16.000000</td>\n      <td>2.285714</td>\n    </tr>\n    <tr>\n      <th>6</th>\n      <td>20.500000</td>\n      <td>199.000000</td>\n      <td>2710.500000</td>\n      <td>15.500000</td>\n      <td>1.000000</td>\n    </tr>\n    <tr>\n      <th>8</th>\n      <td>14.111111</td>\n      <td>367.555556</td>\n      <td>3940.055556</td>\n      <td>11.194444</td>\n      <td>1.000000</td>\n    </tr>\n    <tr>\n      <th rowspan=\"3\" valign=\"top\">71</th>\n      <th>4</th>\n      <td>27.461538</td>\n      <td>101.846154</td>\n      <td>2056.384615</td>\n      <td>16.961538</td>\n      <td>1.923077</td>\n    </tr>\n    <tr>\n      <th>6</th>\n      <td>18.000000</td>\n      <td>243.375000</td>\n      <td>3171.875000</td>\n      <td>14.750000</td>\n      <td>1.000000</td>\n    </tr>\n    <tr>\n      <th>8</th>\n      <td>13.428571</td>\n      <td>371.714286</td>\n      <td>4537.714286</td>\n      <td>12.214286</td>\n      <td>1.000000</td>\n    </tr>\n    <tr>\n      <th rowspan=\"3\" valign=\"top\">72</th>\n      <th>3</th>\n      <td>19.000000</td>\n      <td>70.000000</td>\n      <td>2330.000000</td>\n      <td>13.500000</td>\n      <td>3.000000</td>\n    </tr>\n    <tr>\n      <th>4</th>\n      <td>23.428571</td>\n      <td>111.535714</td>\n      <td>2382.642857</td>\n      <td>17.214286</td>\n      <td>1.928571</td>\n    </tr>\n    <tr>\n      <th>8</th>\n      <td>13.615385</td>\n      <td>344.846154</td>\n      <td>4228.384615</td>\n      <td>13.000000</td>\n      <td>1.000000</td>\n    </tr>\n    <tr>\n      <th rowspan=\"4\" valign=\"top\">73</th>\n      <th>3</th>\n      <td>18.000000</td>\n      <td>70.000000</td>\n      <td>2124.000000</td>\n      <td>13.500000</td>\n      <td>3.000000</td>\n    </tr>\n    <tr>\n      <th>4</th>\n      <td>22.727273</td>\n      <td>109.272727</td>\n      <td>2338.090909</td>\n      <td>17.136364</td>\n      <td>2.000000</td>\n    </tr>\n    <tr>\n      <th>6</th>\n      <td>19.000000</td>\n      <td>212.250000</td>\n      <td>2917.125000</td>\n      <td>15.687500</td>\n      <td>1.250000</td>\n    </tr>\n    <tr>\n      <th>8</th>\n      <td>13.200000</td>\n      <td>365.250000</td>\n      <td>4279.050000</td>\n      <td>12.250000</td>\n      <td>1.000000</td>\n    </tr>\n    <tr>\n      <th rowspan=\"3\" valign=\"top\">74</th>\n      <th>4</th>\n      <td>27.800000</td>\n      <td>96.533333</td>\n      <td>2151.466667</td>\n      <td>16.400000</td>\n      <td>2.200000</td>\n    </tr>\n    <tr>\n      <th>6</th>\n      <td>17.857143</td>\n      <td>230.428571</td>\n      <td>3320.000000</td>\n      <td>16.857143</td>\n      <td>1.000000</td>\n    </tr>\n    <tr>\n      <th>8</th>\n      <td>14.200000</td>\n      <td>315.200000</td>\n      <td>4438.400000</td>\n      <td>14.700000</td>\n      <td>1.000000</td>\n    </tr>\n    <tr>\n      <th rowspan=\"3\" valign=\"top\">75</th>\n      <th>4</th>\n      <td>25.250000</td>\n      <td>114.833333</td>\n      <td>2489.250000</td>\n      <td>15.833333</td>\n      <td>2.166667</td>\n    </tr>\n    <tr>\n      <th>6</th>\n      <td>17.583333</td>\n      <td>233.750000</td>\n      <td>3398.333333</td>\n      <td>17.708333</td>\n      <td>1.000000</td>\n    </tr>\n    <tr>\n      <th>8</th>\n      <td>15.666667</td>\n      <td>330.500000</td>\n      <td>4108.833333</td>\n      <td>13.166667</td>\n      <td>1.000000</td>\n    </tr>\n    <tr>\n      <th rowspan=\"3\" valign=\"top\">76</th>\n      <th>4</th>\n      <td>26.766667</td>\n      <td>106.333333</td>\n      <td>2306.600000</td>\n      <td>16.866667</td>\n      <td>1.866667</td>\n    </tr>\n    <tr>\n      <th>6</th>\n      <td>20.000000</td>\n      <td>221.400000</td>\n      <td>3349.600000</td>\n      <td>17.000000</td>\n      <td>1.300000</td>\n    </tr>\n    <tr>\n      <th>8</th>\n      <td>14.666667</td>\n      <td>324.000000</td>\n      <td>4064.666667</td>\n      <td>13.222222</td>\n      <td>1.000000</td>\n    </tr>\n    <tr>\n      <th rowspan=\"4\" valign=\"top\">77</th>\n      <th>3</th>\n      <td>21.500000</td>\n      <td>80.000000</td>\n      <td>2720.000000</td>\n      <td>13.500000</td>\n      <td>3.000000</td>\n    </tr>\n    <tr>\n      <th>4</th>\n      <td>29.107143</td>\n      <td>106.500000</td>\n      <td>2205.071429</td>\n      <td>16.064286</td>\n      <td>1.857143</td>\n    </tr>\n    <tr>\n      <th>6</th>\n      <td>19.500000</td>\n      <td>220.400000</td>\n      <td>3383.000000</td>\n      <td>16.900000</td>\n      <td>1.400000</td>\n    </tr>\n    <tr>\n      <th>8</th>\n      <td>16.000000</td>\n      <td>335.750000</td>\n      <td>4177.500000</td>\n      <td>13.662500</td>\n      <td>1.000000</td>\n    </tr>\n    <tr>\n      <th rowspan=\"4\" valign=\"top\">78</th>\n      <th>4</th>\n      <td>29.576471</td>\n      <td>112.117647</td>\n      <td>2296.764706</td>\n      <td>16.282353</td>\n      <td>2.117647</td>\n    </tr>\n    <tr>\n      <th>5</th>\n      <td>20.300000</td>\n      <td>131.000000</td>\n      <td>2830.000000</td>\n      <td>15.900000</td>\n      <td>2.000000</td>\n    </tr>\n    <tr>\n      <th>6</th>\n      <td>19.066667</td>\n      <td>213.250000</td>\n      <td>3314.166667</td>\n      <td>16.391667</td>\n      <td>1.166667</td>\n    </tr>\n    <tr>\n      <th>8</th>\n      <td>19.050000</td>\n      <td>300.833333</td>\n      <td>3563.333333</td>\n      <td>13.266667</td>\n      <td>1.000000</td>\n    </tr>\n    <tr>\n      <th rowspan=\"4\" valign=\"top\">79</th>\n      <th>4</th>\n      <td>31.525000</td>\n      <td>113.583333</td>\n      <td>2357.583333</td>\n      <td>15.991667</td>\n      <td>1.583333</td>\n    </tr>\n    <tr>\n      <th>5</th>\n      <td>25.400000</td>\n      <td>183.000000</td>\n      <td>3530.000000</td>\n      <td>20.100000</td>\n      <td>2.000000</td>\n    </tr>\n    <tr>\n      <th>6</th>\n      <td>22.950000</td>\n      <td>205.666667</td>\n      <td>3025.833333</td>\n      <td>15.433333</td>\n      <td>1.000000</td>\n    </tr>\n    <tr>\n      <th>8</th>\n      <td>18.630000</td>\n      <td>321.400000</td>\n      <td>3862.900000</td>\n      <td>15.400000</td>\n      <td>1.000000</td>\n    </tr>\n    <tr>\n      <th rowspan=\"4\" valign=\"top\">80</th>\n      <th>3</th>\n      <td>23.700000</td>\n      <td>70.000000</td>\n      <td>2420.000000</td>\n      <td>12.500000</td>\n      <td>3.000000</td>\n    </tr>\n    <tr>\n      <th>4</th>\n      <td>34.612000</td>\n      <td>111.000000</td>\n      <td>2360.080000</td>\n      <td>17.144000</td>\n      <td>2.200000</td>\n    </tr>\n    <tr>\n      <th>5</th>\n      <td>36.400000</td>\n      <td>121.000000</td>\n      <td>2950.000000</td>\n      <td>19.900000</td>\n      <td>2.000000</td>\n    </tr>\n    <tr>\n      <th>6</th>\n      <td>25.900000</td>\n      <td>196.500000</td>\n      <td>3145.500000</td>\n      <td>15.050000</td>\n      <td>2.000000</td>\n    </tr>\n    <tr>\n      <th rowspan=\"3\" valign=\"top\">81</th>\n      <th>4</th>\n      <td>32.814286</td>\n      <td>108.857143</td>\n      <td>2275.476190</td>\n      <td>16.466667</td>\n      <td>2.095238</td>\n    </tr>\n    <tr>\n      <th>6</th>\n      <td>23.428571</td>\n      <td>184.000000</td>\n      <td>3093.571429</td>\n      <td>15.442857</td>\n      <td>1.714286</td>\n    </tr>\n    <tr>\n      <th>8</th>\n      <td>26.600000</td>\n      <td>350.000000</td>\n      <td>3725.000000</td>\n      <td>19.000000</td>\n      <td>1.000000</td>\n    </tr>\n    <tr>\n      <th rowspan=\"2\" valign=\"top\">82</th>\n      <th>4</th>\n      <td>32.071429</td>\n      <td>118.571429</td>\n      <td>2402.321429</td>\n      <td>16.703571</td>\n      <td>1.714286</td>\n    </tr>\n    <tr>\n      <th>6</th>\n      <td>28.333333</td>\n      <td>225.000000</td>\n      <td>2931.666667</td>\n      <td>16.033333</td>\n      <td>1.000000</td>\n    </tr>\n  </tbody>\n</table>\n</div>"
     },
     "execution_count": 54,
     "metadata": {},
     "output_type": "execute_result"
    }
   ],
   "source": [
    "d.groupby(['model_year','cylinders']).mean().index\n",
    "d.groupby(['model_year','cylinders']).mean()\n"
   ],
   "metadata": {
    "collapsed": false
   }
  },
  {
   "cell_type": "code",
   "execution_count": 61,
   "outputs": [
    {
     "data": {
      "text/plain": "                       mpg                                                 \\\n                     count       mean       std   min    25%   50%    75%   \nmodel_year cylinders                                                        \n70         4           7.0  25.285714  1.112697  24.0  24.50  25.0  26.00   \n           6           4.0  20.500000  1.732051  18.0  20.25  21.0  21.25   \n           8          18.0  14.111111  2.609685   9.0  14.00  14.5  15.00   \n71         4          13.0  27.461538  3.502746  22.0  25.00  27.0  30.00   \n           6           8.0  18.000000  1.069045  16.0  17.75  18.0  19.00   \n           8           7.0  13.428571  0.786796  12.0  13.00  14.0  14.00   \n\n                           displacement              ... acceleration        \\\n                       max        count        mean  ...          75%   max   \nmodel_year cylinders                                 ...                      \n70         4          27.0          7.0  107.000000  ...       17.500  20.5   \n           6          22.0          4.0  199.000000  ...       15.625  16.0   \n           8          18.0         18.0  367.555556  ...       12.000  18.5   \n71         4          35.0         13.0  101.846154  ...       19.000  20.5   \n           6          19.0          8.0  243.375000  ...       15.500  15.5   \n           8          14.0          7.0  371.714286  ...       12.500  13.5   \n\n                     origin                                               \n                      count      mean       std  min  25%  50%  75%  max  \nmodel_year cylinders                                                      \n70         4            7.0  2.285714  0.487950  2.0  2.0  2.0  2.5  3.0  \n           6            4.0  1.000000  0.000000  1.0  1.0  1.0  1.0  1.0  \n           8           18.0  1.000000  0.000000  1.0  1.0  1.0  1.0  1.0  \n71         4           13.0  1.923077  0.862316  1.0  1.0  2.0  3.0  3.0  \n           6            8.0  1.000000  0.000000  1.0  1.0  1.0  1.0  1.0  \n           8            7.0  1.000000  0.000000  1.0  1.0  1.0  1.0  1.0  \n\n[6 rows x 40 columns]",
      "text/html": "<div>\n<style scoped>\n    .dataframe tbody tr th:only-of-type {\n        vertical-align: middle;\n    }\n\n    .dataframe tbody tr th {\n        vertical-align: top;\n    }\n\n    .dataframe thead tr th {\n        text-align: left;\n    }\n\n    .dataframe thead tr:last-of-type th {\n        text-align: right;\n    }\n</style>\n<table border=\"1\" class=\"dataframe\">\n  <thead>\n    <tr>\n      <th></th>\n      <th></th>\n      <th colspan=\"8\" halign=\"left\">mpg</th>\n      <th colspan=\"2\" halign=\"left\">displacement</th>\n      <th>...</th>\n      <th colspan=\"2\" halign=\"left\">acceleration</th>\n      <th colspan=\"8\" halign=\"left\">origin</th>\n    </tr>\n    <tr>\n      <th></th>\n      <th></th>\n      <th>count</th>\n      <th>mean</th>\n      <th>std</th>\n      <th>min</th>\n      <th>25%</th>\n      <th>50%</th>\n      <th>75%</th>\n      <th>max</th>\n      <th>count</th>\n      <th>mean</th>\n      <th>...</th>\n      <th>75%</th>\n      <th>max</th>\n      <th>count</th>\n      <th>mean</th>\n      <th>std</th>\n      <th>min</th>\n      <th>25%</th>\n      <th>50%</th>\n      <th>75%</th>\n      <th>max</th>\n    </tr>\n    <tr>\n      <th>model_year</th>\n      <th>cylinders</th>\n      <th></th>\n      <th></th>\n      <th></th>\n      <th></th>\n      <th></th>\n      <th></th>\n      <th></th>\n      <th></th>\n      <th></th>\n      <th></th>\n      <th></th>\n      <th></th>\n      <th></th>\n      <th></th>\n      <th></th>\n      <th></th>\n      <th></th>\n      <th></th>\n      <th></th>\n      <th></th>\n      <th></th>\n    </tr>\n  </thead>\n  <tbody>\n    <tr>\n      <th rowspan=\"3\" valign=\"top\">70</th>\n      <th>4</th>\n      <td>7.0</td>\n      <td>25.285714</td>\n      <td>1.112697</td>\n      <td>24.0</td>\n      <td>24.50</td>\n      <td>25.0</td>\n      <td>26.00</td>\n      <td>27.0</td>\n      <td>7.0</td>\n      <td>107.000000</td>\n      <td>...</td>\n      <td>17.500</td>\n      <td>20.5</td>\n      <td>7.0</td>\n      <td>2.285714</td>\n      <td>0.487950</td>\n      <td>2.0</td>\n      <td>2.0</td>\n      <td>2.0</td>\n      <td>2.5</td>\n      <td>3.0</td>\n    </tr>\n    <tr>\n      <th>6</th>\n      <td>4.0</td>\n      <td>20.500000</td>\n      <td>1.732051</td>\n      <td>18.0</td>\n      <td>20.25</td>\n      <td>21.0</td>\n      <td>21.25</td>\n      <td>22.0</td>\n      <td>4.0</td>\n      <td>199.000000</td>\n      <td>...</td>\n      <td>15.625</td>\n      <td>16.0</td>\n      <td>4.0</td>\n      <td>1.000000</td>\n      <td>0.000000</td>\n      <td>1.0</td>\n      <td>1.0</td>\n      <td>1.0</td>\n      <td>1.0</td>\n      <td>1.0</td>\n    </tr>\n    <tr>\n      <th>8</th>\n      <td>18.0</td>\n      <td>14.111111</td>\n      <td>2.609685</td>\n      <td>9.0</td>\n      <td>14.00</td>\n      <td>14.5</td>\n      <td>15.00</td>\n      <td>18.0</td>\n      <td>18.0</td>\n      <td>367.555556</td>\n      <td>...</td>\n      <td>12.000</td>\n      <td>18.5</td>\n      <td>18.0</td>\n      <td>1.000000</td>\n      <td>0.000000</td>\n      <td>1.0</td>\n      <td>1.0</td>\n      <td>1.0</td>\n      <td>1.0</td>\n      <td>1.0</td>\n    </tr>\n    <tr>\n      <th rowspan=\"3\" valign=\"top\">71</th>\n      <th>4</th>\n      <td>13.0</td>\n      <td>27.461538</td>\n      <td>3.502746</td>\n      <td>22.0</td>\n      <td>25.00</td>\n      <td>27.0</td>\n      <td>30.00</td>\n      <td>35.0</td>\n      <td>13.0</td>\n      <td>101.846154</td>\n      <td>...</td>\n      <td>19.000</td>\n      <td>20.5</td>\n      <td>13.0</td>\n      <td>1.923077</td>\n      <td>0.862316</td>\n      <td>1.0</td>\n      <td>1.0</td>\n      <td>2.0</td>\n      <td>3.0</td>\n      <td>3.0</td>\n    </tr>\n    <tr>\n      <th>6</th>\n      <td>8.0</td>\n      <td>18.000000</td>\n      <td>1.069045</td>\n      <td>16.0</td>\n      <td>17.75</td>\n      <td>18.0</td>\n      <td>19.00</td>\n      <td>19.0</td>\n      <td>8.0</td>\n      <td>243.375000</td>\n      <td>...</td>\n      <td>15.500</td>\n      <td>15.5</td>\n      <td>8.0</td>\n      <td>1.000000</td>\n      <td>0.000000</td>\n      <td>1.0</td>\n      <td>1.0</td>\n      <td>1.0</td>\n      <td>1.0</td>\n      <td>1.0</td>\n    </tr>\n    <tr>\n      <th>8</th>\n      <td>7.0</td>\n      <td>13.428571</td>\n      <td>0.786796</td>\n      <td>12.0</td>\n      <td>13.00</td>\n      <td>14.0</td>\n      <td>14.00</td>\n      <td>14.0</td>\n      <td>7.0</td>\n      <td>371.714286</td>\n      <td>...</td>\n      <td>12.500</td>\n      <td>13.5</td>\n      <td>7.0</td>\n      <td>1.000000</td>\n      <td>0.000000</td>\n      <td>1.0</td>\n      <td>1.0</td>\n      <td>1.0</td>\n      <td>1.0</td>\n      <td>1.0</td>\n    </tr>\n  </tbody>\n</table>\n<p>6 rows × 40 columns</p>\n</div>"
     },
     "execution_count": 61,
     "metadata": {},
     "output_type": "execute_result"
    }
   ],
   "source": [
    "d.groupby(['model_year','cylinders']).describe().loc[[70,71]]\n"
   ],
   "metadata": {
    "collapsed": false
   }
  },
  {
   "cell_type": "code",
   "execution_count": 64,
   "outputs": [
    {
     "data": {
      "text/plain": "            mpg                                                       \\\n          count       mean       std   min    25%   50%    75%   max   \ncylinders                                                              \n4           7.0  25.285714  1.112697  24.0  24.50  25.0  26.00  27.0   \n6           4.0  20.500000  1.732051  18.0  20.25  21.0  21.25  22.0   \n8          18.0  14.111111  2.609685   9.0  14.00  14.5  15.00  18.0   \n\n          displacement              ... acceleration       origin            \\\n                 count        mean  ...          75%   max  count      mean   \ncylinders                           ...                                       \n4                  7.0  107.000000  ...       17.500  20.5    7.0  2.285714   \n6                  4.0  199.000000  ...       15.625  16.0    4.0  1.000000   \n8                 18.0  367.555556  ...       12.000  18.5   18.0  1.000000   \n\n                                             \n               std  min  25%  50%  75%  max  \ncylinders                                    \n4          0.48795  2.0  2.0  2.0  2.5  3.0  \n6          0.00000  1.0  1.0  1.0  1.0  1.0  \n8          0.00000  1.0  1.0  1.0  1.0  1.0  \n\n[3 rows x 40 columns]",
      "text/html": "<div>\n<style scoped>\n    .dataframe tbody tr th:only-of-type {\n        vertical-align: middle;\n    }\n\n    .dataframe tbody tr th {\n        vertical-align: top;\n    }\n\n    .dataframe thead tr th {\n        text-align: left;\n    }\n\n    .dataframe thead tr:last-of-type th {\n        text-align: right;\n    }\n</style>\n<table border=\"1\" class=\"dataframe\">\n  <thead>\n    <tr>\n      <th></th>\n      <th colspan=\"8\" halign=\"left\">mpg</th>\n      <th colspan=\"2\" halign=\"left\">displacement</th>\n      <th>...</th>\n      <th colspan=\"2\" halign=\"left\">acceleration</th>\n      <th colspan=\"8\" halign=\"left\">origin</th>\n    </tr>\n    <tr>\n      <th></th>\n      <th>count</th>\n      <th>mean</th>\n      <th>std</th>\n      <th>min</th>\n      <th>25%</th>\n      <th>50%</th>\n      <th>75%</th>\n      <th>max</th>\n      <th>count</th>\n      <th>mean</th>\n      <th>...</th>\n      <th>75%</th>\n      <th>max</th>\n      <th>count</th>\n      <th>mean</th>\n      <th>std</th>\n      <th>min</th>\n      <th>25%</th>\n      <th>50%</th>\n      <th>75%</th>\n      <th>max</th>\n    </tr>\n    <tr>\n      <th>cylinders</th>\n      <th></th>\n      <th></th>\n      <th></th>\n      <th></th>\n      <th></th>\n      <th></th>\n      <th></th>\n      <th></th>\n      <th></th>\n      <th></th>\n      <th></th>\n      <th></th>\n      <th></th>\n      <th></th>\n      <th></th>\n      <th></th>\n      <th></th>\n      <th></th>\n      <th></th>\n      <th></th>\n      <th></th>\n    </tr>\n  </thead>\n  <tbody>\n    <tr>\n      <th>4</th>\n      <td>7.0</td>\n      <td>25.285714</td>\n      <td>1.112697</td>\n      <td>24.0</td>\n      <td>24.50</td>\n      <td>25.0</td>\n      <td>26.00</td>\n      <td>27.0</td>\n      <td>7.0</td>\n      <td>107.000000</td>\n      <td>...</td>\n      <td>17.500</td>\n      <td>20.5</td>\n      <td>7.0</td>\n      <td>2.285714</td>\n      <td>0.48795</td>\n      <td>2.0</td>\n      <td>2.0</td>\n      <td>2.0</td>\n      <td>2.5</td>\n      <td>3.0</td>\n    </tr>\n    <tr>\n      <th>6</th>\n      <td>4.0</td>\n      <td>20.500000</td>\n      <td>1.732051</td>\n      <td>18.0</td>\n      <td>20.25</td>\n      <td>21.0</td>\n      <td>21.25</td>\n      <td>22.0</td>\n      <td>4.0</td>\n      <td>199.000000</td>\n      <td>...</td>\n      <td>15.625</td>\n      <td>16.0</td>\n      <td>4.0</td>\n      <td>1.000000</td>\n      <td>0.00000</td>\n      <td>1.0</td>\n      <td>1.0</td>\n      <td>1.0</td>\n      <td>1.0</td>\n      <td>1.0</td>\n    </tr>\n    <tr>\n      <th>8</th>\n      <td>18.0</td>\n      <td>14.111111</td>\n      <td>2.609685</td>\n      <td>9.0</td>\n      <td>14.00</td>\n      <td>14.5</td>\n      <td>15.00</td>\n      <td>18.0</td>\n      <td>18.0</td>\n      <td>367.555556</td>\n      <td>...</td>\n      <td>12.000</td>\n      <td>18.5</td>\n      <td>18.0</td>\n      <td>1.000000</td>\n      <td>0.00000</td>\n      <td>1.0</td>\n      <td>1.0</td>\n      <td>1.0</td>\n      <td>1.0</td>\n      <td>1.0</td>\n    </tr>\n  </tbody>\n</table>\n<p>3 rows × 40 columns</p>\n</div>"
     },
     "execution_count": 64,
     "metadata": {},
     "output_type": "execute_result"
    }
   ],
   "source": [
    "d.groupby(['model_year','cylinders']).describe().xs(key=70,level='model_year')\n"
   ],
   "metadata": {
    "collapsed": false
   }
  },
  {
   "cell_type": "code",
   "execution_count": 69,
   "outputs": [
    {
     "data": {
      "text/plain": "             mpg                                                         \\\n           count       mean       std   min     25%   50%     75%   max   \nmodel_year                                                                \n70           7.0  25.285714  1.112697  24.0  24.500  25.0  26.000  27.0   \n71          13.0  27.461538  3.502746  22.0  25.000  27.0  30.000  35.0   \n72          14.0  23.428571  3.056249  18.0  21.250  23.0  25.750  28.0   \n73          11.0  22.727273  3.319365  19.0  20.000  22.0  25.000  29.0   \n74          15.0  27.800000  2.932576  24.0  26.000  26.0  31.000  32.0   \n75          12.0  25.250000  3.333712  22.0  23.000  24.0  26.000  33.0   \n76          15.0  26.766667  3.825976  19.0  25.000  27.0  29.000  33.0   \n77          14.0  29.107143  4.039129  21.5  25.625  30.0  31.250  36.0   \n78          17.0  29.576471  6.384799  21.1  23.900  29.5  32.800  43.1   \n79          12.0  31.525000  4.349739  22.3  28.150  32.7  34.275  37.3   \n80          25.0  34.612000  6.597621  23.6  29.800  33.8  40.800  46.6   \n81          21.0  32.814286  3.844904  25.8  30.000  33.0  34.700  39.1   \n82          28.0  32.071429  5.054727  23.0  27.750  32.0  36.000  44.0   \n\n           displacement              ... acceleration       origin            \\\n                  count        mean  ...          75%   max  count      mean   \nmodel_year                           ...                                       \n70                  7.0  107.000000  ...       17.500  20.5    7.0  2.285714   \n71                 13.0  101.846154  ...       19.000  20.5   13.0  1.923077   \n72                 14.0  111.535714  ...       18.000  23.5   14.0  1.928571   \n73                 11.0  109.272727  ...       19.250  21.0   11.0  2.000000   \n74                 15.0   96.533333  ...       16.750  21.0   15.0  2.200000   \n75                 12.0  114.833333  ...       17.000  18.5   12.0  2.166667   \n76                 15.0  106.333333  ...       17.550  22.2   15.0  1.866667   \n77                 14.0  106.500000  ...       16.950  18.6   14.0  1.857143   \n78                 17.0  112.117647  ...       16.700  21.5   17.0  2.117647   \n79                 12.0  113.583333  ...       16.325  24.8   12.0  1.583333   \n80                 25.0  111.000000  ...       18.100  23.7   25.0  2.200000   \n81                 21.0  108.857143  ...       17.300  20.7   21.0  2.095238   \n82                 28.0  118.571429  ...       18.050  24.6   28.0  1.714286   \n\n                                                \n                 std  min  25%  50%   75%  max  \nmodel_year                                      \n70          0.487950  2.0  2.0  2.0  2.50  3.0  \n71          0.862316  1.0  1.0  2.0  3.00  3.0  \n72          0.828742  1.0  1.0  2.0  2.75  3.0  \n73          0.632456  1.0  2.0  2.0  2.00  3.0  \n74          0.774597  1.0  2.0  2.0  3.00  3.0  \n75          0.717741  1.0  2.0  2.0  3.00  3.0  \n76          0.743223  1.0  1.0  2.0  2.00  3.0  \n77          0.864438  1.0  1.0  2.0  2.75  3.0  \n78          0.927520  1.0  1.0  2.0  3.00  3.0  \n79          0.792961  1.0  1.0  1.0  2.00  3.0  \n80          0.816497  1.0  2.0  2.0  3.00  3.0  \n81          0.943650  1.0  1.0  2.0  3.00  3.0  \n82          0.937180  1.0  1.0  1.0  3.00  3.0  \n\n[13 rows x 40 columns]",
      "text/html": "<div>\n<style scoped>\n    .dataframe tbody tr th:only-of-type {\n        vertical-align: middle;\n    }\n\n    .dataframe tbody tr th {\n        vertical-align: top;\n    }\n\n    .dataframe thead tr th {\n        text-align: left;\n    }\n\n    .dataframe thead tr:last-of-type th {\n        text-align: right;\n    }\n</style>\n<table border=\"1\" class=\"dataframe\">\n  <thead>\n    <tr>\n      <th></th>\n      <th colspan=\"8\" halign=\"left\">mpg</th>\n      <th colspan=\"2\" halign=\"left\">displacement</th>\n      <th>...</th>\n      <th colspan=\"2\" halign=\"left\">acceleration</th>\n      <th colspan=\"8\" halign=\"left\">origin</th>\n    </tr>\n    <tr>\n      <th></th>\n      <th>count</th>\n      <th>mean</th>\n      <th>std</th>\n      <th>min</th>\n      <th>25%</th>\n      <th>50%</th>\n      <th>75%</th>\n      <th>max</th>\n      <th>count</th>\n      <th>mean</th>\n      <th>...</th>\n      <th>75%</th>\n      <th>max</th>\n      <th>count</th>\n      <th>mean</th>\n      <th>std</th>\n      <th>min</th>\n      <th>25%</th>\n      <th>50%</th>\n      <th>75%</th>\n      <th>max</th>\n    </tr>\n    <tr>\n      <th>model_year</th>\n      <th></th>\n      <th></th>\n      <th></th>\n      <th></th>\n      <th></th>\n      <th></th>\n      <th></th>\n      <th></th>\n      <th></th>\n      <th></th>\n      <th></th>\n      <th></th>\n      <th></th>\n      <th></th>\n      <th></th>\n      <th></th>\n      <th></th>\n      <th></th>\n      <th></th>\n      <th></th>\n      <th></th>\n    </tr>\n  </thead>\n  <tbody>\n    <tr>\n      <th>70</th>\n      <td>7.0</td>\n      <td>25.285714</td>\n      <td>1.112697</td>\n      <td>24.0</td>\n      <td>24.500</td>\n      <td>25.0</td>\n      <td>26.000</td>\n      <td>27.0</td>\n      <td>7.0</td>\n      <td>107.000000</td>\n      <td>...</td>\n      <td>17.500</td>\n      <td>20.5</td>\n      <td>7.0</td>\n      <td>2.285714</td>\n      <td>0.487950</td>\n      <td>2.0</td>\n      <td>2.0</td>\n      <td>2.0</td>\n      <td>2.50</td>\n      <td>3.0</td>\n    </tr>\n    <tr>\n      <th>71</th>\n      <td>13.0</td>\n      <td>27.461538</td>\n      <td>3.502746</td>\n      <td>22.0</td>\n      <td>25.000</td>\n      <td>27.0</td>\n      <td>30.000</td>\n      <td>35.0</td>\n      <td>13.0</td>\n      <td>101.846154</td>\n      <td>...</td>\n      <td>19.000</td>\n      <td>20.5</td>\n      <td>13.0</td>\n      <td>1.923077</td>\n      <td>0.862316</td>\n      <td>1.0</td>\n      <td>1.0</td>\n      <td>2.0</td>\n      <td>3.00</td>\n      <td>3.0</td>\n    </tr>\n    <tr>\n      <th>72</th>\n      <td>14.0</td>\n      <td>23.428571</td>\n      <td>3.056249</td>\n      <td>18.0</td>\n      <td>21.250</td>\n      <td>23.0</td>\n      <td>25.750</td>\n      <td>28.0</td>\n      <td>14.0</td>\n      <td>111.535714</td>\n      <td>...</td>\n      <td>18.000</td>\n      <td>23.5</td>\n      <td>14.0</td>\n      <td>1.928571</td>\n      <td>0.828742</td>\n      <td>1.0</td>\n      <td>1.0</td>\n      <td>2.0</td>\n      <td>2.75</td>\n      <td>3.0</td>\n    </tr>\n    <tr>\n      <th>73</th>\n      <td>11.0</td>\n      <td>22.727273</td>\n      <td>3.319365</td>\n      <td>19.0</td>\n      <td>20.000</td>\n      <td>22.0</td>\n      <td>25.000</td>\n      <td>29.0</td>\n      <td>11.0</td>\n      <td>109.272727</td>\n      <td>...</td>\n      <td>19.250</td>\n      <td>21.0</td>\n      <td>11.0</td>\n      <td>2.000000</td>\n      <td>0.632456</td>\n      <td>1.0</td>\n      <td>2.0</td>\n      <td>2.0</td>\n      <td>2.00</td>\n      <td>3.0</td>\n    </tr>\n    <tr>\n      <th>74</th>\n      <td>15.0</td>\n      <td>27.800000</td>\n      <td>2.932576</td>\n      <td>24.0</td>\n      <td>26.000</td>\n      <td>26.0</td>\n      <td>31.000</td>\n      <td>32.0</td>\n      <td>15.0</td>\n      <td>96.533333</td>\n      <td>...</td>\n      <td>16.750</td>\n      <td>21.0</td>\n      <td>15.0</td>\n      <td>2.200000</td>\n      <td>0.774597</td>\n      <td>1.0</td>\n      <td>2.0</td>\n      <td>2.0</td>\n      <td>3.00</td>\n      <td>3.0</td>\n    </tr>\n    <tr>\n      <th>75</th>\n      <td>12.0</td>\n      <td>25.250000</td>\n      <td>3.333712</td>\n      <td>22.0</td>\n      <td>23.000</td>\n      <td>24.0</td>\n      <td>26.000</td>\n      <td>33.0</td>\n      <td>12.0</td>\n      <td>114.833333</td>\n      <td>...</td>\n      <td>17.000</td>\n      <td>18.5</td>\n      <td>12.0</td>\n      <td>2.166667</td>\n      <td>0.717741</td>\n      <td>1.0</td>\n      <td>2.0</td>\n      <td>2.0</td>\n      <td>3.00</td>\n      <td>3.0</td>\n    </tr>\n    <tr>\n      <th>76</th>\n      <td>15.0</td>\n      <td>26.766667</td>\n      <td>3.825976</td>\n      <td>19.0</td>\n      <td>25.000</td>\n      <td>27.0</td>\n      <td>29.000</td>\n      <td>33.0</td>\n      <td>15.0</td>\n      <td>106.333333</td>\n      <td>...</td>\n      <td>17.550</td>\n      <td>22.2</td>\n      <td>15.0</td>\n      <td>1.866667</td>\n      <td>0.743223</td>\n      <td>1.0</td>\n      <td>1.0</td>\n      <td>2.0</td>\n      <td>2.00</td>\n      <td>3.0</td>\n    </tr>\n    <tr>\n      <th>77</th>\n      <td>14.0</td>\n      <td>29.107143</td>\n      <td>4.039129</td>\n      <td>21.5</td>\n      <td>25.625</td>\n      <td>30.0</td>\n      <td>31.250</td>\n      <td>36.0</td>\n      <td>14.0</td>\n      <td>106.500000</td>\n      <td>...</td>\n      <td>16.950</td>\n      <td>18.6</td>\n      <td>14.0</td>\n      <td>1.857143</td>\n      <td>0.864438</td>\n      <td>1.0</td>\n      <td>1.0</td>\n      <td>2.0</td>\n      <td>2.75</td>\n      <td>3.0</td>\n    </tr>\n    <tr>\n      <th>78</th>\n      <td>17.0</td>\n      <td>29.576471</td>\n      <td>6.384799</td>\n      <td>21.1</td>\n      <td>23.900</td>\n      <td>29.5</td>\n      <td>32.800</td>\n      <td>43.1</td>\n      <td>17.0</td>\n      <td>112.117647</td>\n      <td>...</td>\n      <td>16.700</td>\n      <td>21.5</td>\n      <td>17.0</td>\n      <td>2.117647</td>\n      <td>0.927520</td>\n      <td>1.0</td>\n      <td>1.0</td>\n      <td>2.0</td>\n      <td>3.00</td>\n      <td>3.0</td>\n    </tr>\n    <tr>\n      <th>79</th>\n      <td>12.0</td>\n      <td>31.525000</td>\n      <td>4.349739</td>\n      <td>22.3</td>\n      <td>28.150</td>\n      <td>32.7</td>\n      <td>34.275</td>\n      <td>37.3</td>\n      <td>12.0</td>\n      <td>113.583333</td>\n      <td>...</td>\n      <td>16.325</td>\n      <td>24.8</td>\n      <td>12.0</td>\n      <td>1.583333</td>\n      <td>0.792961</td>\n      <td>1.0</td>\n      <td>1.0</td>\n      <td>1.0</td>\n      <td>2.00</td>\n      <td>3.0</td>\n    </tr>\n    <tr>\n      <th>80</th>\n      <td>25.0</td>\n      <td>34.612000</td>\n      <td>6.597621</td>\n      <td>23.6</td>\n      <td>29.800</td>\n      <td>33.8</td>\n      <td>40.800</td>\n      <td>46.6</td>\n      <td>25.0</td>\n      <td>111.000000</td>\n      <td>...</td>\n      <td>18.100</td>\n      <td>23.7</td>\n      <td>25.0</td>\n      <td>2.200000</td>\n      <td>0.816497</td>\n      <td>1.0</td>\n      <td>2.0</td>\n      <td>2.0</td>\n      <td>3.00</td>\n      <td>3.0</td>\n    </tr>\n    <tr>\n      <th>81</th>\n      <td>21.0</td>\n      <td>32.814286</td>\n      <td>3.844904</td>\n      <td>25.8</td>\n      <td>30.000</td>\n      <td>33.0</td>\n      <td>34.700</td>\n      <td>39.1</td>\n      <td>21.0</td>\n      <td>108.857143</td>\n      <td>...</td>\n      <td>17.300</td>\n      <td>20.7</td>\n      <td>21.0</td>\n      <td>2.095238</td>\n      <td>0.943650</td>\n      <td>1.0</td>\n      <td>1.0</td>\n      <td>2.0</td>\n      <td>3.00</td>\n      <td>3.0</td>\n    </tr>\n    <tr>\n      <th>82</th>\n      <td>28.0</td>\n      <td>32.071429</td>\n      <td>5.054727</td>\n      <td>23.0</td>\n      <td>27.750</td>\n      <td>32.0</td>\n      <td>36.000</td>\n      <td>44.0</td>\n      <td>28.0</td>\n      <td>118.571429</td>\n      <td>...</td>\n      <td>18.050</td>\n      <td>24.6</td>\n      <td>28.0</td>\n      <td>1.714286</td>\n      <td>0.937180</td>\n      <td>1.0</td>\n      <td>1.0</td>\n      <td>1.0</td>\n      <td>3.00</td>\n      <td>3.0</td>\n    </tr>\n  </tbody>\n</table>\n<p>13 rows × 40 columns</p>\n</div>"
     },
     "execution_count": 69,
     "metadata": {},
     "output_type": "execute_result"
    }
   ],
   "source": [
    "d.groupby(['model_year','cylinders']).describe().xs(key=4,level='cylinders')\n"
   ],
   "metadata": {
    "collapsed": false
   }
  },
  {
   "cell_type": "code",
   "execution_count": 70,
   "outputs": [
    {
     "data": {
      "text/plain": "                            mpg  displacement       weight  acceleration  \\\nmodel_year cylinders                                                       \n70         6          20.500000    199.000000  2710.500000     15.500000   \n           8          14.111111    367.555556  3940.055556     11.194444   \n71         6          18.000000    243.375000  3171.875000     14.750000   \n           8          13.428571    371.714286  4537.714286     12.214286   \n72         8          13.615385    344.846154  4228.384615     13.000000   \n73         6          19.000000    212.250000  2917.125000     15.687500   \n           8          13.200000    365.250000  4279.050000     12.250000   \n74         6          17.857143    230.428571  3320.000000     16.857143   \n           8          14.200000    315.200000  4438.400000     14.700000   \n75         6          17.583333    233.750000  3398.333333     17.708333   \n           8          15.666667    330.500000  4108.833333     13.166667   \n76         6          20.000000    221.400000  3349.600000     17.000000   \n           8          14.666667    324.000000  4064.666667     13.222222   \n77         6          19.500000    220.400000  3383.000000     16.900000   \n           8          16.000000    335.750000  4177.500000     13.662500   \n78         6          19.066667    213.250000  3314.166667     16.391667   \n           8          19.050000    300.833333  3563.333333     13.266667   \n79         6          22.950000    205.666667  3025.833333     15.433333   \n           8          18.630000    321.400000  3862.900000     15.400000   \n80         6          25.900000    196.500000  3145.500000     15.050000   \n81         6          23.428571    184.000000  3093.571429     15.442857   \n           8          26.600000    350.000000  3725.000000     19.000000   \n82         6          28.333333    225.000000  2931.666667     16.033333   \n\n                        origin  \nmodel_year cylinders            \n70         6          1.000000  \n           8          1.000000  \n71         6          1.000000  \n           8          1.000000  \n72         8          1.000000  \n73         6          1.250000  \n           8          1.000000  \n74         6          1.000000  \n           8          1.000000  \n75         6          1.000000  \n           8          1.000000  \n76         6          1.300000  \n           8          1.000000  \n77         6          1.400000  \n           8          1.000000  \n78         6          1.166667  \n           8          1.000000  \n79         6          1.000000  \n           8          1.000000  \n80         6          2.000000  \n81         6          1.714286  \n           8          1.000000  \n82         6          1.000000  ",
      "text/html": "<div>\n<style scoped>\n    .dataframe tbody tr th:only-of-type {\n        vertical-align: middle;\n    }\n\n    .dataframe tbody tr th {\n        vertical-align: top;\n    }\n\n    .dataframe thead th {\n        text-align: right;\n    }\n</style>\n<table border=\"1\" class=\"dataframe\">\n  <thead>\n    <tr style=\"text-align: right;\">\n      <th></th>\n      <th></th>\n      <th>mpg</th>\n      <th>displacement</th>\n      <th>weight</th>\n      <th>acceleration</th>\n      <th>origin</th>\n    </tr>\n    <tr>\n      <th>model_year</th>\n      <th>cylinders</th>\n      <th></th>\n      <th></th>\n      <th></th>\n      <th></th>\n      <th></th>\n    </tr>\n  </thead>\n  <tbody>\n    <tr>\n      <th rowspan=\"2\" valign=\"top\">70</th>\n      <th>6</th>\n      <td>20.500000</td>\n      <td>199.000000</td>\n      <td>2710.500000</td>\n      <td>15.500000</td>\n      <td>1.000000</td>\n    </tr>\n    <tr>\n      <th>8</th>\n      <td>14.111111</td>\n      <td>367.555556</td>\n      <td>3940.055556</td>\n      <td>11.194444</td>\n      <td>1.000000</td>\n    </tr>\n    <tr>\n      <th rowspan=\"2\" valign=\"top\">71</th>\n      <th>6</th>\n      <td>18.000000</td>\n      <td>243.375000</td>\n      <td>3171.875000</td>\n      <td>14.750000</td>\n      <td>1.000000</td>\n    </tr>\n    <tr>\n      <th>8</th>\n      <td>13.428571</td>\n      <td>371.714286</td>\n      <td>4537.714286</td>\n      <td>12.214286</td>\n      <td>1.000000</td>\n    </tr>\n    <tr>\n      <th>72</th>\n      <th>8</th>\n      <td>13.615385</td>\n      <td>344.846154</td>\n      <td>4228.384615</td>\n      <td>13.000000</td>\n      <td>1.000000</td>\n    </tr>\n    <tr>\n      <th rowspan=\"2\" valign=\"top\">73</th>\n      <th>6</th>\n      <td>19.000000</td>\n      <td>212.250000</td>\n      <td>2917.125000</td>\n      <td>15.687500</td>\n      <td>1.250000</td>\n    </tr>\n    <tr>\n      <th>8</th>\n      <td>13.200000</td>\n      <td>365.250000</td>\n      <td>4279.050000</td>\n      <td>12.250000</td>\n      <td>1.000000</td>\n    </tr>\n    <tr>\n      <th rowspan=\"2\" valign=\"top\">74</th>\n      <th>6</th>\n      <td>17.857143</td>\n      <td>230.428571</td>\n      <td>3320.000000</td>\n      <td>16.857143</td>\n      <td>1.000000</td>\n    </tr>\n    <tr>\n      <th>8</th>\n      <td>14.200000</td>\n      <td>315.200000</td>\n      <td>4438.400000</td>\n      <td>14.700000</td>\n      <td>1.000000</td>\n    </tr>\n    <tr>\n      <th rowspan=\"2\" valign=\"top\">75</th>\n      <th>6</th>\n      <td>17.583333</td>\n      <td>233.750000</td>\n      <td>3398.333333</td>\n      <td>17.708333</td>\n      <td>1.000000</td>\n    </tr>\n    <tr>\n      <th>8</th>\n      <td>15.666667</td>\n      <td>330.500000</td>\n      <td>4108.833333</td>\n      <td>13.166667</td>\n      <td>1.000000</td>\n    </tr>\n    <tr>\n      <th rowspan=\"2\" valign=\"top\">76</th>\n      <th>6</th>\n      <td>20.000000</td>\n      <td>221.400000</td>\n      <td>3349.600000</td>\n      <td>17.000000</td>\n      <td>1.300000</td>\n    </tr>\n    <tr>\n      <th>8</th>\n      <td>14.666667</td>\n      <td>324.000000</td>\n      <td>4064.666667</td>\n      <td>13.222222</td>\n      <td>1.000000</td>\n    </tr>\n    <tr>\n      <th rowspan=\"2\" valign=\"top\">77</th>\n      <th>6</th>\n      <td>19.500000</td>\n      <td>220.400000</td>\n      <td>3383.000000</td>\n      <td>16.900000</td>\n      <td>1.400000</td>\n    </tr>\n    <tr>\n      <th>8</th>\n      <td>16.000000</td>\n      <td>335.750000</td>\n      <td>4177.500000</td>\n      <td>13.662500</td>\n      <td>1.000000</td>\n    </tr>\n    <tr>\n      <th rowspan=\"2\" valign=\"top\">78</th>\n      <th>6</th>\n      <td>19.066667</td>\n      <td>213.250000</td>\n      <td>3314.166667</td>\n      <td>16.391667</td>\n      <td>1.166667</td>\n    </tr>\n    <tr>\n      <th>8</th>\n      <td>19.050000</td>\n      <td>300.833333</td>\n      <td>3563.333333</td>\n      <td>13.266667</td>\n      <td>1.000000</td>\n    </tr>\n    <tr>\n      <th rowspan=\"2\" valign=\"top\">79</th>\n      <th>6</th>\n      <td>22.950000</td>\n      <td>205.666667</td>\n      <td>3025.833333</td>\n      <td>15.433333</td>\n      <td>1.000000</td>\n    </tr>\n    <tr>\n      <th>8</th>\n      <td>18.630000</td>\n      <td>321.400000</td>\n      <td>3862.900000</td>\n      <td>15.400000</td>\n      <td>1.000000</td>\n    </tr>\n    <tr>\n      <th>80</th>\n      <th>6</th>\n      <td>25.900000</td>\n      <td>196.500000</td>\n      <td>3145.500000</td>\n      <td>15.050000</td>\n      <td>2.000000</td>\n    </tr>\n    <tr>\n      <th rowspan=\"2\" valign=\"top\">81</th>\n      <th>6</th>\n      <td>23.428571</td>\n      <td>184.000000</td>\n      <td>3093.571429</td>\n      <td>15.442857</td>\n      <td>1.714286</td>\n    </tr>\n    <tr>\n      <th>8</th>\n      <td>26.600000</td>\n      <td>350.000000</td>\n      <td>3725.000000</td>\n      <td>19.000000</td>\n      <td>1.000000</td>\n    </tr>\n    <tr>\n      <th>82</th>\n      <th>6</th>\n      <td>28.333333</td>\n      <td>225.000000</td>\n      <td>2931.666667</td>\n      <td>16.033333</td>\n      <td>1.000000</td>\n    </tr>\n  </tbody>\n</table>\n</div>"
     },
     "execution_count": 70,
     "metadata": {},
     "output_type": "execute_result"
    }
   ],
   "source": [
    "d[d['cylinders'].isin([6,8])].groupby(['model_year','cylinders']).mean()\n"
   ],
   "metadata": {
    "collapsed": false
   }
  },
  {
   "cell_type": "code",
   "execution_count": 72,
   "outputs": [
    {
     "data": {
      "text/plain": "            mpg       weight\nmax   46.600000          NaN\nmean  23.514573  2970.424623\nstd         NaN   846.841774",
      "text/html": "<div>\n<style scoped>\n    .dataframe tbody tr th:only-of-type {\n        vertical-align: middle;\n    }\n\n    .dataframe tbody tr th {\n        vertical-align: top;\n    }\n\n    .dataframe thead th {\n        text-align: right;\n    }\n</style>\n<table border=\"1\" class=\"dataframe\">\n  <thead>\n    <tr style=\"text-align: right;\">\n      <th></th>\n      <th>mpg</th>\n      <th>weight</th>\n    </tr>\n  </thead>\n  <tbody>\n    <tr>\n      <th>max</th>\n      <td>46.600000</td>\n      <td>NaN</td>\n    </tr>\n    <tr>\n      <th>mean</th>\n      <td>23.514573</td>\n      <td>2970.424623</td>\n    </tr>\n    <tr>\n      <th>std</th>\n      <td>NaN</td>\n      <td>846.841774</td>\n    </tr>\n  </tbody>\n</table>\n</div>"
     },
     "execution_count": 72,
     "metadata": {},
     "output_type": "execute_result"
    }
   ],
   "source": [
    "d.agg({'mpg':['max','mean'],'weight':['mean','std']})\n"
   ],
   "metadata": {
    "collapsed": false
   }
  },
  {
   "cell_type": "code",
   "execution_count": null,
   "outputs": [],
   "source": [],
   "metadata": {
    "collapsed": false
   }
  }
 ],
 "metadata": {
  "kernelspec": {
   "display_name": "Python 3",
   "language": "python",
   "name": "python3"
  },
  "language_info": {
   "codemirror_mode": {
    "name": "ipython",
    "version": 2
   },
   "file_extension": ".py",
   "mimetype": "text/x-python",
   "name": "python",
   "nbconvert_exporter": "python",
   "pygments_lexer": "ipython2",
   "version": "2.7.6"
  }
 },
 "nbformat": 4,
 "nbformat_minor": 0
}
